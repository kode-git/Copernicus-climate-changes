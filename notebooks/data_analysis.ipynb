{
 "cells": [
  {
   "cell_type": "markdown",
   "metadata": {},
   "source": [
    "<a href=\"\" target=\"_parent\"><img src=\"https://colab.research.google.com/assets/colab-badge.svg\" alt=\"Open In Colab\"/></a>"
   ]
  },
  {
   "cell_type": "markdown",
   "metadata": {},
   "source": [
    "<img src=\"../src/copernicus-logo.png\"><span style=\"margin-left: 40px\"></span><img src=\"../src/cds-logo.jpeg\">"
   ]
  },
  {
   "cell_type": "markdown",
   "metadata": {},
   "source": [
    "# Data Analysis"
   ]
  },
  {
   "cell_type": "markdown",
   "metadata": {},
   "source": [
    "During this phase, we will try to find some correlation and autocorrelation on the final dataframe as the result of data aggregation. According to the time series techniques, we will find a sampling of data related to coordinates, and then we will use the result dataset as the input for this phase. In the data analysis procedures, we will analyze some features of the dataset variables, their autocorrelations, correlations, and aspects related to the distribution of their values over time."
   ]
  },
  {
   "cell_type": "markdown",
   "metadata": {},
   "source": [
    "## Libraries Dependencies"
   ]
  },
  {
   "cell_type": "code",
   "execution_count": 30,
   "metadata": {},
   "outputs": [
    {
     "name": "stdout",
     "output_type": "stream",
     "text": [
      "Requirement already satisfied: xarray in /usr/local/lib/python3.9/site-packages (2022.3.0)\n",
      "Requirement already satisfied: packaging>=20.0 in /usr/local/lib/python3.9/site-packages (from xarray) (21.3)\n",
      "Requirement already satisfied: numpy>=1.18 in /usr/local/lib/python3.9/site-packages (from xarray) (1.22.3)\n",
      "Requirement already satisfied: pandas>=1.1 in /usr/local/lib/python3.9/site-packages (from xarray) (1.4.2)\n",
      "Requirement already satisfied: pyparsing!=3.0.5,>=2.0.2 in /usr/local/lib/python3.9/site-packages (from packaging>=20.0->xarray) (3.0.8)\n",
      "Requirement already satisfied: pytz>=2020.1 in /usr/local/lib/python3.9/site-packages (from pandas>=1.1->xarray) (2022.1)\n",
      "Requirement already satisfied: python-dateutil>=2.8.1 in /usr/local/lib/python3.9/site-packages (from pandas>=1.1->xarray) (2.8.2)\n",
      "Requirement already satisfied: six>=1.5 in /usr/local/lib/python3.9/site-packages (from python-dateutil>=2.8.1->pandas>=1.1->xarray) (1.16.0)\n",
      "\u001b[33mWARNING: You are using pip version 22.1; however, version 22.1.2 is available.\n",
      "You should consider upgrading via the '/usr/local/opt/python@3.9/bin/python3.9 -m pip install --upgrade pip' command.\u001b[0m\u001b[33m\n",
      "\u001b[0mNote: you may need to restart the kernel to use updated packages.\n",
      "Requirement already satisfied: netCDF4 in /usr/local/lib/python3.9/site-packages (1.5.8)\n",
      "Requirement already satisfied: dask in /usr/local/lib/python3.9/site-packages (2022.5.0)\n",
      "Requirement already satisfied: bottleneck in /usr/local/lib/python3.9/site-packages (1.3.4)\n",
      "Requirement already satisfied: cftime in /usr/local/lib/python3.9/site-packages (from netCDF4) (1.6.0)\n",
      "Requirement already satisfied: numpy>=1.9 in /usr/local/lib/python3.9/site-packages (from netCDF4) (1.22.3)\n",
      "Requirement already satisfied: pyyaml>=5.3.1 in /usr/local/lib/python3.9/site-packages (from dask) (6.0)\n",
      "Requirement already satisfied: packaging>=20.0 in /usr/local/lib/python3.9/site-packages (from dask) (21.3)\n",
      "Requirement already satisfied: toolz>=0.8.2 in /usr/local/lib/python3.9/site-packages (from dask) (0.11.2)\n",
      "Requirement already satisfied: cloudpickle>=1.1.1 in /usr/local/lib/python3.9/site-packages (from dask) (2.0.0)\n",
      "Requirement already satisfied: fsspec>=0.6.0 in /usr/local/lib/python3.9/site-packages (from dask) (2022.3.0)\n",
      "Requirement already satisfied: partd>=0.3.10 in /usr/local/lib/python3.9/site-packages (from dask) (1.2.0)\n",
      "Requirement already satisfied: pyparsing!=3.0.5,>=2.0.2 in /usr/local/lib/python3.9/site-packages (from packaging>=20.0->dask) (3.0.8)\n",
      "Requirement already satisfied: locket in /usr/local/lib/python3.9/site-packages (from partd>=0.3.10->dask) (1.0.0)\n",
      "\u001b[33mWARNING: You are using pip version 22.1; however, version 22.1.2 is available.\n",
      "You should consider upgrading via the '/usr/local/opt/python@3.9/bin/python3.9 -m pip install --upgrade pip' command.\u001b[0m\u001b[33m\n",
      "\u001b[0mNote: you may need to restart the kernel to use updated packages.\n",
      "Requirement already satisfied: pandas in /usr/local/lib/python3.9/site-packages (1.4.2)\n",
      "Requirement already satisfied: python-dateutil>=2.8.1 in /usr/local/lib/python3.9/site-packages (from pandas) (2.8.2)\n",
      "Requirement already satisfied: pytz>=2020.1 in /usr/local/lib/python3.9/site-packages (from pandas) (2022.1)\n",
      "Requirement already satisfied: numpy>=1.18.5 in /usr/local/lib/python3.9/site-packages (from pandas) (1.22.3)\n",
      "Requirement already satisfied: six>=1.5 in /usr/local/lib/python3.9/site-packages (from python-dateutil>=2.8.1->pandas) (1.16.0)\n",
      "\u001b[33mWARNING: You are using pip version 22.1; however, version 22.1.2 is available.\n",
      "You should consider upgrading via the '/usr/local/opt/python@3.9/bin/python3.9 -m pip install --upgrade pip' command.\u001b[0m\u001b[33m\n",
      "\u001b[0mNote: you may need to restart the kernel to use updated packages.\n",
      "Requirement already satisfied: geopandas in /usr/local/lib/python3.9/site-packages (0.10.2)\n",
      "Requirement already satisfied: pyproj>=2.2.0 in /usr/local/lib/python3.9/site-packages (from geopandas) (3.3.1)\n",
      "Requirement already satisfied: shapely>=1.6 in /usr/local/lib/python3.9/site-packages (from geopandas) (1.8.2)\n",
      "Requirement already satisfied: pandas>=0.25.0 in /usr/local/lib/python3.9/site-packages (from geopandas) (1.4.2)\n",
      "Requirement already satisfied: fiona>=1.8 in /usr/local/lib/python3.9/site-packages (from geopandas) (1.8.21)\n",
      "Requirement already satisfied: certifi in /usr/local/lib/python3.9/site-packages (from fiona>=1.8->geopandas) (2021.10.8)\n",
      "Requirement already satisfied: attrs>=17 in /usr/local/lib/python3.9/site-packages (from fiona>=1.8->geopandas) (21.4.0)\n",
      "Requirement already satisfied: six>=1.7 in /usr/local/lib/python3.9/site-packages (from fiona>=1.8->geopandas) (1.16.0)\n",
      "Requirement already satisfied: cligj>=0.5 in /usr/local/lib/python3.9/site-packages (from fiona>=1.8->geopandas) (0.7.2)\n",
      "Requirement already satisfied: click-plugins>=1.0 in /usr/local/lib/python3.9/site-packages (from fiona>=1.8->geopandas) (1.1.1)\n",
      "Requirement already satisfied: setuptools in /usr/local/lib/python3.9/site-packages (from fiona>=1.8->geopandas) (62.3.1)\n",
      "Requirement already satisfied: click>=4.0 in /usr/local/lib/python3.9/site-packages (from fiona>=1.8->geopandas) (8.1.3)\n",
      "Requirement already satisfied: munch in /usr/local/lib/python3.9/site-packages (from fiona>=1.8->geopandas) (2.5.0)\n",
      "Requirement already satisfied: pytz>=2020.1 in /usr/local/lib/python3.9/site-packages (from pandas>=0.25.0->geopandas) (2022.1)\n",
      "Requirement already satisfied: numpy>=1.18.5 in /usr/local/lib/python3.9/site-packages (from pandas>=0.25.0->geopandas) (1.22.3)\n",
      "Requirement already satisfied: python-dateutil>=2.8.1 in /usr/local/lib/python3.9/site-packages (from pandas>=0.25.0->geopandas) (2.8.2)\n",
      "\u001b[33mWARNING: You are using pip version 22.1; however, version 22.1.2 is available.\n",
      "You should consider upgrading via the '/usr/local/opt/python@3.9/bin/python3.9 -m pip install --upgrade pip' command.\u001b[0m\u001b[33m\n",
      "\u001b[0mNote: you may need to restart the kernel to use updated packages.\n",
      "Requirement already satisfied: cdsapi in /usr/local/lib/python3.9/site-packages (0.5.1)\n",
      "Requirement already satisfied: requests>=2.5.0 in /usr/local/lib/python3.9/site-packages (from cdsapi) (2.27.1)\n",
      "Requirement already satisfied: tqdm in /usr/local/lib/python3.9/site-packages (from cdsapi) (4.64.0)\n",
      "Requirement already satisfied: urllib3<1.27,>=1.21.1 in /usr/local/lib/python3.9/site-packages (from requests>=2.5.0->cdsapi) (1.26.9)\n",
      "Requirement already satisfied: idna<4,>=2.5 in /usr/local/lib/python3.9/site-packages (from requests>=2.5.0->cdsapi) (3.3)\n",
      "Requirement already satisfied: certifi>=2017.4.17 in /usr/local/lib/python3.9/site-packages (from requests>=2.5.0->cdsapi) (2021.10.8)\n",
      "Requirement already satisfied: charset-normalizer~=2.0.0 in /usr/local/lib/python3.9/site-packages (from requests>=2.5.0->cdsapi) (2.0.12)\n",
      "\u001b[33mWARNING: You are using pip version 22.1; however, version 22.1.2 is available.\n",
      "You should consider upgrading via the '/usr/local/opt/python@3.9/bin/python3.9 -m pip install --upgrade pip' command.\u001b[0m\u001b[33m\n",
      "\u001b[0mNote: you may need to restart the kernel to use updated packages.\n",
      "Requirement already satisfied: matplotlib in /usr/local/lib/python3.9/site-packages (3.5.2)\n",
      "Requirement already satisfied: kiwisolver>=1.0.1 in /usr/local/lib/python3.9/site-packages (from matplotlib) (1.4.2)\n",
      "Requirement already satisfied: cycler>=0.10 in /usr/local/lib/python3.9/site-packages (from matplotlib) (0.11.0)\n",
      "Requirement already satisfied: python-dateutil>=2.7 in /usr/local/lib/python3.9/site-packages (from matplotlib) (2.8.2)\n",
      "Requirement already satisfied: packaging>=20.0 in /usr/local/lib/python3.9/site-packages (from matplotlib) (21.3)\n",
      "Requirement already satisfied: pyparsing>=2.2.1 in /usr/local/lib/python3.9/site-packages (from matplotlib) (3.0.8)\n",
      "Requirement already satisfied: fonttools>=4.22.0 in /usr/local/lib/python3.9/site-packages (from matplotlib) (4.33.3)\n",
      "Requirement already satisfied: numpy>=1.17 in /usr/local/lib/python3.9/site-packages (from matplotlib) (1.22.3)\n",
      "Requirement already satisfied: pillow>=6.2.0 in /usr/local/lib/python3.9/site-packages (from matplotlib) (9.1.0)\n",
      "Requirement already satisfied: six>=1.5 in /usr/local/lib/python3.9/site-packages (from python-dateutil>=2.7->matplotlib) (1.16.0)\n",
      "\u001b[33mWARNING: You are using pip version 22.1; however, version 22.1.2 is available.\n",
      "You should consider upgrading via the '/usr/local/opt/python@3.9/bin/python3.9 -m pip install --upgrade pip' command.\u001b[0m\u001b[33m\n",
      "\u001b[0mNote: you may need to restart the kernel to use updated packages.\n",
      "Requirement already satisfied: statsmodels in /usr/local/lib/python3.9/site-packages (0.13.2)\n",
      "Requirement already satisfied: packaging>=21.3 in /usr/local/lib/python3.9/site-packages (from statsmodels) (21.3)\n",
      "Requirement already satisfied: numpy>=1.17 in /usr/local/lib/python3.9/site-packages (from statsmodels) (1.22.3)\n",
      "Requirement already satisfied: pandas>=0.25 in /usr/local/lib/python3.9/site-packages (from statsmodels) (1.4.2)\n",
      "Requirement already satisfied: scipy>=1.3 in /usr/local/lib/python3.9/site-packages (from statsmodels) (1.8.1)\n",
      "Requirement already satisfied: patsy>=0.5.2 in /usr/local/lib/python3.9/site-packages (from statsmodels) (0.5.2)\n",
      "Requirement already satisfied: pyparsing!=3.0.5,>=2.0.2 in /usr/local/lib/python3.9/site-packages (from packaging>=21.3->statsmodels) (3.0.8)\n",
      "Requirement already satisfied: python-dateutil>=2.8.1 in /usr/local/lib/python3.9/site-packages (from pandas>=0.25->statsmodels) (2.8.2)\n",
      "Requirement already satisfied: pytz>=2020.1 in /usr/local/lib/python3.9/site-packages (from pandas>=0.25->statsmodels) (2022.1)\n",
      "Requirement already satisfied: six in /usr/local/lib/python3.9/site-packages (from patsy>=0.5.2->statsmodels) (1.16.0)\n",
      "\u001b[33mWARNING: You are using pip version 22.1; however, version 22.1.2 is available.\n",
      "You should consider upgrading via the '/usr/local/opt/python@3.9/bin/python3.9 -m pip install --upgrade pip' command.\u001b[0m\u001b[33m\n",
      "\u001b[0mNote: you may need to restart the kernel to use updated packages.\n",
      "Requirement already satisfied: sklearn in /usr/local/lib/python3.9/site-packages (0.0)\n",
      "Requirement already satisfied: scikit-learn in /usr/local/lib/python3.9/site-packages (from sklearn) (1.1.1)\n",
      "Requirement already satisfied: numpy>=1.17.3 in /usr/local/lib/python3.9/site-packages (from scikit-learn->sklearn) (1.22.3)\n",
      "Requirement already satisfied: threadpoolctl>=2.0.0 in /usr/local/lib/python3.9/site-packages (from scikit-learn->sklearn) (3.1.0)\n",
      "Requirement already satisfied: scipy>=1.3.2 in /usr/local/lib/python3.9/site-packages (from scikit-learn->sklearn) (1.8.1)\n",
      "Requirement already satisfied: joblib>=1.0.0 in /usr/local/lib/python3.9/site-packages (from scikit-learn->sklearn) (1.1.0)\n",
      "\u001b[33mWARNING: You are using pip version 22.1; however, version 22.1.2 is available.\n",
      "You should consider upgrading via the '/usr/local/opt/python@3.9/bin/python3.9 -m pip install --upgrade pip' command.\u001b[0m\u001b[33m\n",
      "\u001b[0mNote: you may need to restart the kernel to use updated packages.\n"
     ]
    }
   ],
   "source": [
    "# installation of dependencies for remote notebook (Jupyter or Google Colab)\n",
    "# !pip install xarray \n",
    "# !pip install netCDF4 dask bottleneck\n",
    "# !pip install pandas\n",
    "# !pip install geopandas\n",
    "# !pip install cdsapi\n",
    "# !pip instal matplotlib\n",
    "# !pip install sklearn\n",
    "\n",
    "# installation of dependencies for local notebook\n",
    "%pip install xarray \n",
    "%pip install netCDF4 dask bottleneck\n",
    "%pip install pandas\n",
    "%pip install geopandas\n",
    "%pip install cdsapi\n",
    "%pip install matplotlib\n",
    "%pip install statsmodels\n",
    "%pip install sklearn"
   ]
  },
  {
   "cell_type": "code",
   "execution_count": 31,
   "metadata": {},
   "outputs": [],
   "source": [
    "import pandas as pd # it is used for the time series management dataset.\n",
    "import numpy as np # it is used to manage collections of values in the pandas dataframe.\n",
    "import json # it is used to format data in JSON.\n",
    "import matplotlib.pyplot as plt # plot results or data distribution.\n",
    "import seaborn as sns # it is used just for zooming plots\n",
    "sns.set(rc={'figure.figsize':(15, 8)}) # set the figure default size\n",
    "from statsmodels.tsa.stattools import adfuller, grangercausalitytests, kpss # statistical tests\n",
    "from statsmodels.stats.stattools import durbin_watson # residual autocorrelation test\n",
    "from pandas.plotting import lag_plot # specific forecasting plot \n",
    "from matplotlib.axes._axes import _log as matplotlib_axes_logger # ignore plot warnings\n",
    "import warnings # ignore general warnings\n",
    "matplotlib_axes_logger.setLevel('ERROR') # display only plot errors\n",
    "warnings.filterwarnings('ignore') # to supress warning given by an adaptation for some functions"
   ]
  },
  {
   "cell_type": "markdown",
   "metadata": {},
   "source": [
    "## Loading Dataset"
   ]
  },
  {
   "cell_type": "code",
   "execution_count": 28,
   "metadata": {},
   "outputs": [],
   "source": [
    "# number of the identification related to the first year on samples data.\n",
    "j = 6\n",
    "# initialize the dataframe structure according to the data aggregation.\n",
    "df = pd.DataFrame(columns=['time', 'lat', 'lon', 'discharge', 'temp', 'prec'])\n",
    "\n",
    "# loading annual dataframes and concatenate with the past history until 2019.\n",
    "for i in range(2011, 2020):\n",
    "    tmp = pd.read_csv(\"../samples/italy-dtp-{}-{}.csv\".format(i,j), usecols=['time', 'lat', 'lon', 'discharge', 'temp', 'prec'])\n",
    "    df = pd.concat([df, tmp])\n",
    "    j += 1"
   ]
  },
  {
   "cell_type": "code",
   "execution_count": 29,
   "metadata": {},
   "outputs": [
    {
     "data": {
      "text/html": [
       "<div>\n",
       "<style scoped>\n",
       "    .dataframe tbody tr th:only-of-type {\n",
       "        vertical-align: middle;\n",
       "    }\n",
       "\n",
       "    .dataframe tbody tr th {\n",
       "        vertical-align: top;\n",
       "    }\n",
       "\n",
       "    .dataframe thead th {\n",
       "        text-align: right;\n",
       "    }\n",
       "</style>\n",
       "<table border=\"1\" class=\"dataframe\">\n",
       "  <thead>\n",
       "    <tr style=\"text-align: right;\">\n",
       "      <th></th>\n",
       "      <th>time</th>\n",
       "      <th>lat</th>\n",
       "      <th>lon</th>\n",
       "      <th>discharge</th>\n",
       "      <th>temp</th>\n",
       "      <th>prec</th>\n",
       "    </tr>\n",
       "  </thead>\n",
       "  <tbody>\n",
       "    <tr>\n",
       "      <th>0</th>\n",
       "      <td>2011-01-01 12:00:00</td>\n",
       "      <td>44.750378</td>\n",
       "      <td>7.56052</td>\n",
       "      <td>11.211914</td>\n",
       "      <td>5.205774</td>\n",
       "      <td>0.0</td>\n",
       "    </tr>\n",
       "    <tr>\n",
       "      <th>1</th>\n",
       "      <td>2011-01-02 12:00:00</td>\n",
       "      <td>44.750378</td>\n",
       "      <td>7.56052</td>\n",
       "      <td>10.950195</td>\n",
       "      <td>4.364069</td>\n",
       "      <td>0.000006</td>\n",
       "    </tr>\n",
       "    <tr>\n",
       "      <th>2</th>\n",
       "      <td>2011-01-03 12:00:00</td>\n",
       "      <td>44.750378</td>\n",
       "      <td>7.56052</td>\n",
       "      <td>10.685547</td>\n",
       "      <td>6.473016</td>\n",
       "      <td>0.000002</td>\n",
       "    </tr>\n",
       "    <tr>\n",
       "      <th>3</th>\n",
       "      <td>2011-01-04 12:00:00</td>\n",
       "      <td>44.750378</td>\n",
       "      <td>7.56052</td>\n",
       "      <td>10.419922</td>\n",
       "      <td>8.097437</td>\n",
       "      <td>0.0</td>\n",
       "    </tr>\n",
       "    <tr>\n",
       "      <th>4</th>\n",
       "      <td>2011-01-05 12:00:00</td>\n",
       "      <td>44.750378</td>\n",
       "      <td>7.56052</td>\n",
       "      <td>10.15918</td>\n",
       "      <td>6.304498</td>\n",
       "      <td>0.0</td>\n",
       "    </tr>\n",
       "  </tbody>\n",
       "</table>\n",
       "</div>"
      ],
      "text/plain": [
       "                  time        lat      lon  discharge      temp      prec\n",
       "0  2011-01-01 12:00:00  44.750378  7.56052  11.211914  5.205774       0.0\n",
       "1  2011-01-02 12:00:00  44.750378  7.56052  10.950195  4.364069  0.000006\n",
       "2  2011-01-03 12:00:00  44.750378  7.56052  10.685547  6.473016  0.000002\n",
       "3  2011-01-04 12:00:00  44.750378  7.56052  10.419922  8.097437       0.0\n",
       "4  2011-01-05 12:00:00  44.750378  7.56052   10.15918  6.304498       0.0"
      ]
     },
     "execution_count": 29,
     "metadata": {},
     "output_type": "execute_result"
    }
   ],
   "source": [
    "# print the head of dataset.\n",
    "data = df\n",
    "df.head()"
   ]
  },
  {
   "cell_type": "markdown",
   "metadata": {},
   "source": [
    "## Coordinates Plots"
   ]
  },
  {
   "cell_type": "code",
   "execution_count": 32,
   "metadata": {},
   "outputs": [
    {
     "name": "stdout",
     "output_type": "stream",
     "text": [
      "----------------------------------------\n",
      "         lat       lon  discharge       temp                 time      prec\n",
      "0  40.519886  8.314602   0.142531  17.076593  2011-01-01 12:00:00  0.000016\n",
      "1  40.520874  8.373312   0.187768  16.152763  2011-01-01 12:00:00  0.000016\n",
      "2  40.521824  8.432023   0.419754  15.181832  2011-01-01 12:00:00  0.000017\n",
      "3  40.522743  8.490736   0.600746  14.981134  2011-01-01 12:00:00  0.000017\n",
      "4  40.523624   8.54945   1.011463  15.233500  2011-01-01 12:00:00  0.000017\n",
      "----------------------------------------\n"
     ]
    },
    {
     "data": {
      "text/plain": [
       "[<matplotlib.lines.Line2D at 0x2ba3e4d30>]"
      ]
     },
     "execution_count": 32,
     "metadata": {},
     "output_type": "execute_result"
    },
    {
     "data": {
      "image/png": "[encoded data removed]",
      "text/plain": [
       "<Figure size 1080x576 with 1 Axes>"
      ]
     },
     "metadata": {},
     "output_type": "display_data"
    }
   ],
   "source": [
    "df_coordinates = df[df['discharge'] != 0]\n",
    "df_coordinates = df.groupby(by=[\"lat\", \"lon\"], as_index=False, squeeze=True)\n",
    "aggregation_functions = {'discharge': 'mean', 'temp': 'mean', 'time': 'first', 'prec' : 'mean'}\n",
    "df_coordinates = df_coordinates.aggregate(aggregation_functions)\n",
    "\n",
    "print('-'*40)\n",
    "print(df_coordinates.head())\n",
    "print('-'*40)\n",
    "plt.plot(df_coordinates['lon'], df_coordinates['lat'], '.')"
   ]
  },
  {
   "cell_type": "markdown",
   "metadata": {},
   "source": [
    "First of all, we need to filter North Italy coordinates only on river locations based on a proximity pattern matching where we assign the measurement of discharge to the nearest river. We filterd in the matching_points notebooks these points. So, we can associate each value with the filtered one."
   ]
  },
  {
   "cell_type": "code",
   "execution_count": 33,
   "metadata": {},
   "outputs": [
    {
     "data": {
      "text/html": [
       "<div>\n",
       "<style scoped>\n",
       "    .dataframe tbody tr th:only-of-type {\n",
       "        vertical-align: middle;\n",
       "    }\n",
       "\n",
       "    .dataframe tbody tr th {\n",
       "        vertical-align: top;\n",
       "    }\n",
       "\n",
       "    .dataframe thead th {\n",
       "        text-align: right;\n",
       "    }\n",
       "</style>\n",
       "<table border=\"1\" class=\"dataframe\">\n",
       "  <thead>\n",
       "    <tr style=\"text-align: right;\">\n",
       "      <th></th>\n",
       "      <th></th>\n",
       "      <th>lat</th>\n",
       "      <th>lon</th>\n",
       "      <th>discharge</th>\n",
       "      <th>temp</th>\n",
       "      <th>prec</th>\n",
       "    </tr>\n",
       "    <tr>\n",
       "      <th>coords</th>\n",
       "      <th>time</th>\n",
       "      <th></th>\n",
       "      <th></th>\n",
       "      <th></th>\n",
       "      <th></th>\n",
       "      <th></th>\n",
       "    </tr>\n",
       "  </thead>\n",
       "  <tbody>\n",
       "    <tr>\n",
       "      <th rowspan=\"5\" valign=\"top\">(41.23425, 13.701608)</th>\n",
       "      <th>2019-12-27 12:00:00</th>\n",
       "      <td>41.23425</td>\n",
       "      <td>13.701608</td>\n",
       "      <td>1.253906</td>\n",
       "      <td>9.257745</td>\n",
       "      <td>0.0</td>\n",
       "    </tr>\n",
       "    <tr>\n",
       "      <th>2019-12-28 12:00:00</th>\n",
       "      <td>41.23425</td>\n",
       "      <td>13.701608</td>\n",
       "      <td>1.119141</td>\n",
       "      <td>6.976892</td>\n",
       "      <td>0.0</td>\n",
       "    </tr>\n",
       "    <tr>\n",
       "      <th>2019-12-29 12:00:00</th>\n",
       "      <td>41.23425</td>\n",
       "      <td>13.701608</td>\n",
       "      <td>0.998535</td>\n",
       "      <td>9.014337</td>\n",
       "      <td>0.0</td>\n",
       "    </tr>\n",
       "    <tr>\n",
       "      <th>2019-12-30 12:00:00</th>\n",
       "      <td>41.23425</td>\n",
       "      <td>13.701608</td>\n",
       "      <td>0.892578</td>\n",
       "      <td>9.458612</td>\n",
       "      <td>0.00001</td>\n",
       "    </tr>\n",
       "    <tr>\n",
       "      <th>2019-12-31 12:00:00</th>\n",
       "      <td>41.23425</td>\n",
       "      <td>13.701608</td>\n",
       "      <td>0.80127</td>\n",
       "      <td>9.968561</td>\n",
       "      <td>0.0</td>\n",
       "    </tr>\n",
       "  </tbody>\n",
       "</table>\n",
       "</div>"
      ],
      "text/plain": [
       "                                                lat        lon discharge  \\\n",
       "coords                time                                                 \n",
       "(41.23425, 13.701608) 2019-12-27 12:00:00  41.23425  13.701608  1.253906   \n",
       "                      2019-12-28 12:00:00  41.23425  13.701608  1.119141   \n",
       "                      2019-12-29 12:00:00  41.23425  13.701608  0.998535   \n",
       "                      2019-12-30 12:00:00  41.23425  13.701608  0.892578   \n",
       "                      2019-12-31 12:00:00  41.23425  13.701608   0.80127   \n",
       "\n",
       "                                               temp     prec  \n",
       "coords                time                                    \n",
       "(41.23425, 13.701608) 2019-12-27 12:00:00  9.257745      0.0  \n",
       "                      2019-12-28 12:00:00  6.976892      0.0  \n",
       "                      2019-12-29 12:00:00  9.014337      0.0  \n",
       "                      2019-12-30 12:00:00  9.458612  0.00001  \n",
       "                      2019-12-31 12:00:00  9.968561      0.0  "
      ]
     },
     "execution_count": 33,
     "metadata": {},
     "output_type": "execute_result"
    }
   ],
   "source": [
    "# set the coordinates as index of the dataframe\n",
    "df_drop = df.drop(columns = ['time', 'discharge', 'temp', 'prec'], inplace=False)\n",
    "df['coords'] = df_drop.apply(tuple, axis=1)\n",
    "df = df.set_index(['coords', 'time'])\n",
    "df.tail()"
   ]
  },
  {
   "cell_type": "code",
   "execution_count": 34,
   "metadata": {},
   "outputs": [
    {
     "data": {
      "text/plain": [
       "[<matplotlib.lines.Line2D at 0x2ba7ddcd0>]"
      ]
     },
     "execution_count": 34,
     "metadata": {},
     "output_type": "execute_result"
    },
    {
     "data": {
      "image/png": "[encoded data removed]",
      "text/plain": [
       "<Figure size 1080x576 with 1 Axes>"
      ]
     },
     "metadata": {},
     "output_type": "display_data"
    }
   ],
   "source": [
    "# filter points from original dataset to geojson coordinates related to river positions.\n",
    "coords = json.load(open('../app/static/data/points.geojson', 'r'))\n",
    "lats = []\n",
    "longs = []\n",
    "for coord in coords['features'][:]:\n",
    "    sample = coord['geometry']['coordinates']\n",
    "    lats.append(sample[1])\n",
    "    longs.append(sample[0])\n",
    "\n",
    "# plot coordinates\n",
    "plt.plot(df_coordinates['lon'], df_coordinates['lat'], '.', color='gray')\n",
    "plt.plot(longs, lats, '.', color='blue')\n",
    "\n"
   ]
  },
  {
   "cell_type": "markdown",
   "metadata": {},
   "source": [
    "The previous plot shows the interested data from the original dataset related to river discharge measurements. Actually, our dataframe contains the total amount of coordinates of the North Italy, so we need to delete coordinates by index using a patter matching between the pair of river coordinates with dataframe indices. "
   ]
  },
  {
   "cell_type": "code",
   "execution_count": 35,
   "metadata": {},
   "outputs": [
    {
     "data": {
      "text/plain": [
       "[(44.841927, 7.6197023),\n",
       " (45.068577, 7.673447),\n",
       " (45.023533, 7.6753263),\n",
       " (44.97849, 7.677202),\n",
       " (44.93344, 7.679074),\n",
       " (44.93344, 7.679074),\n",
       " (44.888393, 7.680941),\n",
       " (44.843346, 7.682805),\n",
       " (45.115005, 7.734975),\n",
       " (45.06996, 7.736807)]"
      ]
     },
     "execution_count": 35,
     "metadata": {},
     "output_type": "execute_result"
    }
   ],
   "source": [
    "coords_tuple = []\n",
    "for i in range(len(lats)):\n",
    "    coords_tuple.append(tuple([lats[i], longs[i]]))\n",
    "coords_tuple[:10]"
   ]
  },
  {
   "cell_type": "code",
   "execution_count": 36,
   "metadata": {},
   "outputs": [],
   "source": [
    "rivers = pd.DataFrame()\n",
    "rivers = data[data['coords'].isin(coords_tuple)]"
   ]
  },
  {
   "cell_type": "code",
   "execution_count": 37,
   "metadata": {},
   "outputs": [
    {
     "data": {
      "text/html": [
       "<div>\n",
       "<style scoped>\n",
       "    .dataframe tbody tr th:only-of-type {\n",
       "        vertical-align: middle;\n",
       "    }\n",
       "\n",
       "    .dataframe tbody tr th {\n",
       "        vertical-align: top;\n",
       "    }\n",
       "\n",
       "    .dataframe thead th {\n",
       "        text-align: right;\n",
       "    }\n",
       "</style>\n",
       "<table border=\"1\" class=\"dataframe\">\n",
       "  <thead>\n",
       "    <tr style=\"text-align: right;\">\n",
       "      <th></th>\n",
       "      <th>time</th>\n",
       "      <th>lat</th>\n",
       "      <th>lon</th>\n",
       "      <th>discharge</th>\n",
       "      <th>temp</th>\n",
       "      <th>prec</th>\n",
       "      <th>coords</th>\n",
       "    </tr>\n",
       "  </thead>\n",
       "  <tbody>\n",
       "    <tr>\n",
       "      <th>18980</th>\n",
       "      <td>2011-01-01 12:00:00</td>\n",
       "      <td>44.841927</td>\n",
       "      <td>7.619702</td>\n",
       "      <td>58.29492</td>\n",
       "      <td>5.29165</td>\n",
       "      <td>0.0</td>\n",
       "      <td>(44.841927, 7.6197023)</td>\n",
       "    </tr>\n",
       "    <tr>\n",
       "      <th>18981</th>\n",
       "      <td>2011-01-02 12:00:00</td>\n",
       "      <td>44.841927</td>\n",
       "      <td>7.619702</td>\n",
       "      <td>56.325195</td>\n",
       "      <td>4.353876</td>\n",
       "      <td>0.000002</td>\n",
       "      <td>(44.841927, 7.6197023)</td>\n",
       "    </tr>\n",
       "    <tr>\n",
       "      <th>18982</th>\n",
       "      <td>2011-01-03 12:00:00</td>\n",
       "      <td>44.841927</td>\n",
       "      <td>7.619702</td>\n",
       "      <td>54.467773</td>\n",
       "      <td>5.771906</td>\n",
       "      <td>0.000001</td>\n",
       "      <td>(44.841927, 7.6197023)</td>\n",
       "    </tr>\n",
       "    <tr>\n",
       "      <th>18983</th>\n",
       "      <td>2011-01-04 12:00:00</td>\n",
       "      <td>44.841927</td>\n",
       "      <td>7.619702</td>\n",
       "      <td>52.753906</td>\n",
       "      <td>8.080682</td>\n",
       "      <td>0.0</td>\n",
       "      <td>(44.841927, 7.6197023)</td>\n",
       "    </tr>\n",
       "    <tr>\n",
       "      <th>18984</th>\n",
       "      <td>2011-01-05 12:00:00</td>\n",
       "      <td>44.841927</td>\n",
       "      <td>7.619702</td>\n",
       "      <td>51.195312</td>\n",
       "      <td>6.497247</td>\n",
       "      <td>0.0</td>\n",
       "      <td>(44.841927, 7.6197023)</td>\n",
       "    </tr>\n",
       "  </tbody>\n",
       "</table>\n",
       "</div>"
      ],
      "text/plain": [
       "                      time        lat       lon  discharge      temp  \\\n",
       "18980  2011-01-01 12:00:00  44.841927  7.619702   58.29492   5.29165   \n",
       "18981  2011-01-02 12:00:00  44.841927  7.619702  56.325195  4.353876   \n",
       "18982  2011-01-03 12:00:00  44.841927  7.619702  54.467773  5.771906   \n",
       "18983  2011-01-04 12:00:00  44.841927  7.619702  52.753906  8.080682   \n",
       "18984  2011-01-05 12:00:00  44.841927  7.619702  51.195312  6.497247   \n",
       "\n",
       "           prec                  coords  \n",
       "18980       0.0  (44.841927, 7.6197023)  \n",
       "18981  0.000002  (44.841927, 7.6197023)  \n",
       "18982  0.000001  (44.841927, 7.6197023)  \n",
       "18983       0.0  (44.841927, 7.6197023)  \n",
       "18984       0.0  (44.841927, 7.6197023)  "
      ]
     },
     "execution_count": 37,
     "metadata": {},
     "output_type": "execute_result"
    }
   ],
   "source": [
    "rivers.head()"
   ]
  },
  {
   "cell_type": "code",
   "execution_count": 38,
   "metadata": {},
   "outputs": [
    {
     "data": {
      "text/plain": [
       "[<matplotlib.lines.Line2D at 0x452fb8490>]"
      ]
     },
     "execution_count": 38,
     "metadata": {},
     "output_type": "execute_result"
    },
    {
     "data": {
      "image/png": "[encoded data removed]",
      "text/plain": [
       "<Figure size 1080x576 with 1 Axes>"
      ]
     },
     "metadata": {},
     "output_type": "display_data"
    }
   ],
   "source": [
    "coords_rivers = rivers.groupby(by=[\"lat\", \"lon\"], as_index=False, squeeze=True)\n",
    "aggregation_functions = {'discharge': 'mean', 'temp': 'mean', 'time': 'first', 'prec' : 'mean'}\n",
    "coords_rivers = coords_rivers.aggregate(aggregation_functions)\n",
    "plt.plot(df_coordinates['lon'], df_coordinates['lat'], '.', color='gray')\n",
    "plt.plot(coords_rivers['lon'], coords_rivers['lat'], '.', color='blue')"
   ]
  },
  {
   "cell_type": "code",
   "execution_count": 39,
   "metadata": {},
   "outputs": [
    {
     "data": {
      "text/html": [
       "<div>\n",
       "<style scoped>\n",
       "    .dataframe tbody tr th:only-of-type {\n",
       "        vertical-align: middle;\n",
       "    }\n",
       "\n",
       "    .dataframe tbody tr th {\n",
       "        vertical-align: top;\n",
       "    }\n",
       "\n",
       "    .dataframe thead th {\n",
       "        text-align: right;\n",
       "    }\n",
       "</style>\n",
       "<table border=\"1\" class=\"dataframe\">\n",
       "  <thead>\n",
       "    <tr style=\"text-align: right;\">\n",
       "      <th></th>\n",
       "      <th>lat</th>\n",
       "      <th>lon</th>\n",
       "      <th>discharge</th>\n",
       "      <th>temp</th>\n",
       "      <th>time</th>\n",
       "      <th>prec</th>\n",
       "    </tr>\n",
       "  </thead>\n",
       "  <tbody>\n",
       "    <tr>\n",
       "      <th>0</th>\n",
       "      <td>41.730213</td>\n",
       "      <td>12.233403</td>\n",
       "      <td>217.905603</td>\n",
       "      <td>16.373907</td>\n",
       "      <td>2011-01-01 12:00:00</td>\n",
       "      <td>0.000021</td>\n",
       "    </tr>\n",
       "    <tr>\n",
       "      <th>1</th>\n",
       "      <td>41.774025</td>\n",
       "      <td>12.294938</td>\n",
       "      <td>217.534538</td>\n",
       "      <td>16.323665</td>\n",
       "      <td>2011-01-01 12:00:00</td>\n",
       "      <td>0.000021</td>\n",
       "    </tr>\n",
       "    <tr>\n",
       "      <th>2</th>\n",
       "      <td>41.77538</td>\n",
       "      <td>12.235047</td>\n",
       "      <td>0.408188</td>\n",
       "      <td>16.272904</td>\n",
       "      <td>2011-01-01 12:00:00</td>\n",
       "      <td>0.000020</td>\n",
       "    </tr>\n",
       "    <tr>\n",
       "      <th>3</th>\n",
       "      <td>41.81637</td>\n",
       "      <td>12.416491</td>\n",
       "      <td>214.655165</td>\n",
       "      <td>16.466457</td>\n",
       "      <td>2011-01-01 12:00:00</td>\n",
       "      <td>0.000023</td>\n",
       "    </tr>\n",
       "    <tr>\n",
       "      <th>4</th>\n",
       "      <td>41.817795</td>\n",
       "      <td>12.356562</td>\n",
       "      <td>216.510760</td>\n",
       "      <td>16.344858</td>\n",
       "      <td>2011-01-01 12:00:00</td>\n",
       "      <td>0.000022</td>\n",
       "    </tr>\n",
       "  </tbody>\n",
       "</table>\n",
       "</div>"
      ],
      "text/plain": [
       "         lat        lon   discharge       temp                 time      prec\n",
       "0  41.730213  12.233403  217.905603  16.373907  2011-01-01 12:00:00  0.000021\n",
       "1  41.774025  12.294938  217.534538  16.323665  2011-01-01 12:00:00  0.000021\n",
       "2   41.77538  12.235047    0.408188  16.272904  2011-01-01 12:00:00  0.000020\n",
       "3   41.81637  12.416491  214.655165  16.466457  2011-01-01 12:00:00  0.000023\n",
       "4  41.817795  12.356562  216.510760  16.344858  2011-01-01 12:00:00  0.000022"
      ]
     },
     "execution_count": 39,
     "metadata": {},
     "output_type": "execute_result"
    }
   ],
   "source": [
    "coords_rivers.head()"
   ]
  },
  {
   "cell_type": "code",
   "execution_count": 40,
   "metadata": {},
   "outputs": [
    {
     "data": {
      "text/plain": [
       "[<matplotlib.lines.Line2D at 0x452e2c9a0>]"
      ]
     },
     "execution_count": 40,
     "metadata": {},
     "output_type": "execute_result"
    },
    {
     "data": {
      "image/png": "[encoded data removed]",
      "text/plain": [
       "<Figure size 1080x576 with 1 Axes>"
      ]
     },
     "metadata": {},
     "output_type": "display_data"
    }
   ],
   "source": [
    "plt.plot(coords_rivers['lon'], coords_rivers['lat'], '.', color='blue')"
   ]
  },
  {
   "cell_type": "markdown",
   "metadata": {},
   "source": [
    "The last plot shows the difference in the locations stored in the final dataset. So, we can already use data to analyze their correlation with features and past values over time. We will analyze autocorrelation and feature correlations using different statistical tests to accept or refuse our different hypotheses on data observations. Then we can make some conclusions that may help for the modeling phase."
   ]
  },
  {
   "cell_type": "markdown",
   "metadata": {},
   "source": [
    "## Data Correlations"
   ]
  },
  {
   "cell_type": "markdown",
   "metadata": {},
   "source": [
    "This section shows some statistical analysis that can retrieve important information about the behavior of time series related to one or more features. According to our analysis, we need to consider only river locations and ignore the approximation given by coordinates that do not hit the river surface (approximately in the distance greater than 2.5 km)."
   ]
  },
  {
   "cell_type": "code",
   "execution_count": 41,
   "metadata": {},
   "outputs": [
    {
     "name": "stdout",
     "output_type": "stream",
     "text": [
      "<class 'pandas.core.frame.DataFrame'>\n",
      "Int64Index: 1518594 entries, 18980 to 2719979\n",
      "Data columns (total 7 columns):\n",
      " #   Column     Non-Null Count    Dtype \n",
      "---  ------     --------------    ----- \n",
      " 0   time       1518594 non-null  object\n",
      " 1   lat        1518594 non-null  object\n",
      " 2   lon        1518594 non-null  object\n",
      " 3   discharge  1518594 non-null  object\n",
      " 4   temp       1518594 non-null  object\n",
      " 5   prec       1518594 non-null  object\n",
      " 6   coords     1518594 non-null  object\n",
      "dtypes: object(7)\n",
      "memory usage: 92.7+ MB\n"
     ]
    }
   ],
   "source": [
    "rivers.info()"
   ]
  },
  {
   "cell_type": "markdown",
   "metadata": {},
   "source": [
    "Rivers dataset has 6 columns with non-null representations. It consists in different time series filtered by geographical location given by latitude and longitude values combinations. Discharges, temperatures and precipitations changes over time for a same location and gives a time series visualization. The latitude and longitude are duplicated in 3 different columns: 2 for single values and 1 with a pair."
   ]
  },
  {
   "cell_type": "code",
   "execution_count": 42,
   "metadata": {},
   "outputs": [
    {
     "name": "stdout",
     "output_type": "stream",
     "text": [
      "Total Points: 462\n"
     ]
    }
   ],
   "source": [
    "print('Total Points: {}'.format(rivers['coords'].nunique()))\n",
    "coordinates = list(set(rivers['coords'])) # we take each coordinates 1 time."
   ]
  },
  {
   "cell_type": "markdown",
   "metadata": {},
   "source": [
    "According to the previous output, we have 481 different unique points with a related time series for discharge, temperature and precipitation fields."
   ]
  },
  {
   "cell_type": "code",
   "execution_count": 43,
   "metadata": {},
   "outputs": [
    {
     "data": {
      "text/plain": [
       "18980      2011-01-01 12:00:00\n",
       "18981      2011-01-02 12:00:00\n",
       "18982      2011-01-03 12:00:00\n",
       "18983      2011-01-04 12:00:00\n",
       "18984      2011-01-05 12:00:00\n",
       "                  ...         \n",
       "2719975    2019-12-27 12:00:00\n",
       "2719976    2019-12-28 12:00:00\n",
       "2719977    2019-12-29 12:00:00\n",
       "2719978    2019-12-30 12:00:00\n",
       "2719979    2019-12-31 12:00:00\n",
       "Name: time, Length: 1518594, dtype: object"
      ]
     },
     "execution_count": 43,
     "metadata": {},
     "output_type": "execute_result"
    }
   ],
   "source": [
    "rivers['time']"
   ]
  },
  {
   "cell_type": "markdown",
   "metadata": {},
   "source": [
    "We prepare data for splitting in time and locations. We already add a column related to the combination to latitude and longitude in an unique value. So, we let only split the time. In our case, time series is already daily because every measurement is done only 1 time per day at 12:00 a.m. and we can divide the $datetime$ only on days, months and years."
   ]
  },
  {
   "cell_type": "code",
   "execution_count": 44,
   "metadata": {},
   "outputs": [
    {
     "data": {
      "text/html": [
       "<div>\n",
       "<style scoped>\n",
       "    .dataframe tbody tr th:only-of-type {\n",
       "        vertical-align: middle;\n",
       "    }\n",
       "\n",
       "    .dataframe tbody tr th {\n",
       "        vertical-align: top;\n",
       "    }\n",
       "\n",
       "    .dataframe thead th {\n",
       "        text-align: right;\n",
       "    }\n",
       "</style>\n",
       "<table border=\"1\" class=\"dataframe\">\n",
       "  <thead>\n",
       "    <tr style=\"text-align: right;\">\n",
       "      <th></th>\n",
       "      <th>time</th>\n",
       "      <th>lat</th>\n",
       "      <th>lon</th>\n",
       "      <th>discharge</th>\n",
       "      <th>temp</th>\n",
       "      <th>prec</th>\n",
       "      <th>coords</th>\n",
       "    </tr>\n",
       "  </thead>\n",
       "  <tbody>\n",
       "    <tr>\n",
       "      <th>18980</th>\n",
       "      <td>2011-01-01 12:00:00</td>\n",
       "      <td>44.841927</td>\n",
       "      <td>7.619702</td>\n",
       "      <td>58.29492</td>\n",
       "      <td>5.29165</td>\n",
       "      <td>0.0</td>\n",
       "      <td>(44.841927, 7.6197023)</td>\n",
       "    </tr>\n",
       "    <tr>\n",
       "      <th>18981</th>\n",
       "      <td>2011-01-02 12:00:00</td>\n",
       "      <td>44.841927</td>\n",
       "      <td>7.619702</td>\n",
       "      <td>56.325195</td>\n",
       "      <td>4.353876</td>\n",
       "      <td>0.000002</td>\n",
       "      <td>(44.841927, 7.6197023)</td>\n",
       "    </tr>\n",
       "    <tr>\n",
       "      <th>18982</th>\n",
       "      <td>2011-01-03 12:00:00</td>\n",
       "      <td>44.841927</td>\n",
       "      <td>7.619702</td>\n",
       "      <td>54.467773</td>\n",
       "      <td>5.771906</td>\n",
       "      <td>0.000001</td>\n",
       "      <td>(44.841927, 7.6197023)</td>\n",
       "    </tr>\n",
       "    <tr>\n",
       "      <th>18983</th>\n",
       "      <td>2011-01-04 12:00:00</td>\n",
       "      <td>44.841927</td>\n",
       "      <td>7.619702</td>\n",
       "      <td>52.753906</td>\n",
       "      <td>8.080682</td>\n",
       "      <td>0.0</td>\n",
       "      <td>(44.841927, 7.6197023)</td>\n",
       "    </tr>\n",
       "    <tr>\n",
       "      <th>18984</th>\n",
       "      <td>2011-01-05 12:00:00</td>\n",
       "      <td>44.841927</td>\n",
       "      <td>7.619702</td>\n",
       "      <td>51.195312</td>\n",
       "      <td>6.497247</td>\n",
       "      <td>0.0</td>\n",
       "      <td>(44.841927, 7.6197023)</td>\n",
       "    </tr>\n",
       "  </tbody>\n",
       "</table>\n",
       "</div>"
      ],
      "text/plain": [
       "                      time        lat       lon  discharge      temp  \\\n",
       "18980  2011-01-01 12:00:00  44.841927  7.619702   58.29492   5.29165   \n",
       "18981  2011-01-02 12:00:00  44.841927  7.619702  56.325195  4.353876   \n",
       "18982  2011-01-03 12:00:00  44.841927  7.619702  54.467773  5.771906   \n",
       "18983  2011-01-04 12:00:00  44.841927  7.619702  52.753906  8.080682   \n",
       "18984  2011-01-05 12:00:00  44.841927  7.619702  51.195312  6.497247   \n",
       "\n",
       "           prec                  coords  \n",
       "18980       0.0  (44.841927, 7.6197023)  \n",
       "18981  0.000002  (44.841927, 7.6197023)  \n",
       "18982  0.000001  (44.841927, 7.6197023)  \n",
       "18983       0.0  (44.841927, 7.6197023)  \n",
       "18984       0.0  (44.841927, 7.6197023)  "
      ]
     },
     "execution_count": 44,
     "metadata": {},
     "output_type": "execute_result"
    }
   ],
   "source": [
    "rivers.head()"
   ]
  },
  {
   "cell_type": "code",
   "execution_count": 45,
   "metadata": {},
   "outputs": [
    {
     "data": {
      "text/plain": [
       "[(45.225395, 9.065623),\n",
       " (44.950962, 8.690675),\n",
       " (45.22481, 9.002067),\n",
       " (42.084316, 12.547628),\n",
       " (44.578274, 7.9451356),\n",
       " (45.124073, 11.7957),\n",
       " (45.0442, 11.032715),\n",
       " (44.627335, 11.842756),\n",
       " (42.497784, 12.261804),\n",
       " (44.622078, 7.880634)]"
      ]
     },
     "execution_count": 45,
     "metadata": {},
     "output_type": "execute_result"
    }
   ],
   "source": [
    "coordinates[:10]"
   ]
  },
  {
   "cell_type": "code",
   "execution_count": 46,
   "metadata": {},
   "outputs": [
    {
     "name": "stdout",
     "output_type": "stream",
     "text": [
      "Source Po:\n",
      "------------------------------------------------------------\n",
      "                      time  discharge      temp      prec\n",
      "18980  2011-01-01 12:00:00   58.29492   5.29165       0.0\n",
      "18981  2011-01-02 12:00:00  56.325195  4.353876  0.000002\n",
      "18982  2011-01-03 12:00:00  54.467773  5.771906  0.000001\n",
      "18983  2011-01-04 12:00:00  52.753906  8.080682       0.0\n",
      "18984  2011-01-05 12:00:00  51.195312  6.497247       0.0\n",
      "------------------------------------------------------------\n",
      "Outfall Po:\n",
      "                        time  discharge      temp      prec\n",
      "2497330  2011-01-01 12:00:00  1917.3906  7.559625   0.00005\n",
      "2497331  2011-01-02 12:00:00  1743.9287  8.169244  0.000243\n",
      "2497332  2011-01-03 12:00:00  1610.3262  7.101831  0.000044\n",
      "2497333  2011-01-04 12:00:00  1504.0117  8.676447  0.000011\n",
      "2497334  2011-01-05 12:00:00  1410.6719   5.42074       0.0\n"
     ]
    }
   ],
   "source": [
    "# Po river on the source side\n",
    "source_po = rivers[rivers['coords'] == (44.841927, 7.6197023)]\n",
    "source_po = source_po.drop(columns=['lat', 'lon', 'coords'])\n",
    "\n",
    "# Po river on the outfall\n",
    "outfall_po = rivers[rivers['coords'] ==  (44.97764, 12.360751)]\n",
    "outfall_po = outfall_po.drop(columns=['lat', 'lon', 'coords'])\n",
    "\n",
    "print('Source Po:')\n",
    "print(\"-\"*60)\n",
    "print(source_po.head())\n",
    "print(\"-\"*60)\n",
    "print('Outfall Po:')\n",
    "print(outfall_po.head())\n"
   ]
  },
  {
   "cell_type": "code",
   "execution_count": 47,
   "metadata": {},
   "outputs": [
    {
     "data": {
      "image/png": "[encoded data removed]",
      "text/plain": [
       "<Figure size 1080x576 with 6 Axes>"
      ]
     },
     "metadata": {},
     "output_type": "display_data"
    }
   ],
   "source": [
    "fig, axs = plt.subplots(2, 3)\n",
    "lag_plot(source_po['prec'], ax=axs[0,0])\n",
    "axs[0, 0].set_title('Precipitations')\n",
    "\n",
    "lag_plot(source_po['temp'], ax=axs[0,1])\n",
    "axs[0, 1].set_title('Temperatures')\n",
    "\n",
    "lag_plot(source_po['discharge'], ax=axs[0,2])\n",
    "axs[0, 2].set_title('River Discharges')\n",
    "\n",
    "\n",
    "lag_plot(outfall_po['prec'], ax=axs[1,0])\n",
    "axs[0, 0].set_title('Precipitations')\n",
    "\n",
    "lag_plot(outfall_po['temp'], ax=axs[1,1])\n",
    "axs[0, 1].set_title('Temperatures')\n",
    "\n",
    "lag_plot(outfall_po['discharge'], ax=axs[1,2])\n",
    "axs[0, 2].set_title('River Discharges')\n",
    "\n",
    "# Hide x labels and tick labels for top plots and y ticks for right plots.\n",
    "for ax in axs.flat:\n",
    "    ax.label_outer()"
   ]
  },
  {
   "cell_type": "markdown",
   "metadata": {},
   "source": [
    "The lag plot can show if there is some autocorrelation related to the linearity of the distribution. Images belove show positive linear trends for temperature and discharge, and this should be an observation related to positive autocorrelations for these features. Meanwhile, precipitations have a significant amount of outliers, and it is not even linear, so it does not present any autocorrelation."
   ]
  },
  {
   "cell_type": "markdown",
   "metadata": {},
   "source": [
    "## Augmented Dickey-Fuller Tests"
   ]
  },
  {
   "cell_type": "markdown",
   "metadata": {},
   "source": [
    "Augmented Dickey Fuller test (ADF Test) is a common statistical test used to test whether a given Time series is stationary or not. It is one of the most commonly used statistical test when it comes to analyzing the stationary of a series. So, we can use it to test the stationary for the temperatures, precipitations and discharges on the selected samples."
   ]
  },
  {
   "cell_type": "code",
   "execution_count": 48,
   "metadata": {},
   "outputs": [
    {
     "name": "stdout",
     "output_type": "stream",
     "text": [
      "ADF on River Discharges:\n",
      "ADF Statistic: -8.302082743969079\n",
      "p-value: 3.9932422349932996e-13\n",
      "H0 rejected: It is stationary\n",
      "Critical Values:\n",
      "\t1%: -3.4323470795742725\n",
      "\t5%: -2.8624223911394444\n",
      "\t10%: -2.5672397153452704\n",
      "----------------------------------------\n",
      "ADF on Precipitations:\n",
      "ADF Statistic: -42.74859229328238\n",
      "p-value: 0.0\n",
      "H0 rejected: It is stationary\n",
      "Critical Values:\n",
      "\t1%: -3.4323416055066382\n",
      "\t5%: -2.86241997328205\n",
      "\t10%: -2.5672384281310743\n",
      "----------------------------------------\n",
      "ADF on Air Temperatures:\n",
      "ADF Statistic: -3.464986848000463\n",
      "p-value: 0.008933176686532518\n",
      "H0 rejected: It is stationary\n",
      "Critical Values:\n",
      "\t1%: -3.432348910956668\n",
      "\t5%: -2.8624232000472514\n",
      "\t10%: -2.5672401459901955\n"
     ]
    }
   ],
   "source": [
    "## ADF Null hypothesis: there is a unit root, meaning series is non-stationary\n",
    "\n",
    "print('ADF on River Discharges:')\n",
    "DIS = np.array(source_po['discharge'])\n",
    "result = adfuller(DIS)\n",
    "print('ADF Statistic: {}'.format(result[0]))\n",
    "print('p-value: {}'.format(result[1]))\n",
    "if result[1] < 0.05:\n",
    "    print('H0 rejected: It is stationary')\n",
    "else:\n",
    "    print('H0 accepted: It is not stationary')\n",
    "print('Critical Values:')\n",
    "for key, value in result[4].items():\n",
    "    print('\\t{}: {}'.format(key, value))\n",
    "\n",
    "print('-'*40)\n",
    "print('ADF on Precipitations:')\n",
    "PREC = np.array(source_po['prec'])\n",
    "result = adfuller(PREC)\n",
    "print('ADF Statistic: {}'.format(result[0]))\n",
    "print('p-value: {}'.format(result[1]))\n",
    "if result[1] < 0.05:\n",
    "    print('H0 rejected: It is stationary')\n",
    "else:\n",
    "    print('H0 accepted: It is not stationary')\n",
    "print('Critical Values:')\n",
    "for key, value in result[4].items():\n",
    "    print('\\t{}: {}'.format(key, value))\n",
    "\n",
    "print('-'*40)\n",
    "print('ADF on Air Temperatures:')\n",
    "TEMP = np.array(source_po['temp'])\n",
    "result = adfuller(TEMP)\n",
    "print('ADF Statistic: {}'.format(result[0]))\n",
    "print('p-value: {}'.format(result[1]))\n",
    "if result[1] < 0.05:\n",
    "    print('H0 rejected: It is stationary')\n",
    "else:\n",
    "    print('H0 accepted: It is not stationary')\n",
    "print('Critical Values:')\n",
    "for key, value in result[4].items():\n",
    "    print('\\t{}: {}'.format(key, value))"
   ]
  },
  {
   "cell_type": "code",
   "execution_count": 49,
   "metadata": {},
   "outputs": [
    {
     "name": "stdout",
     "output_type": "stream",
     "text": [
      "ADF on River Discharges:\n",
      "ADF Statistic: -8.302082743969079\n",
      "p-value: 3.9932422349932996e-13\n",
      "H0 rejected: It is stationary\n",
      "Critical Values:\n",
      "\t1%: -3.4323470795742725\n",
      "\t5%: -2.8624223911394444\n",
      "\t10%: -2.5672397153452704\n",
      "----------------------------------------\n",
      "ADF on Precipitations:\n",
      "ADF Statistic: -42.74859229328238\n",
      "p-value: 0.0\n",
      "H0 rejected: It is stationary\n",
      "Critical Values:\n",
      "\t1%: -3.4323416055066382\n",
      "\t5%: -2.86241997328205\n",
      "\t10%: -2.5672384281310743\n",
      "----------------------------------------\n",
      "ADF on Air Temperatures:\n",
      "ADF Statistic: -3.464986848000463\n",
      "p-value: 0.008933176686532518\n",
      "H0 rejected: It is stationary\n",
      "Critical Values:\n",
      "\t1%: -3.432348910956668\n",
      "\t5%: -2.8624232000472514\n",
      "\t10%: -2.5672401459901955\n"
     ]
    }
   ],
   "source": [
    "print('ADF on River Discharges:')\n",
    "DIS2 = np.array(outfall_po['discharge'])\n",
    "result = adfuller(DIS)\n",
    "print('ADF Statistic: {}'.format(result[0]))\n",
    "print('p-value: {}'.format(result[1]))\n",
    "if result[1] < 0.05:\n",
    "    print('H0 rejected: It is stationary')\n",
    "else:\n",
    "    print('H0 accepted: It is not stationary')\n",
    "print('Critical Values:')\n",
    "for key, value in result[4].items():\n",
    "    print('\\t{}: {}'.format(key, value))\n",
    "\n",
    "print('-'*40)\n",
    "print('ADF on Precipitations:')\n",
    "PREC2 = np.array(outfall_po['prec'])\n",
    "result = adfuller(PREC)\n",
    "print('ADF Statistic: {}'.format(result[0]))\n",
    "print('p-value: {}'.format(result[1]))\n",
    "if result[1] < 0.05:\n",
    "    print('H0 rejected: It is stationary')\n",
    "else:\n",
    "    print('H0 accepted: It is not stationary')\n",
    "print('Critical Values:')\n",
    "for key, value in result[4].items():\n",
    "    print('\\t{}: {}'.format(key, value))\n",
    "\n",
    "print('-'*40)\n",
    "print('ADF on Air Temperatures:')\n",
    "TEMP2 = np.array(outfall_po['temp'])\n",
    "result = adfuller(TEMP)\n",
    "print('ADF Statistic: {}'.format(result[0]))\n",
    "print('p-value: {}'.format(result[1]))\n",
    "if result[1] < 0.05:\n",
    "    print('H0 rejected: It is stationary')\n",
    "else:\n",
    "    print('H0 accepted: It is not stationary')\n",
    "print('Critical Values:')\n",
    "for key, value in result[4].items():\n",
    "    print('\\t{}: {}'.format(key, value))"
   ]
  },
  {
   "cell_type": "markdown",
   "metadata": {},
   "source": [
    "ADF is a significant test based on Unit Root categories. The ADf expands the Dickey-Fuller Test including high order regressive process in the model. \n",
    "\n",
    "$ y_t = c + \\beta t + \\alpha y_{t-1} + \\Theta_{1} \\Lambda Y_{t-1} + \\Theta_{2} \\Lambda Y_{t-2}...+ \\Theta_{p} \\Lambda Y_{t-p} + e_t$ ; $ p \\in [1..t] $ \n",
    "\n",
    "The Dickey-Fuller test has a null hypothesis of the existence of the unit root that can make the time series not stationary, which is equal to that $ \\alpha = 1 $ in the previous equation. "
   ]
  },
  {
   "cell_type": "markdown",
   "metadata": {},
   "source": [
    "## KPSS Test "
   ]
  },
  {
   "cell_type": "markdown",
   "metadata": {},
   "source": [
    "Alternatively to the Augmented Dickey-Fuller test, the KPSS Test has a null hypothesis that confirms the stationary. So, we should reject the null hypothesis and accept the alternative one to determine the correct observation."
   ]
  },
  {
   "cell_type": "code",
   "execution_count": 50,
   "metadata": {},
   "outputs": [
    {
     "name": "stdout",
     "output_type": "stream",
     "text": [
      "Source of Po:\n",
      "KPSS Statistic: 0.6249608178481902\n",
      "p-value: 0.020367198377437248\n",
      "num lags: 34\n",
      "Critial Values:\n",
      "   10% : 0.347\n",
      "   5% : 0.463\n",
      "   2.5% : 0.574\n",
      "   1% : 0.739\n",
      "Result: The series is not stationary\n",
      "Discharge River KPSS:\n",
      "None\n",
      "KPSS Statistic: 0.07627372249303115\n",
      "p-value: 0.1\n",
      "num lags: 36\n",
      "Critial Values:\n",
      "   10% : 0.347\n",
      "   5% : 0.463\n",
      "   2.5% : 0.574\n",
      "   1% : 0.739\n",
      "Result: The series is stationary\n",
      "Air Temperature KPSS:\n",
      "None\n",
      "KPSS Statistic: 0.08555647146040779\n",
      "p-value: 0.1\n",
      "num lags: 14\n",
      "Critial Values:\n",
      "   10% : 0.347\n",
      "   5% : 0.463\n",
      "   2.5% : 0.574\n",
      "   1% : 0.739\n",
      "Result: The series is stationary\n",
      "Precipitations KPSS:\n",
      "None\n"
     ]
    }
   ],
   "source": [
    "## KPSS Null hypothesis: there is a no unit root, meaning series is stationary\n",
    "def kpss_test(series, **kw):    \n",
    "    statistic, p_value, n_lags, critical_values = kpss(series, **kw)\n",
    "    # Format Output\n",
    "    print(f'KPSS Statistic: {statistic}')\n",
    "    print(f'p-value: {p_value}')\n",
    "    print(f'num lags: {n_lags}')\n",
    "    print('Critial Values:')\n",
    "    for key, value in critical_values.items():\n",
    "        print(f'   {key} : {value}')\n",
    "    print(f'Result: The series is {\"not \" if p_value < 0.05 else \"\"}stationary')\n",
    "\n",
    "print('Source of Po:')\n",
    "print('Discharge River KPSS:\\n{}'.format(kpss_test(DIS)))\n",
    "print('Air Temperature KPSS:\\n{}'.format(kpss_test(TEMP)))\n",
    "print('Precipitations KPSS:\\n{}'.format(kpss_test(PREC)))"
   ]
  },
  {
   "cell_type": "code",
   "execution_count": 51,
   "metadata": {},
   "outputs": [
    {
     "name": "stdout",
     "output_type": "stream",
     "text": [
      "Ovefall of Po:\n",
      "KPSS Statistic: 0.3025661959148959\n",
      "p-value: 0.1\n",
      "num lags: 34\n",
      "Critial Values:\n",
      "   10% : 0.347\n",
      "   5% : 0.463\n",
      "   2.5% : 0.574\n",
      "   1% : 0.739\n",
      "Result: The series is stationary\n",
      "Discharge River KPSS:\n",
      "None\n",
      "KPSS Statistic: 0.03335310310204365\n",
      "p-value: 0.1\n",
      "num lags: 49\n",
      "Critial Values:\n",
      "   10% : 0.347\n",
      "   5% : 0.463\n",
      "   2.5% : 0.574\n",
      "   1% : 0.739\n",
      "Result: The series is stationary\n",
      "Air Temperature KPSS:\n",
      "None\n",
      "KPSS Statistic: 0.09390294579773587\n",
      "p-value: 0.1\n",
      "num lags: 19\n",
      "Critial Values:\n",
      "   10% : 0.347\n",
      "   5% : 0.463\n",
      "   2.5% : 0.574\n",
      "   1% : 0.739\n",
      "Result: The series is stationary\n",
      "Precipitations KPSS:\n",
      "None\n"
     ]
    }
   ],
   "source": [
    "print('Ovefall of Po:')\n",
    "print('Discharge River KPSS:\\n{}'.format(kpss_test(DIS2)))\n",
    "print('Air Temperature KPSS:\\n{}'.format(kpss_test(outfall_po['temp'].diff().dropna())))\n",
    "print('Precipitations KPSS:\\n{}'.format(kpss_test(PREC2)))"
   ]
  },
  {
   "cell_type": "markdown",
   "metadata": {},
   "source": [
    "We verified that each time series is stationary in a long-term analysis. This observation should help during the modelling phase for the model selection. "
   ]
  },
  {
   "cell_type": "markdown",
   "metadata": {},
   "source": [
    "## Granger Causality"
   ]
  },
  {
   "cell_type": "code",
   "execution_count": 65,
   "metadata": {},
   "outputs": [],
   "source": [
    "# training and validation splitting \n",
    "data = source_po.set_index('time')\n",
    "data2 = outfall_po.set_index('time')"
   ]
  },
  {
   "cell_type": "code",
   "execution_count": 66,
   "metadata": {},
   "outputs": [],
   "source": [
    "from statsmodels.tsa.stattools import grangercausalitytests\n",
    "maxlag = 19\n",
    "test = 'ssr_chi2test'\n",
    "def grangers_causation_matrix(data, variables, test='ssr_chi2test', verbose=True):    \n",
    "    \"\"\"Application of the Granger Causality test on data using filtered parameters given\n",
    "    by the columns of the input dataframe. This function return the confusion matrix about the \n",
    "    causality relations between x and y where x (cols) causes y (rows).\n",
    "\n",
    "    Args:\n",
    "        data (pd.DataFrame): input dataframe\n",
    "        variables (np.Array): array of variables related to the time series of the granger causality testing\n",
    "        test (str, optional): Type of test related to the granger causality, values are internal of fixed values (ssr_ftest, ssr_chi2test, params_ftest, lrtest)\n",
    "        verbose (bool, optional): Verbose mode. Defaults to False.\n",
    "\n",
    "    Returns:\n",
    "        pd.DataFrame: It is a fixed DataFrame from pandas library where the current\n",
    "    \"\"\"\n",
    "    df = pd.DataFrame(np.zeros((len(variables), len(variables))), columns=variables, index=variables)\n",
    "    for c in df.columns:\n",
    "        for r in df.index:\n",
    "            test_result = grangercausalitytests(data[[r, c]], maxlag=maxlag, verbose=False)\n",
    "            p_values = [round(test_result[i+1][0][test][1],4) for i in range(maxlag)]\n",
    "            if verbose: print(f'Y = {r}, X = {c}, P Values = {p_values}')\n",
    "            min_p_value = np.min(p_values)\n",
    "            df.loc[r, c] = min_p_value\n",
    "    df.columns = [var + '_x' for var in variables]\n",
    "    df.index = [var + '_y' for var in variables]\n",
    "    return df"
   ]
  },
  {
   "cell_type": "code",
   "execution_count": 67,
   "metadata": {},
   "outputs": [
    {
     "name": "stdout",
     "output_type": "stream",
     "text": [
      "Granger causality on chi2test:\n",
      "             discharge_x  temp_x  prec_x\n",
      "discharge_y       1.0000  0.2805  0.0863\n",
      "temp_y            0.0122  1.0000  0.0000\n",
      "prec_y            0.0018  0.0608  1.0000\n",
      "\n",
      "Granger causality on lrtest:\n",
      "             discharge_x  temp_x  prec_x\n",
      "discharge_y       1.0000  0.2806  0.0864\n",
      "temp_y            0.0128  1.0000  0.0000\n",
      "prec_y            0.0019  0.0609  1.0000\n",
      "\n",
      "Granger causality on ssr_ftest:\n",
      "             discharge_x  temp_x  prec_x\n",
      "discharge_y       1.0000  0.2808  0.0865\n",
      "temp_y            0.0139  1.0000  0.0000\n",
      "prec_y            0.0020  0.0610  1.0000\n",
      "\n"
     ]
    }
   ],
   "source": [
    "print('Granger causality on chi2test:\\n{}\\n'.format(grangers_causation_matrix(data, variables = data.columns, verbose=False)))\n",
    "print('Granger causality on lrtest:\\n{}\\n'.format(grangers_causation_matrix(data, variables = data.columns, test='lrtest', verbose=False)))\n",
    "print('Granger causality on ssr_ftest:\\n{}\\n'.format(grangers_causation_matrix(data, variables = data.columns, test='ssr_ftest', verbose=False)))"
   ]
  },
  {
   "cell_type": "code",
   "execution_count": 68,
   "metadata": {},
   "outputs": [
    {
     "name": "stdout",
     "output_type": "stream",
     "text": [
      "Granger causality on chi2test:\n",
      "             discharge_x  temp_x  prec_x\n",
      "discharge_y       1.0000  0.4889  0.0423\n",
      "temp_y            0.0246  1.0000  0.0283\n",
      "prec_y            0.2099  0.4473  1.0000\n",
      "\n",
      "Granger causality on lrtest:\n",
      "             discharge_x  temp_x  prec_x\n",
      "discharge_y        1.000  0.4889  0.0436\n",
      "temp_y             0.025  1.0000  0.0285\n",
      "prec_y             0.210  0.4474  1.0000\n",
      "\n",
      "Granger causality on ssr_ftest:\n",
      "             discharge_x  temp_x  prec_x\n",
      "discharge_y       1.0000  0.4891  0.0461\n",
      "temp_y            0.0258  1.0000  0.0287\n",
      "prec_y            0.2102  0.4479  1.0000\n",
      "\n"
     ]
    }
   ],
   "source": [
    "print('Granger causality on chi2test:\\n{}\\n'.format(grangers_causation_matrix(data2, variables = data2.columns, verbose=False)))\n",
    "print('Granger causality on lrtest:\\n{}\\n'.format(grangers_causation_matrix(data2, variables = data2.columns, test='lrtest', verbose=False)))\n",
    "print('Granger causality on ssr_ftest:\\n{}\\n'.format(grangers_causation_matrix(data2, variables = data2.columns, test='ssr_ftest', verbose=False)))"
   ]
  }
 ],
 "metadata": {
  "kernelspec": {
   "display_name": "Python 3.9.13 64-bit",
   "language": "python",
   "name": "python3"
  },
  "language_info": {
   "codemirror_mode": {
    "name": "ipython",
    "version": 3
   },
   "file_extension": ".py",
   "mimetype": "text/x-python",
   "name": "python",
   "nbconvert_exporter": "python",
   "pygments_lexer": "ipython3",
   "version": "3.9.13"
  },
  "orig_nbformat": 4,
  "vscode": {
   "interpreter": {
    "hash": "aee8b7b246df8f9039afb4144a1f6fd8d2ca17a180786b69acc140d282b71a49"
   }
  }
 },
 "nbformat": 4,
 "nbformat_minor": 2
}
