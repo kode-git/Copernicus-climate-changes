{
  "cells": [
    {
      "cell_type": "markdown",
      "metadata": {},
      "source": [
        "<img src=\"../src/copernicus-logo.png\"><span style=\"margin-left: 40px\"></span><img src=\"../src/cds-logo.jpeg\">"
      ]
    },
    {
      "cell_type": "markdown",
      "metadata": {},
      "source": [
        "# Data Aggregation"
      ]
    },
    {
      "cell_type": "markdown",
      "metadata": {},
      "source": [
        "In this notebook, we manages data to retrieves them in a time series format. In our case, the final application will manage geo-spatial points given by GPS coordinates and a time series related. We didn't aggregate them in a generalization mechanisms like clustering method because the measurement of a point in a specific time is related to an approximation of 2.5 $km^2$ on a specific area. So, we manipulate information to create time-dependant datasets in each location of the north of Italy and over time in an interval of 10 years (01-01-2011 to 31-12-2021)."
      ]
    },
    {
      "cell_type": "markdown",
      "metadata": {},
      "source": [
        "## Libraries Dependencies"
      ]
    },
    {
      "cell_type": "code",
      "execution_count": 10,
      "metadata": {},
      "outputs": [
        {
          "name": "stdout",
          "output_type": "stream",
          "text": [
            "Requirement already satisfied: xarray in ./venv/lib/python3.9/site-packages (2022.3.0)\n",
            "Requirement already satisfied: pandas>=1.1 in ./venv/lib/python3.9/site-packages (from xarray) (1.4.2)\n",
            "Requirement already satisfied: numpy>=1.18 in ./venv/lib/python3.9/site-packages (from xarray) (1.22.4)\n",
            "Requirement already satisfied: packaging>=20.0 in ./venv/lib/python3.9/site-packages (from xarray) (21.3)\n",
            "Requirement already satisfied: pyparsing!=3.0.5,>=2.0.2 in ./venv/lib/python3.9/site-packages (from packaging>=20.0->xarray) (3.0.9)\n",
            "Requirement already satisfied: pytz>=2020.1 in ./venv/lib/python3.9/site-packages (from pandas>=1.1->xarray) (2022.1)\n",
            "Requirement already satisfied: python-dateutil>=2.8.1 in ./venv/lib/python3.9/site-packages (from pandas>=1.1->xarray) (2.8.2)\n",
            "Requirement already satisfied: six>=1.5 in ./venv/lib/python3.9/site-packages (from python-dateutil>=2.8.1->pandas>=1.1->xarray) (1.16.0)\n",
            "\u001b[33mWARNING: You are using pip version 22.0.4; however, version 22.1.1 is available.\n",
            "You should consider upgrading via the '/Users/kode/Desktop/Copernicus-river-discharges/venv/bin/python -m pip install --upgrade pip' command.\u001b[0m\u001b[33m\n",
            "\u001b[0mNote: you may need to restart the kernel to use updated packages.\n",
            "Requirement already satisfied: netCDF4 in ./venv/lib/python3.9/site-packages (1.5.8)\n",
            "Requirement already satisfied: dask in ./venv/lib/python3.9/site-packages (2022.5.1)\n",
            "Requirement already satisfied: bottleneck in ./venv/lib/python3.9/site-packages (1.3.4)\n",
            "Requirement already satisfied: cftime in ./venv/lib/python3.9/site-packages (from netCDF4) (1.6.0)\n",
            "Requirement already satisfied: numpy>=1.9 in ./venv/lib/python3.9/site-packages (from netCDF4) (1.22.4)\n",
            "Requirement already satisfied: partd>=0.3.10 in ./venv/lib/python3.9/site-packages (from dask) (1.2.0)\n",
            "Requirement already satisfied: pyyaml>=5.3.1 in ./venv/lib/python3.9/site-packages (from dask) (6.0)\n",
            "Requirement already satisfied: packaging>=20.0 in ./venv/lib/python3.9/site-packages (from dask) (21.3)\n",
            "Requirement already satisfied: cloudpickle>=1.1.1 in ./venv/lib/python3.9/site-packages (from dask) (2.1.0)\n",
            "Requirement already satisfied: fsspec>=0.6.0 in ./venv/lib/python3.9/site-packages (from dask) (2022.5.0)\n",
            "Requirement already satisfied: toolz>=0.8.2 in ./venv/lib/python3.9/site-packages (from dask) (0.11.2)\n",
            "Requirement already satisfied: pyparsing!=3.0.5,>=2.0.2 in ./venv/lib/python3.9/site-packages (from packaging>=20.0->dask) (3.0.9)\n",
            "Requirement already satisfied: locket in ./venv/lib/python3.9/site-packages (from partd>=0.3.10->dask) (1.0.0)\n",
            "\u001b[33mWARNING: You are using pip version 22.0.4; however, version 22.1.1 is available.\n",
            "You should consider upgrading via the '/Users/kode/Desktop/Copernicus-river-discharges/venv/bin/python -m pip install --upgrade pip' command.\u001b[0m\u001b[33m\n",
            "\u001b[0mNote: you may need to restart the kernel to use updated packages.\n",
            "Requirement already satisfied: pandas in ./venv/lib/python3.9/site-packages (1.4.2)\n",
            "Requirement already satisfied: python-dateutil>=2.8.1 in ./venv/lib/python3.9/site-packages (from pandas) (2.8.2)\n",
            "Requirement already satisfied: pytz>=2020.1 in ./venv/lib/python3.9/site-packages (from pandas) (2022.1)\n",
            "Requirement already satisfied: numpy>=1.18.5 in ./venv/lib/python3.9/site-packages (from pandas) (1.22.4)\n",
            "Requirement already satisfied: six>=1.5 in ./venv/lib/python3.9/site-packages (from python-dateutil>=2.8.1->pandas) (1.16.0)\n",
            "\u001b[33mWARNING: You are using pip version 22.0.4; however, version 22.1.1 is available.\n",
            "You should consider upgrading via the '/Users/kode/Desktop/Copernicus-river-discharges/venv/bin/python -m pip install --upgrade pip' command.\u001b[0m\u001b[33m\n",
            "\u001b[0mNote: you may need to restart the kernel to use updated packages.\n",
            "Requirement already satisfied: geopandas in ./venv/lib/python3.9/site-packages (0.10.2)\n",
            "Requirement already satisfied: pyproj>=2.2.0 in ./venv/lib/python3.9/site-packages (from geopandas) (3.3.1)\n",
            "Requirement already satisfied: shapely>=1.6 in ./venv/lib/python3.9/site-packages (from geopandas) (1.8.2)\n",
            "Requirement already satisfied: fiona>=1.8 in ./venv/lib/python3.9/site-packages (from geopandas) (1.8.21)\n",
            "Requirement already satisfied: pandas>=0.25.0 in ./venv/lib/python3.9/site-packages (from geopandas) (1.4.2)\n",
            "Requirement already satisfied: setuptools in ./venv/lib/python3.9/site-packages (from fiona>=1.8->geopandas) (60.10.0)\n",
            "Requirement already satisfied: click-plugins>=1.0 in ./venv/lib/python3.9/site-packages (from fiona>=1.8->geopandas) (1.1.1)\n",
            "Requirement already satisfied: cligj>=0.5 in ./venv/lib/python3.9/site-packages (from fiona>=1.8->geopandas) (0.7.2)\n",
            "Requirement already satisfied: certifi in ./venv/lib/python3.9/site-packages (from fiona>=1.8->geopandas) (2021.10.8)\n",
            "Requirement already satisfied: six>=1.7 in ./venv/lib/python3.9/site-packages (from fiona>=1.8->geopandas) (1.16.0)\n",
            "Requirement already satisfied: attrs>=17 in ./venv/lib/python3.9/site-packages (from fiona>=1.8->geopandas) (21.4.0)\n",
            "Requirement already satisfied: click>=4.0 in ./venv/lib/python3.9/site-packages (from fiona>=1.8->geopandas) (8.1.3)\n",
            "Requirement already satisfied: munch in ./venv/lib/python3.9/site-packages (from fiona>=1.8->geopandas) (2.5.0)\n",
            "Requirement already satisfied: numpy>=1.18.5 in ./venv/lib/python3.9/site-packages (from pandas>=0.25.0->geopandas) (1.22.4)\n",
            "Requirement already satisfied: pytz>=2020.1 in ./venv/lib/python3.9/site-packages (from pandas>=0.25.0->geopandas) (2022.1)\n",
            "Requirement already satisfied: python-dateutil>=2.8.1 in ./venv/lib/python3.9/site-packages (from pandas>=0.25.0->geopandas) (2.8.2)\n",
            "\u001b[33mWARNING: You are using pip version 22.0.4; however, version 22.1.1 is available.\n",
            "You should consider upgrading via the '/Users/kode/Desktop/Copernicus-river-discharges/venv/bin/python -m pip install --upgrade pip' command.\u001b[0m\u001b[33m\n",
            "\u001b[0mNote: you may need to restart the kernel to use updated packages.\n",
            "Requirement already satisfied: cdsapi in ./venv/lib/python3.9/site-packages (0.5.1)\n",
            "Requirement already satisfied: tqdm in ./venv/lib/python3.9/site-packages (from cdsapi) (4.64.0)\n",
            "Requirement already satisfied: requests>=2.5.0 in ./venv/lib/python3.9/site-packages (from cdsapi) (2.27.1)\n",
            "Requirement already satisfied: idna<4,>=2.5 in ./venv/lib/python3.9/site-packages (from requests>=2.5.0->cdsapi) (3.3)\n",
            "Requirement already satisfied: urllib3<1.27,>=1.21.1 in ./venv/lib/python3.9/site-packages (from requests>=2.5.0->cdsapi) (1.26.9)\n",
            "Requirement already satisfied: charset-normalizer~=2.0.0 in ./venv/lib/python3.9/site-packages (from requests>=2.5.0->cdsapi) (2.0.12)\n",
            "Requirement already satisfied: certifi>=2017.4.17 in ./venv/lib/python3.9/site-packages (from requests>=2.5.0->cdsapi) (2021.10.8)\n",
            "\u001b[33mWARNING: You are using pip version 22.0.4; however, version 22.1.1 is available.\n",
            "You should consider upgrading via the '/Users/kode/Desktop/Copernicus-river-discharges/venv/bin/python -m pip install --upgrade pip' command.\u001b[0m\u001b[33m\n",
            "\u001b[0mNote: you may need to restart the kernel to use updated packages.\n",
            "Requirement already satisfied: matplotlib in ./venv/lib/python3.9/site-packages (3.5.2)\n",
            "Requirement already satisfied: pyparsing>=2.2.1 in ./venv/lib/python3.9/site-packages (from matplotlib) (3.0.9)\n",
            "Requirement already satisfied: python-dateutil>=2.7 in ./venv/lib/python3.9/site-packages (from matplotlib) (2.8.2)\n",
            "Requirement already satisfied: pillow>=6.2.0 in ./venv/lib/python3.9/site-packages (from matplotlib) (9.1.1)\n",
            "Requirement already satisfied: packaging>=20.0 in ./venv/lib/python3.9/site-packages (from matplotlib) (21.3)\n",
            "Requirement already satisfied: numpy>=1.17 in ./venv/lib/python3.9/site-packages (from matplotlib) (1.22.4)\n",
            "Requirement already satisfied: cycler>=0.10 in ./venv/lib/python3.9/site-packages (from matplotlib) (0.11.0)\n",
            "Requirement already satisfied: fonttools>=4.22.0 in ./venv/lib/python3.9/site-packages (from matplotlib) (4.33.3)\n",
            "Requirement already satisfied: kiwisolver>=1.0.1 in ./venv/lib/python3.9/site-packages (from matplotlib) (1.4.2)\n",
            "Requirement already satisfied: six>=1.5 in ./venv/lib/python3.9/site-packages (from python-dateutil>=2.7->matplotlib) (1.16.0)\n",
            "\u001b[33mWARNING: You are using pip version 22.0.4; however, version 22.1.1 is available.\n",
            "You should consider upgrading via the '/Users/kode/Desktop/Copernicus-river-discharges/venv/bin/python -m pip install --upgrade pip' command.\u001b[0m\u001b[33m\n",
            "\u001b[0mNote: you may need to restart the kernel to use updated packages.\n",
            "Requirement already satisfied: statsmodels in ./venv/lib/python3.9/site-packages (0.13.2)\n",
            "Requirement already satisfied: scipy>=1.3 in ./venv/lib/python3.9/site-packages (from statsmodels) (1.8.1)\n",
            "Requirement already satisfied: patsy>=0.5.2 in ./venv/lib/python3.9/site-packages (from statsmodels) (0.5.2)\n",
            "Requirement already satisfied: packaging>=21.3 in ./venv/lib/python3.9/site-packages (from statsmodels) (21.3)\n",
            "Requirement already satisfied: pandas>=0.25 in ./venv/lib/python3.9/site-packages (from statsmodels) (1.4.2)\n",
            "Requirement already satisfied: numpy>=1.17 in ./venv/lib/python3.9/site-packages (from statsmodels) (1.22.4)\n",
            "Requirement already satisfied: pyparsing!=3.0.5,>=2.0.2 in ./venv/lib/python3.9/site-packages (from packaging>=21.3->statsmodels) (3.0.9)\n",
            "Requirement already satisfied: pytz>=2020.1 in ./venv/lib/python3.9/site-packages (from pandas>=0.25->statsmodels) (2022.1)\n",
            "Requirement already satisfied: python-dateutil>=2.8.1 in ./venv/lib/python3.9/site-packages (from pandas>=0.25->statsmodels) (2.8.2)\n",
            "Requirement already satisfied: six in ./venv/lib/python3.9/site-packages (from patsy>=0.5.2->statsmodels) (1.16.0)\n",
            "\u001b[33mWARNING: You are using pip version 22.0.4; however, version 22.1.1 is available.\n",
            "You should consider upgrading via the '/Users/kode/Desktop/Copernicus-river-discharges/venv/bin/python -m pip install --upgrade pip' command.\u001b[0m\u001b[33m\n",
            "\u001b[0mNote: you may need to restart the kernel to use updated packages.\n",
            "Collecting sklearn\n",
            "  Downloading sklearn-0.0.tar.gz (1.1 kB)\n",
            "  Preparing metadata (setup.py) ... \u001b[?25ldone\n",
            "\u001b[?25hCollecting scikit-learn\n",
            "  Downloading scikit_learn-1.1.1-cp39-cp39-macosx_10_13_x86_64.whl (8.6 MB)\n",
            "\u001b[2K     \u001b[90m━━━━━━━━━━━━━━━━━━━━━━━━━━━━━━━━━━━━━━━━\u001b[0m \u001b[32m8.6/8.6 MB\u001b[0m \u001b[31m28.6 MB/s\u001b[0m eta \u001b[36m0:00:00\u001b[0m00:01\u001b[0m00:01\u001b[0m\n",
            "\u001b[?25hRequirement already satisfied: scipy>=1.3.2 in ./venv/lib/python3.9/site-packages (from scikit-learn->sklearn) (1.8.1)\n",
            "Collecting threadpoolctl>=2.0.0\n",
            "  Using cached threadpoolctl-3.1.0-py3-none-any.whl (14 kB)\n",
            "Collecting joblib>=1.0.0\n",
            "  Using cached joblib-1.1.0-py2.py3-none-any.whl (306 kB)\n",
            "Requirement already satisfied: numpy>=1.17.3 in ./venv/lib/python3.9/site-packages (from scikit-learn->sklearn) (1.22.4)\n",
            "Using legacy 'setup.py install' for sklearn, since package 'wheel' is not installed.\n",
            "Installing collected packages: threadpoolctl, joblib, scikit-learn, sklearn\n",
            "  Running setup.py install for sklearn ... \u001b[?25ldone\n",
            "\u001b[?25hSuccessfully installed joblib-1.1.0 scikit-learn-1.1.1 sklearn-0.0 threadpoolctl-3.1.0\n",
            "\u001b[33mWARNING: You are using pip version 22.0.4; however, version 22.1.1 is available.\n",
            "You should consider upgrading via the '/Users/kode/Desktop/Copernicus-river-discharges/venv/bin/python -m pip install --upgrade pip' command.\u001b[0m\u001b[33m\n",
            "\u001b[0mNote: you may need to restart the kernel to use updated packages.\n"
          ]
        }
      ],
      "source": [
        "# installation of dependencies for remote notebook (Jupyter or Google Colab)\n",
        "# !pip install xarray \n",
        "# !pip install netCDF4 dask bottleneck\n",
        "# !pip install pandas\n",
        "# !pip install geopandas\n",
        "# !pip install cdsapi\n",
        "# !pip instal matplotlib\n",
        "# !pip install sklearn\n",
        "\n",
        "# installation of dependencies for local notebook\n",
        "%pip install xarray \n",
        "%pip install netCDF4 dask bottleneck\n",
        "%pip install pandas\n",
        "%pip install geopandas\n",
        "%pip install cdsapi\n",
        "%pip install matplotlib\n",
        "%pip install statsmodels\n",
        "%pip install sklearn"
      ]
    },
    {
      "cell_type": "markdown",
      "metadata": {},
      "source": [
        "## Integration between TPI and RDH "
      ]
    },
    {
      "cell_type": "code",
      "execution_count": 1,
      "metadata": {},
      "outputs": [],
      "source": [
        "import netCDF4 # to manipulate the original dataset.\n",
        "import pandas as pd # it is used for the time series management dataset.\n",
        "import numpy as np # it is used to manage collections of values in the pandas dataframe.\n",
        "import json # it is used to format data in JSON.\n",
        "import matplotlib.pyplot as plt # plot results or data distribution.\n",
        "import seaborn as sns # it is used just for zooming plots\n",
        "sns.set(rc={'figure.figsize':(15, 8)}) # set the figure default size"
      ]
    },
    {
      "cell_type": "code",
      "execution_count": null,
      "metadata": {
        "id": "CyVC-fT4-E-8"
      },
      "outputs": [],
      "source": [
        "source = open(\"./samples/map-italy-loc.json\", \"r\") # file with the i.j indexes for the lat lon inside the north Italy rectangle, saved in the same directory of coordinates.\n",
        "ljson = json.load(source)\n",
        "source.close()\n",
        "\n",
        "i_dim = 949 # index of the last element for temperature and precipitation since in a file i goes from 0 to 949 and in the other two it goes from 949 to 0.\n",
        "\n",
        "# header for the csv file.\n",
        "header = ['time', 'lat', 'lon', 'discharge', 'temp', 'prec']\n",
        "\n",
        "# years in the discharge file\n",
        "d_years = ['2013-2014-2', '2015-2016-3', '2017-2018-4', '2019-2020-5', '2021-2022-6'] \n",
        "\n",
        "# years in the temperature and precipitation file\n",
        "p_t_years = ['2013-8', '2014-9', '2015-10', '2016-11', '2017-12', '2018-13', '2019-14', '2020-15', '2021-16']\n",
        "\n",
        "# testing years\n",
        "d_years = ['2021-2022-6']\n",
        "p_t_years = ['2021-16', '2022-17']\n",
        "\n",
        "for idf_d in range(0, len(d_years)):\n",
        "# Edit file path\n",
        "    nc_d = netCDF4.Dataset('./samples/rdh-'+d_years[idf_d] +'.nc')\n",
        "    # for each discharge file there are two yers of temperature and precipitation files, so they are indexed adding to the index of the discharge file.\n",
        "    for idf_d_t in range(0, 2):\n",
        "        year = p_t_years[idf_d+idf_d_t]\n",
        "        nc_p = netCDF4.Dataset('./samples/tpi-prec-' + year + '.nc')\n",
        "        nc_t = netCDF4.Dataset('./samples/tpi-temp-' + year + '.nc')\n",
        "\n",
        "        # variables that need to be saved, avoiding to have too many indexes later.\n",
        "        # the time for the timestamp is taken from the precipitation file.\n",
        "        time_var = nc_p.variables['time']\n",
        "        dtime = netCDF4.num2date(time_var[:],time_var.units)\n",
        "        discharge = nc_d.variables['dis06']\n",
        "        lat = nc_d.variables['latitude']\n",
        "        lon = nc_d.variables['longitude']\n",
        "        temp = nc_t.variables['tasAdjust']\n",
        "        prec = nc_p.variables['prAdjust']\n",
        "        # for each year write the header of the csv file.\n",
        "        ds = pd.DataFrame(data = [], columns = header)\n",
        "        ds.to_csv('italy-dtp-' + year + '.csv', mode='w', index=True)\n",
        "        # for each timestamp (so for each day) create a new empty dataframe.\n",
        "        for l in ljson:\n",
        "            ds = pd.DataFrame(data = [], columns=header)\n",
        "            len_ds = len(ds)\n",
        "            for t in range(0, len(dtime)):\n",
        "                ds.loc[len_ds] = [dtime[t], lat[l[0]][l[1]], lon[l[0]][l[1]], discharge[t+(365*idf_d_t)][l[0]][l[1]], temp[t][i_dim-l[0]][l[1]]-273.15, prec[t][i_dim-l[0]][l[1]]]\n",
        "                len_ds += 1\n",
        "            # when the timestamp is done write the dataframe to the file, without the header.\n",
        "            ds.to_csv('italy-dtp-' + year + '.csv', mode='a', index=True, header=False)"
      ]
    },
    {
      "cell_type": "markdown",
      "metadata": {},
      "source": [
        "## Display Aggregation Results"
      ]
    },
    {
      "cell_type": "markdown",
      "metadata": {},
      "source": [
        "We aggregate data from temperatures and precipitations dataset according to discharge locations in a geographical pattern matching. We can filter each point over time by the coordinates over time to defines a specific time series related to a river monitoring location. In addition, we can retrieve data like precipitation, temperature and river discharge directly during the same filtering process."
      ]
    },
    {
      "cell_type": "code",
      "execution_count": 2,
      "metadata": {},
      "outputs": [],
      "source": [
        "# number of the identification related to the first year on samples data.\n",
        "j = 11 \n",
        "# initialize the dataframe structure according to the data aggregation.\n",
        "df = pd.DataFrame(columns=['time', 'lat', 'lon', 'discharge', 'temp', 'prec'])\n",
        "\n",
        "# loading annual dataframes and concatenate with the past history until 2019.\n",
        "for i in range(2016, 2019):\n",
        "    tmp = pd.read_csv(\"samples/italy-dtp-{}-{}.csv\".format(i,j), usecols=['time', 'lat', 'lon', 'discharge', 'temp', 'prec'])\n",
        "    df = pd.concat([df, tmp])\n",
        "    j += 1"
      ]
    },
    {
      "cell_type": "code",
      "execution_count": 3,
      "metadata": {},
      "outputs": [
        {
          "data": {
            "text/html": [
              "<div>\n",
              "<style scoped>\n",
              "    .dataframe tbody tr th:only-of-type {\n",
              "        vertical-align: middle;\n",
              "    }\n",
              "\n",
              "    .dataframe tbody tr th {\n",
              "        vertical-align: top;\n",
              "    }\n",
              "\n",
              "    .dataframe thead th {\n",
              "        text-align: right;\n",
              "    }\n",
              "</style>\n",
              "<table border=\"1\" class=\"dataframe\">\n",
              "  <thead>\n",
              "    <tr style=\"text-align: right;\">\n",
              "      <th></th>\n",
              "      <th>time</th>\n",
              "      <th>lat</th>\n",
              "      <th>lon</th>\n",
              "      <th>discharge</th>\n",
              "      <th>temp</th>\n",
              "      <th>prec</th>\n",
              "    </tr>\n",
              "  </thead>\n",
              "  <tbody>\n",
              "    <tr>\n",
              "      <th>0</th>\n",
              "      <td>2016-01-01 12:00:00</td>\n",
              "      <td>44.750378</td>\n",
              "      <td>7.56052</td>\n",
              "      <td>3.988281</td>\n",
              "      <td>6.876062</td>\n",
              "      <td>0.0</td>\n",
              "    </tr>\n",
              "    <tr>\n",
              "      <th>1</th>\n",
              "      <td>2016-01-02 12:00:00</td>\n",
              "      <td>44.750378</td>\n",
              "      <td>7.56052</td>\n",
              "      <td>3.983398</td>\n",
              "      <td>5.494745</td>\n",
              "      <td>0.0</td>\n",
              "    </tr>\n",
              "    <tr>\n",
              "      <th>2</th>\n",
              "      <td>2016-01-03 12:00:00</td>\n",
              "      <td>44.750378</td>\n",
              "      <td>7.56052</td>\n",
              "      <td>4.030762</td>\n",
              "      <td>3.512628</td>\n",
              "      <td>0.0</td>\n",
              "    </tr>\n",
              "    <tr>\n",
              "      <th>3</th>\n",
              "      <td>2016-01-04 12:00:00</td>\n",
              "      <td>44.750378</td>\n",
              "      <td>7.56052</td>\n",
              "      <td>4.053223</td>\n",
              "      <td>3.912592</td>\n",
              "      <td>0.0</td>\n",
              "    </tr>\n",
              "    <tr>\n",
              "      <th>4</th>\n",
              "      <td>2016-01-05 12:00:00</td>\n",
              "      <td>44.750378</td>\n",
              "      <td>7.56052</td>\n",
              "      <td>4.042969</td>\n",
              "      <td>5.097375</td>\n",
              "      <td>0.0</td>\n",
              "    </tr>\n",
              "  </tbody>\n",
              "</table>\n",
              "</div>"
            ],
            "text/plain": [
              "                  time        lat      lon discharge      temp prec\n",
              "0  2016-01-01 12:00:00  44.750378  7.56052  3.988281  6.876062  0.0\n",
              "1  2016-01-02 12:00:00  44.750378  7.56052  3.983398  5.494745  0.0\n",
              "2  2016-01-03 12:00:00  44.750378  7.56052  4.030762  3.512628  0.0\n",
              "3  2016-01-04 12:00:00  44.750378  7.56052  4.053223  3.912592  0.0\n",
              "4  2016-01-05 12:00:00  44.750378  7.56052  4.042969  5.097375  0.0"
            ]
          },
          "execution_count": 3,
          "metadata": {},
          "output_type": "execute_result"
        }
      ],
      "source": [
        "# print the initial dataset.\n",
        "df.head()"
      ]
    },
    {
      "cell_type": "markdown",
      "metadata": {},
      "source": [
        "The dataframe should be formed by $ n $ locations repeteated $ x $ times wih $ x $ the number of days in the time interval between 01-01-2011 to 31-12-2018. We do not use total dataset because we let the last years as testing set during the data modelling phase."
      ]
    },
    {
      "cell_type": "code",
      "execution_count": 4,
      "metadata": {},
      "outputs": [
        {
          "name": "stdout",
          "output_type": "stream",
          "text": [
            "The current length of the dataframe is: 9762072\n"
          ]
        }
      ],
      "source": [
        "# number of total rows\n",
        "print('The current length of the dataframe is: {}'.format(len(df)))"
      ]
    },
    {
      "cell_type": "markdown",
      "metadata": {},
      "source": [
        "If we want to analyze the time series related to a specific location, we need to filter the dataframe with only points of a same coordinate. In our case, we will choose a location related to the Po river."
      ]
    },
    {
      "cell_type": "code",
      "execution_count": 5,
      "metadata": {},
      "outputs": [
        {
          "data": {
            "text/html": [
              "<div>\n",
              "<style scoped>\n",
              "    .dataframe tbody tr th:only-of-type {\n",
              "        vertical-align: middle;\n",
              "    }\n",
              "\n",
              "    .dataframe tbody tr th {\n",
              "        vertical-align: top;\n",
              "    }\n",
              "\n",
              "    .dataframe thead th {\n",
              "        text-align: right;\n",
              "    }\n",
              "</style>\n",
              "<table border=\"1\" class=\"dataframe\">\n",
              "  <thead>\n",
              "    <tr style=\"text-align: right;\">\n",
              "      <th></th>\n",
              "      <th>time</th>\n",
              "      <th>lat</th>\n",
              "      <th>lon</th>\n",
              "      <th>discharge</th>\n",
              "      <th>temp</th>\n",
              "      <th>prec</th>\n",
              "    </tr>\n",
              "  </thead>\n",
              "  <tbody>\n",
              "    <tr>\n",
              "      <th>3259596</th>\n",
              "      <td>2016-01-01 12:00:00</td>\n",
              "      <td>41.23425</td>\n",
              "      <td>13.701608</td>\n",
              "      <td>0.086914</td>\n",
              "      <td>8.761499</td>\n",
              "      <td>0.0</td>\n",
              "    </tr>\n",
              "    <tr>\n",
              "      <th>3259597</th>\n",
              "      <td>2016-01-02 12:00:00</td>\n",
              "      <td>41.23425</td>\n",
              "      <td>13.701608</td>\n",
              "      <td>0.085938</td>\n",
              "      <td>8.330347</td>\n",
              "      <td>0.0</td>\n",
              "    </tr>\n",
              "    <tr>\n",
              "      <th>3259598</th>\n",
              "      <td>2016-01-03 12:00:00</td>\n",
              "      <td>41.23425</td>\n",
              "      <td>13.701608</td>\n",
              "      <td>0.367188</td>\n",
              "      <td>7.056696</td>\n",
              "      <td>0.0</td>\n",
              "    </tr>\n",
              "    <tr>\n",
              "      <th>3259599</th>\n",
              "      <td>2016-01-04 12:00:00</td>\n",
              "      <td>41.23425</td>\n",
              "      <td>13.701608</td>\n",
              "      <td>0.29834</td>\n",
              "      <td>9.670282</td>\n",
              "      <td>0.000001</td>\n",
              "    </tr>\n",
              "    <tr>\n",
              "      <th>3259600</th>\n",
              "      <td>2016-01-05 12:00:00</td>\n",
              "      <td>41.23425</td>\n",
              "      <td>13.701608</td>\n",
              "      <td>0.381836</td>\n",
              "      <td>12.275537</td>\n",
              "      <td>0.000028</td>\n",
              "    </tr>\n",
              "  </tbody>\n",
              "</table>\n",
              "</div>"
            ],
            "text/plain": [
              "                        time       lat        lon discharge       temp  \\\n",
              "3259596  2016-01-01 12:00:00  41.23425  13.701608  0.086914   8.761499   \n",
              "3259597  2016-01-02 12:00:00  41.23425  13.701608  0.085938   8.330347   \n",
              "3259598  2016-01-03 12:00:00  41.23425  13.701608  0.367188   7.056696   \n",
              "3259599  2016-01-04 12:00:00  41.23425  13.701608   0.29834   9.670282   \n",
              "3259600  2016-01-05 12:00:00  41.23425  13.701608  0.381836  12.275537   \n",
              "\n",
              "             prec  \n",
              "3259596       0.0  \n",
              "3259597       0.0  \n",
              "3259598       0.0  \n",
              "3259599  0.000001  \n",
              "3259600  0.000028  "
            ]
          },
          "execution_count": 5,
          "metadata": {},
          "output_type": "execute_result"
        }
      ],
      "source": [
        "# filter dataframe by coordinates\n",
        "df = df[df['lat'] == 41.23425]\n",
        "df = df[df['lon'] == 13.701608]\n",
        "\n",
        "# print the filtered dataframe\n",
        "df.head()"
      ]
    },
    {
      "cell_type": "markdown",
      "metadata": {},
      "source": [
        "So, now we can display some time series related to precipitatios, temperatures and discharge changing over time according to the monitored chosen location."
      ]
    },
    {
      "cell_type": "code",
      "execution_count": 6,
      "metadata": {},
      "outputs": [
        {
          "data": {
            "image/png": "[encoded data removed]",
            "text/plain": [
              "<Figure size 432x288 with 1 Axes>"
            ]
          },
          "metadata": {
            "needs_background": "light"
          },
          "output_type": "display_data"
        }
      ],
      "source": [
        "# display the discharge values of the chosen coordinates\n",
        "df_time = pd.DataFrame()\n",
        "df_time['value'] = df['discharge']\n",
        "df_time = df_time.set_index(df['time'])\n",
        "plt.plot(df_time)\n",
        "plt.gcf().autofmt_xdate()\n",
        "plt.tick_params(labelbottom=False, bottom=False)\n",
        "plt.show()"
      ]
    },
    {
      "cell_type": "code",
      "execution_count": 7,
      "metadata": {},
      "outputs": [
        {
          "data": {
            "image/png": "[encoded data removed]",
            "text/plain": [
              "<Figure size 432x288 with 1 Axes>"
            ]
          },
          "metadata": {
            "needs_background": "light"
          },
          "output_type": "display_data"
        }
      ],
      "source": [
        "# display the precipitation values of the chosen coordinates\n",
        "df_prec = pd.DataFrame()\n",
        "df_prec['value'] = df['prec']\n",
        "df_prec = df_prec.set_index(df['time'])\n",
        "plt.plot(df_prec)\n",
        "plt.gcf().autofmt_xdate()\n",
        "plt.tick_params(labelbottom=False, bottom=False)\n",
        "plt.show()"
      ]
    },
    {
      "cell_type": "code",
      "execution_count": 8,
      "metadata": {},
      "outputs": [
        {
          "data": {
            "image/png": "[encoded data removed]",
            "text/plain": [
              "<Figure size 432x288 with 1 Axes>"
            ]
          },
          "metadata": {
            "needs_background": "light"
          },
          "output_type": "display_data"
        }
      ],
      "source": [
        "# display the temperature values of the chosen coordinates\n",
        "df_temp = pd.DataFrame()\n",
        "df_temp['value'] = df['temp']\n",
        "df_temp = df_temp.set_index(df['time'])\n",
        "plt.plot(df_temp)\n",
        "plt.gcf().autofmt_xdate()\n",
        "plt.tick_params(labelbottom=False, bottom=False)\n",
        "plt.show()"
      ]
    },
    {
      "cell_type": "markdown",
      "metadata": {},
      "source": [
        "A starting evaluation of data distribution over time can give us some information about the temperature seasonality over years and the not-stationary features for the precipitations and discharges. We will evaluate all of them during the data correlation phase with some statistical analysis to confirm or not these hypothesis."
      ]
    }
  ],
  "metadata": {
    "colab": {
      "collapsed_sections": [],
      "name": "Data_Aggregation.ipynb",
      "provenance": []
    },
    "kernelspec": {
      "display_name": "Python 3.9.13 64-bit",
      "language": "python",
      "name": "python3"
    },
    "language_info": {
      "codemirror_mode": {
        "name": "ipython",
        "version": 3
      },
      "file_extension": ".py",
      "mimetype": "text/x-python",
      "name": "python",
      "nbconvert_exporter": "python",
      "pygments_lexer": "ipython3",
      "version": "3.9.13"
    },
    "vscode": {
      "interpreter": {
        "hash": "aee8b7b246df8f9039afb4144a1f6fd8d2ca17a180786b69acc140d282b71a49"
      }
    }
  },
  "nbformat": 4,
  "nbformat_minor": 0
}
