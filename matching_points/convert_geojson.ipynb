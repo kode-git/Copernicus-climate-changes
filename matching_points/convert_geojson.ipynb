{
 "cells": [
  {
   "cell_type": "markdown",
   "metadata": {},
   "source": [
    "# Convert Locations in GeoJSON format"
   ]
  },
  {
   "cell_type": "markdown",
   "metadata": {},
   "source": [
    "This notebook has the scope to convert the input dataset in a GeoJSON format for a better manipulation during the map view in the final application. "
   ]
  },
  {
   "cell_type": "markdown",
   "metadata": {},
   "source": [
    "## Import Libraries"
   ]
  },
  {
   "cell_type": "code",
   "execution_count": 1,
   "metadata": {},
   "outputs": [],
   "source": [
    "import json\n",
    "import pandas as pd \n",
    "import geopy\n",
    "import geopy.distance\n",
    "import json"
   ]
  },
  {
   "cell_type": "markdown",
   "metadata": {},
   "source": [
    "## Load Original Dataset"
   ]
  },
  {
   "cell_type": "code",
   "execution_count": 2,
   "metadata": {},
   "outputs": [],
   "source": [
    "# import the dataset.\n",
    "df = pd.read_csv('../../italy-dtp-2020-15.csv', header = 0, names=['days', 'time', 'lat', 'lon', 'discharge', 'temp', 'prec'])\n",
    "df_drop = df.drop(columns = ['days', 'time', 'discharge', 'temp', 'prec'], inplace=False)\n",
    "df_drop['coords'] = df_drop.apply(tuple, axis=1)\n",
    "df_drop.head()"
   ]
  },
  {
   "cell_type": "code",
   "execution_count": 5,
   "metadata": {},
   "outputs": [
    {
     "data": {
      "text/plain": [
       "array([(44.750378, 7.5605197), (44.705326, 7.5624723),\n",
       "       (44.66027, 7.564421), ..., (41.324547, 13.706987),\n",
       "       (41.2794, 13.704295), (41.23425, 13.701608)], dtype=object)"
      ]
     },
     "execution_count": 5,
     "metadata": {},
     "output_type": "execute_result"
    }
   ],
   "source": [
    "# retrieves unique locations.\n",
    "ls = df_drop['coords'].unique()\n",
    "print('Array: {}'.format(ls))"
   ]
  },
  {
   "cell_type": "markdown",
   "metadata": {},
   "source": [
    "## Convert to GeoJSON"
   ]
  },
  {
   "cell_type": "markdown",
   "metadata": {},
   "source": [
    "In the snippet below, we create a GeoJSON object with some additional features related to each point. These features are used to visualize additional information on the map usage."
   ]
  },
  {
   "cell_type": "code",
   "execution_count": 6,
   "metadata": {},
   "outputs": [],
   "source": [
    "# loading of rivers,\n",
    "with open('interesting.geojson', 'r') as fd:\n",
    "    interest = json.load(fd)\n",
    "\n",
    "# base object.\n",
    "jsonObj = {\n",
    "    \"type\": \"FeatureCollection\",\n",
    "    \"features\": []\n",
    "}\n",
    "\n",
    "# GeoJSON building.\n",
    "i = 0\n",
    "for l in ls:\n",
    "    ptCoord = geopy.Point(l[0], l[1])\n",
    "    for key in interest.keys():\n",
    "        coordList = interest[key]['geoms']['coordinates']\n",
    "        for coord in coordList:\n",
    "            ptRiver = geopy.Point(coord[0], coord[1])\n",
    "            dist = geopy.distance.distance(ptRiver, ptCoord).km\n",
    "            if dist <= 2.6 :\n",
    "                featureObj = {\n",
    "                    \"type\": \"Feature\",\n",
    "                    \"name\": key,\n",
    "                    \"id\": i,\n",
    "                    \"geometry\":{\n",
    "                        \"type\":\"Point\",\n",
    "                        \"coordinates\": [l[1], l[0]]\n",
    "                    }\n",
    "                }\n",
    "                i += 1\n",
    "                jsonObj[\"features\"].append(featureObj)\n",
    "                break\n",
    "\n",
    "# save results.\n",
    "with open ('points_new.geojson', 'w') as fout:\n",
    "    json.dump(jsonObj, fout)"
   ]
  }
 ],
 "metadata": {
  "kernelspec": {
   "display_name": "Python 3.9.13 64-bit",
   "language": "python",
   "name": "python3"
  },
  "language_info": {
   "codemirror_mode": {
    "name": "ipython",
    "version": 3
   },
   "file_extension": ".py",
   "mimetype": "text/x-python",
   "name": "python",
   "nbconvert_exporter": "python",
   "pygments_lexer": "ipython3",
   "version": "3.9.13"
  },
  "orig_nbformat": 4,
  "vscode": {
   "interpreter": {
    "hash": "aee8b7b246df8f9039afb4144a1f6fd8d2ca17a180786b69acc140d282b71a49"
   }
  }
 },
 "nbformat": 4,
 "nbformat_minor": 2
}
