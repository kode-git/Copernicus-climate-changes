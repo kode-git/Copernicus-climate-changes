{
 "cells": [
  {
   "cell_type": "markdown",
   "metadata": {},
   "source": [
    "# Convert Locations in GeoJSON format"
   ]
  },
  {
   "cell_type": "markdown",
   "metadata": {},
   "source": [
    "This notebook has the scope to convert the input dataset in a GeoJSON format for a better manipulation during the map view in the final application. "
   ]
  },
  {
   "cell_type": "markdown",
   "metadata": {},
   "source": [
    "## Import Libraries"
   ]
  },
  {
   "cell_type": "code",
   "execution_count": 6,
   "metadata": {},
   "outputs": [],
   "source": [
    "import json\n",
    "import pandas as pd \n",
    "import geopy\n",
    "import geopy.distance\n",
    "import sys"
   ]
  },
  {
   "cell_type": "markdown",
   "metadata": {},
   "source": [
    "## Load Original Dataset"
   ]
  },
  {
   "cell_type": "code",
   "execution_count": 3,
   "metadata": {},
   "outputs": [
    {
     "data": {
      "text/html": [
       "<div>\n",
       "<style scoped>\n",
       "    .dataframe tbody tr th:only-of-type {\n",
       "        vertical-align: middle;\n",
       "    }\n",
       "\n",
       "    .dataframe tbody tr th {\n",
       "        vertical-align: top;\n",
       "    }\n",
       "\n",
       "    .dataframe thead th {\n",
       "        text-align: right;\n",
       "    }\n",
       "</style>\n",
       "<table border=\"1\" class=\"dataframe\">\n",
       "  <thead>\n",
       "    <tr style=\"text-align: right;\">\n",
       "      <th></th>\n",
       "      <th>lat</th>\n",
       "      <th>lon</th>\n",
       "      <th>coords</th>\n",
       "    </tr>\n",
       "  </thead>\n",
       "  <tbody>\n",
       "    <tr>\n",
       "      <th>0</th>\n",
       "      <td>44.750378</td>\n",
       "      <td>7.56052</td>\n",
       "      <td>(44.750378, 7.5605197)</td>\n",
       "    </tr>\n",
       "    <tr>\n",
       "      <th>1</th>\n",
       "      <td>44.750378</td>\n",
       "      <td>7.56052</td>\n",
       "      <td>(44.750378, 7.5605197)</td>\n",
       "    </tr>\n",
       "    <tr>\n",
       "      <th>2</th>\n",
       "      <td>44.750378</td>\n",
       "      <td>7.56052</td>\n",
       "      <td>(44.750378, 7.5605197)</td>\n",
       "    </tr>\n",
       "    <tr>\n",
       "      <th>3</th>\n",
       "      <td>44.750378</td>\n",
       "      <td>7.56052</td>\n",
       "      <td>(44.750378, 7.5605197)</td>\n",
       "    </tr>\n",
       "    <tr>\n",
       "      <th>4</th>\n",
       "      <td>44.750378</td>\n",
       "      <td>7.56052</td>\n",
       "      <td>(44.750378, 7.5605197)</td>\n",
       "    </tr>\n",
       "  </tbody>\n",
       "</table>\n",
       "</div>"
      ],
      "text/plain": [
       "         lat      lon                  coords\n",
       "0  44.750378  7.56052  (44.750378, 7.5605197)\n",
       "1  44.750378  7.56052  (44.750378, 7.5605197)\n",
       "2  44.750378  7.56052  (44.750378, 7.5605197)\n",
       "3  44.750378  7.56052  (44.750378, 7.5605197)\n",
       "4  44.750378  7.56052  (44.750378, 7.5605197)"
      ]
     },
     "execution_count": 3,
     "metadata": {},
     "output_type": "execute_result"
    }
   ],
   "source": [
    "# import the dataset.\n",
    "df = pd.read_csv('../../dtp/italy-dtp-2020-15.csv', header = 0, names=['time', 'lat', 'lon', 'discharge', 'temp', 'prec'])\n",
    "df_drop = df.drop(columns = ['time', 'discharge', 'temp', 'prec'], inplace=False)\n",
    "df_drop['coords'] = df_drop.apply(tuple, axis=1)\n",
    "df_drop.head()"
   ]
  },
  {
   "cell_type": "code",
   "execution_count": 4,
   "metadata": {},
   "outputs": [
    {
     "name": "stdout",
     "output_type": "stream",
     "text": [
      "Array: [(44.750378, 7.5605197) (44.705326, 7.5624723) (44.66027, 7.564421) ...\n",
      " (41.324547, 13.706987) (41.2794, 13.704295) (41.23425, 13.701608)]\n"
     ]
    }
   ],
   "source": [
    "# retrieves unique locations.\n",
    "ls = df_drop['coords'].unique()\n",
    "print('Array: {}'.format(ls))"
   ]
  },
  {
   "cell_type": "markdown",
   "metadata": {},
   "source": [
    "## Convert to GeoJSON"
   ]
  },
  {
   "cell_type": "markdown",
   "metadata": {},
   "source": [
    "In the snippet below, we create a GeoJSON object with some additional features related to each point. These features are used to visualize additional information on the map usage."
   ]
  },
  {
   "cell_type": "markdown",
   "metadata": {},
   "source": [
    "### Generation of coordinates for rivers with a major grade of precision."
   ]
  },
  {
   "cell_type": "code",
   "execution_count": 8,
   "metadata": {},
   "outputs": [],
   "source": [
    "# loading of rivers,\n",
    "with open('interesting.geojson', 'r') as fd:\n",
    "    interest = json.load(fd)\n",
    "\n",
    "# base object.\n",
    "jsonObj = {\n",
    "    \"type\": \"FeatureCollection\",\n",
    "    \"features\": []\n",
    "}\n",
    "\n",
    "# GeoJSON building.\n",
    "i = 0\n",
    "added = []\n",
    "for l in ls:\n",
    "    ptCoord = geopy.Point(l[0], l[1])\n",
    "    for key in interest.keys():\n",
    "        coordList = interest[key]['geoms']['coordinates']\n",
    "        for coord in coordList:\n",
    "            couple = [coord[1], coord[0]]\n",
    "            ptRiver = geopy.Point(coord[0], coord[1])\n",
    "            dist = geopy.distance.distance(ptRiver, ptCoord).km\n",
    "            if dist <= 2.6 and not couple in added:\n",
    "                featureObj = {\n",
    "                    \"type\": \"Feature\",\n",
    "                    \"name\": key,\n",
    "                    \"id\": i,\n",
    "                    \"geometry\":{\n",
    "                        \"type\":\"Point\",\n",
    "                        \"coordinates\": couple, \n",
    "                        \"ref\": [l[1], l[0]]\n",
    "                    }\n",
    "                }\n",
    "                i += 1\n",
    "                jsonObj[\"features\"].append(featureObj)\n",
    "                added.append(couple)\n",
    "\n",
    "# save results.\n",
    "with open ('points_new_2.geojson', 'w') as fout:\n",
    "    json.dump(jsonObj, fout)"
   ]
  },
  {
   "cell_type": "markdown",
   "metadata": {},
   "source": [
    "### This one uses the measures point to create the map"
   ]
  },
  {
   "cell_type": "code",
   "execution_count": 5,
   "metadata": {},
   "outputs": [],
   "source": [
    "# loading of rivers,\n",
    "with open('interesting.geojson', 'r') as fd:\n",
    "    interest = json.load(fd)\n",
    "\n",
    "# base object.\n",
    "jsonObj = {\n",
    "    \"type\": \"FeatureCollection\",\n",
    "    \"features\": []\n",
    "}\n",
    "\n",
    "# GeoJSON building.\n",
    "i = 0\n",
    "for l in ls:\n",
    "    ptCoord = geopy.Point(l[0], l[1])\n",
    "    for key in interest.keys():\n",
    "        coordList = interest[key]['geoms']['coordinates']\n",
    "        for coord in coordList:\n",
    "            ptRiver = geopy.Point(coord[0], coord[1])\n",
    "            dist = geopy.distance.distance(ptRiver, ptCoord).km\n",
    "            if dist <= 2.6 :\n",
    "                featureObj = {\n",
    "                    \"type\": \"Feature\",\n",
    "                    \"name\": key,\n",
    "                    \"id\": i,\n",
    "                    \"geometry\":{\n",
    "                        \"type\":\"Point\",\n",
    "                        \"coordinates\": [l[1], l[0]]\n",
    "                    }\n",
    "                }\n",
    "                i += 1\n",
    "                jsonObj[\"features\"].append(featureObj)\n",
    "                break\n",
    "\n",
    "# save results.\n",
    "with open ('points_new_fill.geojson', 'w') as fout:\n",
    "    json.dump(jsonObj, fout)"
   ]
  },
  {
   "cell_type": "markdown",
   "metadata": {},
   "source": [
    "### Generation on a GeoJson with only main points"
   ]
  },
  {
   "cell_type": "code",
   "execution_count": 8,
   "metadata": {},
   "outputs": [],
   "source": [
    "# loading of rivers,\n",
    "with open('interesting.geojson', 'r') as fd:\n",
    "    interest = json.load(fd)\n",
    "\n",
    "# base object.\n",
    "jsonObj = {\n",
    "    \"type\": \"FeatureCollection\",\n",
    "    \"features\": []\n",
    "}\n",
    "\n",
    "# GeoJSON building.\n",
    "i = 0\n",
    "\n",
    "for l in ls:\n",
    "    ptCoord = geopy.Point(l[0], l[1])\n",
    "    minDist = sys.maxsize\n",
    "    for key in interest.keys():\n",
    "        coordList = interest[key]['geoms']['coordinates']\n",
    "        for coord in coordList:\n",
    "            couple = [coord[1], coord[0]]\n",
    "            ptRiver = geopy.Point(coord[0], coord[1])\n",
    "            dist = geopy.distance.distance(ptRiver, ptCoord).km\n",
    "            if dist <= 2.6:\n",
    "                if dist < minDist:\n",
    "                    featureObj = {\n",
    "                        \"type\": \"Feature\",\n",
    "                        \"name\": key,\n",
    "                        \"id\": i,\n",
    "                        \"geometry\":{\n",
    "                            \"type\":\"Point\",\n",
    "                            \"coordinates\": couple, \n",
    "                            \"ref\": [l[1], l[0]]\n",
    "                        }\n",
    "                    }\n",
    "                    minDist = dist\n",
    "                else: \n",
    "                    i += 1\n",
    "                    jsonObj[\"features\"].append(featureObj)\n",
    "\n",
    "# save results.\n",
    "with open ('points_new_3.geojson', 'w') as fout:\n",
    "    json.dump(jsonObj, fout)"
   ]
  }
 ],
 "metadata": {
  "kernelspec": {
   "display_name": "Python 3.9.13 64-bit (windows store)",
   "language": "python",
   "name": "python3"
  },
  "language_info": {
   "codemirror_mode": {
    "name": "ipython",
    "version": 3
   },
   "file_extension": ".py",
   "mimetype": "text/x-python",
   "name": "python",
   "nbconvert_exporter": "python",
   "pygments_lexer": "ipython3",
   "version": "3.9.13"
  },
  "orig_nbformat": 4,
  "vscode": {
   "interpreter": {
    "hash": "6e91d7251fb344e996def3e92284d431619133ca817cffa03ab54840799a3500"
   }
  }
 },
 "nbformat": 4,
 "nbformat_minor": 2
}
