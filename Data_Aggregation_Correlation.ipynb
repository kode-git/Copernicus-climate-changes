{
  "cells": [
    {
      "cell_type": "markdown",
      "metadata": {},
      "source": [
        "<a href=\"\" target=\"_parent\"><img src=\"https://colab.research.google.com/assets/colab-badge.svg\" alt=\"Open In Colab\"/></a>"
      ]
    },
    {
      "cell_type": "markdown",
      "metadata": {},
      "source": [
        "<img src=\"./src/copernicus-logo.png\"><span style=\"margin-left: 40px\"></span><img src=\"./src/cds-logo.jpeg\">"
      ]
    },
    {
      "cell_type": "markdown",
      "metadata": {},
      "source": [
        "# Data Aggregation and Correlation"
      ]
    },
    {
      "cell_type": "markdown",
      "metadata": {},
      "source": [
        "Data Aggregation phase will integrates data from the same time and the same geographical references in a pandas dataset. The result will be a series of CSV files with discharges, temperatures and precipitations on a part of Italy that will be our domain of interest."
      ]
    },
    {
      "cell_type": "markdown",
      "metadata": {},
      "source": [
        "## Libraries Dependencies"
      ]
    },
    {
      "cell_type": "code",
      "execution_count": 10,
      "metadata": {},
      "outputs": [
        {
          "name": "stdout",
          "output_type": "stream",
          "text": [
            "Requirement already satisfied: xarray in ./venv/lib/python3.9/site-packages (2022.3.0)\n",
            "Requirement already satisfied: pandas>=1.1 in ./venv/lib/python3.9/site-packages (from xarray) (1.4.2)\n",
            "Requirement already satisfied: numpy>=1.18 in ./venv/lib/python3.9/site-packages (from xarray) (1.22.4)\n",
            "Requirement already satisfied: packaging>=20.0 in ./venv/lib/python3.9/site-packages (from xarray) (21.3)\n",
            "Requirement already satisfied: pyparsing!=3.0.5,>=2.0.2 in ./venv/lib/python3.9/site-packages (from packaging>=20.0->xarray) (3.0.9)\n",
            "Requirement already satisfied: pytz>=2020.1 in ./venv/lib/python3.9/site-packages (from pandas>=1.1->xarray) (2022.1)\n",
            "Requirement already satisfied: python-dateutil>=2.8.1 in ./venv/lib/python3.9/site-packages (from pandas>=1.1->xarray) (2.8.2)\n",
            "Requirement already satisfied: six>=1.5 in ./venv/lib/python3.9/site-packages (from python-dateutil>=2.8.1->pandas>=1.1->xarray) (1.16.0)\n",
            "\u001b[33mWARNING: You are using pip version 22.0.4; however, version 22.1.1 is available.\n",
            "You should consider upgrading via the '/Users/kode/Desktop/Copernicus-river-discharges/venv/bin/python -m pip install --upgrade pip' command.\u001b[0m\u001b[33m\n",
            "\u001b[0mNote: you may need to restart the kernel to use updated packages.\n",
            "Requirement already satisfied: netCDF4 in ./venv/lib/python3.9/site-packages (1.5.8)\n",
            "Requirement already satisfied: dask in ./venv/lib/python3.9/site-packages (2022.5.1)\n",
            "Requirement already satisfied: bottleneck in ./venv/lib/python3.9/site-packages (1.3.4)\n",
            "Requirement already satisfied: cftime in ./venv/lib/python3.9/site-packages (from netCDF4) (1.6.0)\n",
            "Requirement already satisfied: numpy>=1.9 in ./venv/lib/python3.9/site-packages (from netCDF4) (1.22.4)\n",
            "Requirement already satisfied: partd>=0.3.10 in ./venv/lib/python3.9/site-packages (from dask) (1.2.0)\n",
            "Requirement already satisfied: pyyaml>=5.3.1 in ./venv/lib/python3.9/site-packages (from dask) (6.0)\n",
            "Requirement already satisfied: packaging>=20.0 in ./venv/lib/python3.9/site-packages (from dask) (21.3)\n",
            "Requirement already satisfied: cloudpickle>=1.1.1 in ./venv/lib/python3.9/site-packages (from dask) (2.1.0)\n",
            "Requirement already satisfied: fsspec>=0.6.0 in ./venv/lib/python3.9/site-packages (from dask) (2022.5.0)\n",
            "Requirement already satisfied: toolz>=0.8.2 in ./venv/lib/python3.9/site-packages (from dask) (0.11.2)\n",
            "Requirement already satisfied: pyparsing!=3.0.5,>=2.0.2 in ./venv/lib/python3.9/site-packages (from packaging>=20.0->dask) (3.0.9)\n",
            "Requirement already satisfied: locket in ./venv/lib/python3.9/site-packages (from partd>=0.3.10->dask) (1.0.0)\n",
            "\u001b[33mWARNING: You are using pip version 22.0.4; however, version 22.1.1 is available.\n",
            "You should consider upgrading via the '/Users/kode/Desktop/Copernicus-river-discharges/venv/bin/python -m pip install --upgrade pip' command.\u001b[0m\u001b[33m\n",
            "\u001b[0mNote: you may need to restart the kernel to use updated packages.\n",
            "Requirement already satisfied: pandas in ./venv/lib/python3.9/site-packages (1.4.2)\n",
            "Requirement already satisfied: python-dateutil>=2.8.1 in ./venv/lib/python3.9/site-packages (from pandas) (2.8.2)\n",
            "Requirement already satisfied: pytz>=2020.1 in ./venv/lib/python3.9/site-packages (from pandas) (2022.1)\n",
            "Requirement already satisfied: numpy>=1.18.5 in ./venv/lib/python3.9/site-packages (from pandas) (1.22.4)\n",
            "Requirement already satisfied: six>=1.5 in ./venv/lib/python3.9/site-packages (from python-dateutil>=2.8.1->pandas) (1.16.0)\n",
            "\u001b[33mWARNING: You are using pip version 22.0.4; however, version 22.1.1 is available.\n",
            "You should consider upgrading via the '/Users/kode/Desktop/Copernicus-river-discharges/venv/bin/python -m pip install --upgrade pip' command.\u001b[0m\u001b[33m\n",
            "\u001b[0mNote: you may need to restart the kernel to use updated packages.\n",
            "Requirement already satisfied: geopandas in ./venv/lib/python3.9/site-packages (0.10.2)\n",
            "Requirement already satisfied: pyproj>=2.2.0 in ./venv/lib/python3.9/site-packages (from geopandas) (3.3.1)\n",
            "Requirement already satisfied: shapely>=1.6 in ./venv/lib/python3.9/site-packages (from geopandas) (1.8.2)\n",
            "Requirement already satisfied: fiona>=1.8 in ./venv/lib/python3.9/site-packages (from geopandas) (1.8.21)\n",
            "Requirement already satisfied: pandas>=0.25.0 in ./venv/lib/python3.9/site-packages (from geopandas) (1.4.2)\n",
            "Requirement already satisfied: setuptools in ./venv/lib/python3.9/site-packages (from fiona>=1.8->geopandas) (60.10.0)\n",
            "Requirement already satisfied: click-plugins>=1.0 in ./venv/lib/python3.9/site-packages (from fiona>=1.8->geopandas) (1.1.1)\n",
            "Requirement already satisfied: cligj>=0.5 in ./venv/lib/python3.9/site-packages (from fiona>=1.8->geopandas) (0.7.2)\n",
            "Requirement already satisfied: certifi in ./venv/lib/python3.9/site-packages (from fiona>=1.8->geopandas) (2021.10.8)\n",
            "Requirement already satisfied: six>=1.7 in ./venv/lib/python3.9/site-packages (from fiona>=1.8->geopandas) (1.16.0)\n",
            "Requirement already satisfied: attrs>=17 in ./venv/lib/python3.9/site-packages (from fiona>=1.8->geopandas) (21.4.0)\n",
            "Requirement already satisfied: click>=4.0 in ./venv/lib/python3.9/site-packages (from fiona>=1.8->geopandas) (8.1.3)\n",
            "Requirement already satisfied: munch in ./venv/lib/python3.9/site-packages (from fiona>=1.8->geopandas) (2.5.0)\n",
            "Requirement already satisfied: numpy>=1.18.5 in ./venv/lib/python3.9/site-packages (from pandas>=0.25.0->geopandas) (1.22.4)\n",
            "Requirement already satisfied: pytz>=2020.1 in ./venv/lib/python3.9/site-packages (from pandas>=0.25.0->geopandas) (2022.1)\n",
            "Requirement already satisfied: python-dateutil>=2.8.1 in ./venv/lib/python3.9/site-packages (from pandas>=0.25.0->geopandas) (2.8.2)\n",
            "\u001b[33mWARNING: You are using pip version 22.0.4; however, version 22.1.1 is available.\n",
            "You should consider upgrading via the '/Users/kode/Desktop/Copernicus-river-discharges/venv/bin/python -m pip install --upgrade pip' command.\u001b[0m\u001b[33m\n",
            "\u001b[0mNote: you may need to restart the kernel to use updated packages.\n",
            "Requirement already satisfied: cdsapi in ./venv/lib/python3.9/site-packages (0.5.1)\n",
            "Requirement already satisfied: tqdm in ./venv/lib/python3.9/site-packages (from cdsapi) (4.64.0)\n",
            "Requirement already satisfied: requests>=2.5.0 in ./venv/lib/python3.9/site-packages (from cdsapi) (2.27.1)\n",
            "Requirement already satisfied: idna<4,>=2.5 in ./venv/lib/python3.9/site-packages (from requests>=2.5.0->cdsapi) (3.3)\n",
            "Requirement already satisfied: urllib3<1.27,>=1.21.1 in ./venv/lib/python3.9/site-packages (from requests>=2.5.0->cdsapi) (1.26.9)\n",
            "Requirement already satisfied: charset-normalizer~=2.0.0 in ./venv/lib/python3.9/site-packages (from requests>=2.5.0->cdsapi) (2.0.12)\n",
            "Requirement already satisfied: certifi>=2017.4.17 in ./venv/lib/python3.9/site-packages (from requests>=2.5.0->cdsapi) (2021.10.8)\n",
            "\u001b[33mWARNING: You are using pip version 22.0.4; however, version 22.1.1 is available.\n",
            "You should consider upgrading via the '/Users/kode/Desktop/Copernicus-river-discharges/venv/bin/python -m pip install --upgrade pip' command.\u001b[0m\u001b[33m\n",
            "\u001b[0mNote: you may need to restart the kernel to use updated packages.\n",
            "Requirement already satisfied: matplotlib in ./venv/lib/python3.9/site-packages (3.5.2)\n",
            "Requirement already satisfied: pyparsing>=2.2.1 in ./venv/lib/python3.9/site-packages (from matplotlib) (3.0.9)\n",
            "Requirement already satisfied: python-dateutil>=2.7 in ./venv/lib/python3.9/site-packages (from matplotlib) (2.8.2)\n",
            "Requirement already satisfied: pillow>=6.2.0 in ./venv/lib/python3.9/site-packages (from matplotlib) (9.1.1)\n",
            "Requirement already satisfied: packaging>=20.0 in ./venv/lib/python3.9/site-packages (from matplotlib) (21.3)\n",
            "Requirement already satisfied: numpy>=1.17 in ./venv/lib/python3.9/site-packages (from matplotlib) (1.22.4)\n",
            "Requirement already satisfied: cycler>=0.10 in ./venv/lib/python3.9/site-packages (from matplotlib) (0.11.0)\n",
            "Requirement already satisfied: fonttools>=4.22.0 in ./venv/lib/python3.9/site-packages (from matplotlib) (4.33.3)\n",
            "Requirement already satisfied: kiwisolver>=1.0.1 in ./venv/lib/python3.9/site-packages (from matplotlib) (1.4.2)\n",
            "Requirement already satisfied: six>=1.5 in ./venv/lib/python3.9/site-packages (from python-dateutil>=2.7->matplotlib) (1.16.0)\n",
            "\u001b[33mWARNING: You are using pip version 22.0.4; however, version 22.1.1 is available.\n",
            "You should consider upgrading via the '/Users/kode/Desktop/Copernicus-river-discharges/venv/bin/python -m pip install --upgrade pip' command.\u001b[0m\u001b[33m\n",
            "\u001b[0mNote: you may need to restart the kernel to use updated packages.\n",
            "Requirement already satisfied: statsmodels in ./venv/lib/python3.9/site-packages (0.13.2)\n",
            "Requirement already satisfied: scipy>=1.3 in ./venv/lib/python3.9/site-packages (from statsmodels) (1.8.1)\n",
            "Requirement already satisfied: patsy>=0.5.2 in ./venv/lib/python3.9/site-packages (from statsmodels) (0.5.2)\n",
            "Requirement already satisfied: packaging>=21.3 in ./venv/lib/python3.9/site-packages (from statsmodels) (21.3)\n",
            "Requirement already satisfied: pandas>=0.25 in ./venv/lib/python3.9/site-packages (from statsmodels) (1.4.2)\n",
            "Requirement already satisfied: numpy>=1.17 in ./venv/lib/python3.9/site-packages (from statsmodels) (1.22.4)\n",
            "Requirement already satisfied: pyparsing!=3.0.5,>=2.0.2 in ./venv/lib/python3.9/site-packages (from packaging>=21.3->statsmodels) (3.0.9)\n",
            "Requirement already satisfied: pytz>=2020.1 in ./venv/lib/python3.9/site-packages (from pandas>=0.25->statsmodels) (2022.1)\n",
            "Requirement already satisfied: python-dateutil>=2.8.1 in ./venv/lib/python3.9/site-packages (from pandas>=0.25->statsmodels) (2.8.2)\n",
            "Requirement already satisfied: six in ./venv/lib/python3.9/site-packages (from patsy>=0.5.2->statsmodels) (1.16.0)\n",
            "\u001b[33mWARNING: You are using pip version 22.0.4; however, version 22.1.1 is available.\n",
            "You should consider upgrading via the '/Users/kode/Desktop/Copernicus-river-discharges/venv/bin/python -m pip install --upgrade pip' command.\u001b[0m\u001b[33m\n",
            "\u001b[0mNote: you may need to restart the kernel to use updated packages.\n",
            "Collecting sklearn\n",
            "  Downloading sklearn-0.0.tar.gz (1.1 kB)\n",
            "  Preparing metadata (setup.py) ... \u001b[?25ldone\n",
            "\u001b[?25hCollecting scikit-learn\n",
            "  Downloading scikit_learn-1.1.1-cp39-cp39-macosx_10_13_x86_64.whl (8.6 MB)\n",
            "\u001b[2K     \u001b[90m━━━━━━━━━━━━━━━━━━━━━━━━━━━━━━━━━━━━━━━━\u001b[0m \u001b[32m8.6/8.6 MB\u001b[0m \u001b[31m28.6 MB/s\u001b[0m eta \u001b[36m0:00:00\u001b[0m00:01\u001b[0m00:01\u001b[0m\n",
            "\u001b[?25hRequirement already satisfied: scipy>=1.3.2 in ./venv/lib/python3.9/site-packages (from scikit-learn->sklearn) (1.8.1)\n",
            "Collecting threadpoolctl>=2.0.0\n",
            "  Using cached threadpoolctl-3.1.0-py3-none-any.whl (14 kB)\n",
            "Collecting joblib>=1.0.0\n",
            "  Using cached joblib-1.1.0-py2.py3-none-any.whl (306 kB)\n",
            "Requirement already satisfied: numpy>=1.17.3 in ./venv/lib/python3.9/site-packages (from scikit-learn->sklearn) (1.22.4)\n",
            "Using legacy 'setup.py install' for sklearn, since package 'wheel' is not installed.\n",
            "Installing collected packages: threadpoolctl, joblib, scikit-learn, sklearn\n",
            "  Running setup.py install for sklearn ... \u001b[?25ldone\n",
            "\u001b[?25hSuccessfully installed joblib-1.1.0 scikit-learn-1.1.1 sklearn-0.0 threadpoolctl-3.1.0\n",
            "\u001b[33mWARNING: You are using pip version 22.0.4; however, version 22.1.1 is available.\n",
            "You should consider upgrading via the '/Users/kode/Desktop/Copernicus-river-discharges/venv/bin/python -m pip install --upgrade pip' command.\u001b[0m\u001b[33m\n",
            "\u001b[0mNote: you may need to restart the kernel to use updated packages.\n"
          ]
        }
      ],
      "source": [
        "# installation of dependencies for remote notebook (Jupyter or Google Colab)\n",
        "# !pip install xarray \n",
        "# !pip install netCDF4 dask bottleneck\n",
        "# !pip install pandas\n",
        "# !pip install geopandas\n",
        "# !pip install cdsapi\n",
        "# !pip instal matplotlib\n",
        "# !pip install sklearn\n",
        "\n",
        "# installation of dependencies for local notebook\n",
        "%pip install xarray \n",
        "%pip install netCDF4 dask bottleneck\n",
        "%pip install pandas\n",
        "%pip install geopandas\n",
        "%pip install cdsapi\n",
        "%pip install matplotlib\n",
        "%pip install statsmodels\n",
        "%pip install sklearn"
      ]
    },
    {
      "cell_type": "markdown",
      "metadata": {},
      "source": [
        "## Integration between TPI and RDH "
      ]
    },
    {
      "cell_type": "code",
      "execution_count": 2,
      "metadata": {},
      "outputs": [],
      "source": [
        "import netCDF4\n",
        "import pandas as pd\n",
        "import numpy as np\n",
        "import json\n",
        "import matplotlib.pyplot as plt\n",
        "import statsmodels.tsa.stattools as ts \n",
        "from ts import adfuller, grangercausalitytests, durbin_watson, kpss\n",
        "from ts import VAR\n",
        "from pandas.plotting import lag_plot\n"
      ]
    },
    {
      "cell_type": "code",
      "execution_count": null,
      "metadata": {
        "id": "CyVC-fT4-E-8"
      },
      "outputs": [],
      "source": [
        "jsonFileR = open(\"./samples/map-italy-loc.json\", \"r\") # file with the i.j indexes for the lat lon inside the north italy rectangle, saved in the same directory of coordinates\n",
        "ljson = json.load(jsonFileR)\n",
        "jsonFileR.close()\n",
        "\n",
        "i_dim = 949 # index of the last element for temperature and precipitation since in a file i goes from 0 to 949 and in the other two it goes from 949 to 0\n",
        "\n",
        "#header for the csv file\n",
        "header = ['time', 'lat', 'lon', 'discharge', 'temp', 'prec']\n",
        "\n",
        "\n",
        "d_years = ['2013-2014-2', '2015-2016-3', '2017-2018-4', '2019-2020-5', '2021-2022-6'] # years in the discharge file\n",
        "p_t_years = ['2013-8', '2014-9', '2015-10', '2016-11', '2017-12', '2018-13', '2019-14', '2020-15', '2021-16'] # years in the temperature and precipitation file\n",
        "d_years = ['2021-2022-6']\n",
        "p_t_years = ['2021-16', '2022-17']\n",
        "for idf_d in range(0, len(d_years)):\n",
        "# Edit file path\n",
        "    nc_d = netCDF4.Dataset('./samples/rdh-'+d_years[idf_d] +'.nc')\n",
        "    # for each discharge file there are two yers of temperature and precipitation files, so they are indexed adding to the index of the discharge file\n",
        "    for idf_d_t in range(0, 2):\n",
        "        year = p_t_years[idf_d+idf_d_t]\n",
        "        nc_p = netCDF4.Dataset('./samples/tpi-prec-' + year + '.nc')\n",
        "        nc_t = netCDF4.Dataset('./samples/tpi-temp-' + year + '.nc')\n",
        "\n",
        "        # variables that need to be saved, avoiding to have too many indexes later\n",
        "        # the time for the timestamp is taken from the precipitation file\n",
        "        time_var = nc_p.variables['time']\n",
        "        dtime = netCDF4.num2date(time_var[:],time_var.units)\n",
        "        discharge = nc_d.variables['dis06']\n",
        "        lat = nc_d.variables['latitude']\n",
        "        lon = nc_d.variables['longitude']\n",
        "        temp = nc_t.variables['tasAdjust']\n",
        "        prec = nc_p.variables['prAdjust']\n",
        "        # for each year write the header of the csv file\n",
        "        ds = pd.DataFrame(data = [], columns = header)\n",
        "        ds.to_csv('italy-dtp-' + year + '.csv', mode='w', index=True)\n",
        "        # for each timestamp (so for each day) create a new empty dataframe\n",
        "        for l in ljson:\n",
        "            ds = pd.DataFrame(data = [], columns=header)\n",
        "            len_ds = len(ds)\n",
        "            for t in range(0, len(dtime)):\n",
        "                ds.loc[len_ds] = [dtime[t], lat[l[0]][l[1]], lon[l[0]][l[1]], discharge[t+(365*idf_d_t)][l[0]][l[1]], temp[t][i_dim-l[0]][l[1]]-273.15, prec[t][i_dim-l[0]][l[1]]]\n",
        "                len_ds += 1\n",
        "            # when the timestamp is done write the dataframe to the file, without the header\n",
        "            ds.to_csv('italy-dtp-' + year + '.csv', mode='a', index=True, header=False)"
      ]
    },
    {
      "cell_type": "markdown",
      "metadata": {},
      "source": [
        "## Initial Data Visualization"
      ]
    },
    {
      "cell_type": "code",
      "execution_count": 3,
      "metadata": {},
      "outputs": [],
      "source": [
        "j = 11\n",
        "df = pd.DataFrame(columns=['time', 'lat', 'lon', 'discharge', 'temp', 'prec'])\n",
        "for i in range(2016, 2019):\n",
        "    tmp = pd.read_csv(\"samples/italy-dtp-{}-{}.csv\".format(i,j), usecols=['time', 'lat', 'lon', 'discharge', 'temp', 'prec'])\n",
        "    df = pd.concat([df, tmp])\n",
        "    j += 1"
      ]
    },
    {
      "cell_type": "code",
      "execution_count": 4,
      "metadata": {},
      "outputs": [
        {
          "data": {
            "text/html": [
              "<div>\n",
              "<style scoped>\n",
              "    .dataframe tbody tr th:only-of-type {\n",
              "        vertical-align: middle;\n",
              "    }\n",
              "\n",
              "    .dataframe tbody tr th {\n",
              "        vertical-align: top;\n",
              "    }\n",
              "\n",
              "    .dataframe thead th {\n",
              "        text-align: right;\n",
              "    }\n",
              "</style>\n",
              "<table border=\"1\" class=\"dataframe\">\n",
              "  <thead>\n",
              "    <tr style=\"text-align: right;\">\n",
              "      <th></th>\n",
              "      <th>time</th>\n",
              "      <th>lat</th>\n",
              "      <th>lon</th>\n",
              "      <th>discharge</th>\n",
              "      <th>temp</th>\n",
              "      <th>prec</th>\n",
              "    </tr>\n",
              "  </thead>\n",
              "  <tbody>\n",
              "    <tr>\n",
              "      <th>0</th>\n",
              "      <td>2016-01-01 12:00:00</td>\n",
              "      <td>44.750378</td>\n",
              "      <td>7.56052</td>\n",
              "      <td>3.988281</td>\n",
              "      <td>6.876062</td>\n",
              "      <td>0.0</td>\n",
              "    </tr>\n",
              "    <tr>\n",
              "      <th>1</th>\n",
              "      <td>2016-01-02 12:00:00</td>\n",
              "      <td>44.750378</td>\n",
              "      <td>7.56052</td>\n",
              "      <td>3.983398</td>\n",
              "      <td>5.494745</td>\n",
              "      <td>0.0</td>\n",
              "    </tr>\n",
              "    <tr>\n",
              "      <th>2</th>\n",
              "      <td>2016-01-03 12:00:00</td>\n",
              "      <td>44.750378</td>\n",
              "      <td>7.56052</td>\n",
              "      <td>4.030762</td>\n",
              "      <td>3.512628</td>\n",
              "      <td>0.0</td>\n",
              "    </tr>\n",
              "    <tr>\n",
              "      <th>3</th>\n",
              "      <td>2016-01-04 12:00:00</td>\n",
              "      <td>44.750378</td>\n",
              "      <td>7.56052</td>\n",
              "      <td>4.053223</td>\n",
              "      <td>3.912592</td>\n",
              "      <td>0.0</td>\n",
              "    </tr>\n",
              "    <tr>\n",
              "      <th>4</th>\n",
              "      <td>2016-01-05 12:00:00</td>\n",
              "      <td>44.750378</td>\n",
              "      <td>7.56052</td>\n",
              "      <td>4.042969</td>\n",
              "      <td>5.097375</td>\n",
              "      <td>0.0</td>\n",
              "    </tr>\n",
              "  </tbody>\n",
              "</table>\n",
              "</div>"
            ],
            "text/plain": [
              "                  time        lat      lon discharge      temp prec\n",
              "0  2016-01-01 12:00:00  44.750378  7.56052  3.988281  6.876062  0.0\n",
              "1  2016-01-02 12:00:00  44.750378  7.56052  3.983398  5.494745  0.0\n",
              "2  2016-01-03 12:00:00  44.750378  7.56052  4.030762  3.512628  0.0\n",
              "3  2016-01-04 12:00:00  44.750378  7.56052  4.053223  3.912592  0.0\n",
              "4  2016-01-05 12:00:00  44.750378  7.56052  4.042969  5.097375  0.0"
            ]
          },
          "execution_count": 4,
          "metadata": {},
          "output_type": "execute_result"
        }
      ],
      "source": [
        "df.head()"
      ]
    },
    {
      "cell_type": "code",
      "execution_count": 5,
      "metadata": {},
      "outputs": [
        {
          "data": {
            "text/html": [
              "<div>\n",
              "<style scoped>\n",
              "    .dataframe tbody tr th:only-of-type {\n",
              "        vertical-align: middle;\n",
              "    }\n",
              "\n",
              "    .dataframe tbody tr th {\n",
              "        vertical-align: top;\n",
              "    }\n",
              "\n",
              "    .dataframe thead th {\n",
              "        text-align: right;\n",
              "    }\n",
              "</style>\n",
              "<table border=\"1\" class=\"dataframe\">\n",
              "  <thead>\n",
              "    <tr style=\"text-align: right;\">\n",
              "      <th></th>\n",
              "      <th>time</th>\n",
              "      <th>lat</th>\n",
              "      <th>lon</th>\n",
              "      <th>discharge</th>\n",
              "      <th>temp</th>\n",
              "      <th>prec</th>\n",
              "    </tr>\n",
              "  </thead>\n",
              "  <tbody>\n",
              "    <tr>\n",
              "      <th>3251050</th>\n",
              "      <td>2018-12-27 12:00:00</td>\n",
              "      <td>41.23425</td>\n",
              "      <td>13.701608</td>\n",
              "      <td>0.231445</td>\n",
              "      <td>7.397058</td>\n",
              "      <td>0.000222</td>\n",
              "    </tr>\n",
              "    <tr>\n",
              "      <th>3251051</th>\n",
              "      <td>2018-12-28 12:00:00</td>\n",
              "      <td>41.23425</td>\n",
              "      <td>13.701608</td>\n",
              "      <td>0.202148</td>\n",
              "      <td>8.206964</td>\n",
              "      <td>0.000143</td>\n",
              "    </tr>\n",
              "    <tr>\n",
              "      <th>3251052</th>\n",
              "      <td>2018-12-29 12:00:00</td>\n",
              "      <td>41.23425</td>\n",
              "      <td>13.701608</td>\n",
              "      <td>0.176758</td>\n",
              "      <td>7.938043</td>\n",
              "      <td>0.000014</td>\n",
              "    </tr>\n",
              "    <tr>\n",
              "      <th>3251053</th>\n",
              "      <td>2018-12-30 12:00:00</td>\n",
              "      <td>41.23425</td>\n",
              "      <td>13.701608</td>\n",
              "      <td>0.154297</td>\n",
              "      <td>7.159845</td>\n",
              "      <td>0.000021</td>\n",
              "    </tr>\n",
              "    <tr>\n",
              "      <th>3251054</th>\n",
              "      <td>2018-12-31 12:00:00</td>\n",
              "      <td>41.23425</td>\n",
              "      <td>13.701608</td>\n",
              "      <td>0.136719</td>\n",
              "      <td>5.911279</td>\n",
              "      <td>0.0</td>\n",
              "    </tr>\n",
              "  </tbody>\n",
              "</table>\n",
              "</div>"
            ],
            "text/plain": [
              "                        time       lat        lon discharge      temp  \\\n",
              "3251050  2018-12-27 12:00:00  41.23425  13.701608  0.231445  7.397058   \n",
              "3251051  2018-12-28 12:00:00  41.23425  13.701608  0.202148  8.206964   \n",
              "3251052  2018-12-29 12:00:00  41.23425  13.701608  0.176758  7.938043   \n",
              "3251053  2018-12-30 12:00:00  41.23425  13.701608  0.154297  7.159845   \n",
              "3251054  2018-12-31 12:00:00  41.23425  13.701608  0.136719  5.911279   \n",
              "\n",
              "             prec  \n",
              "3251050  0.000222  \n",
              "3251051  0.000143  \n",
              "3251052  0.000014  \n",
              "3251053  0.000021  \n",
              "3251054       0.0  "
            ]
          },
          "execution_count": 5,
          "metadata": {},
          "output_type": "execute_result"
        }
      ],
      "source": [
        "df.tail()"
      ]
    },
    {
      "cell_type": "markdown",
      "metadata": {},
      "source": [
        "We will analyze one of the year to estabilish possible statistics correlations between discharge with temperatures and precipitations. "
      ]
    },
    {
      "cell_type": "code",
      "execution_count": 119,
      "metadata": {},
      "outputs": [
        {
          "name": "stdout",
          "output_type": "stream",
          "text": [
            "The current length of the dataframe is: 9762072\n"
          ]
        }
      ],
      "source": [
        "print('The current length of the dataframe is: {}'.format(len(df)))"
      ]
    },
    {
      "cell_type": "code",
      "execution_count": 6,
      "metadata": {},
      "outputs": [
        {
          "data": {
            "text/html": [
              "<div>\n",
              "<style scoped>\n",
              "    .dataframe tbody tr th:only-of-type {\n",
              "        vertical-align: middle;\n",
              "    }\n",
              "\n",
              "    .dataframe tbody tr th {\n",
              "        vertical-align: top;\n",
              "    }\n",
              "\n",
              "    .dataframe thead th {\n",
              "        text-align: right;\n",
              "    }\n",
              "</style>\n",
              "<table border=\"1\" class=\"dataframe\">\n",
              "  <thead>\n",
              "    <tr style=\"text-align: right;\">\n",
              "      <th></th>\n",
              "      <th>time</th>\n",
              "      <th>lat</th>\n",
              "      <th>lon</th>\n",
              "      <th>discharge</th>\n",
              "      <th>temp</th>\n",
              "      <th>prec</th>\n",
              "    </tr>\n",
              "  </thead>\n",
              "  <tbody>\n",
              "    <tr>\n",
              "      <th>3259596</th>\n",
              "      <td>2016-01-01 12:00:00</td>\n",
              "      <td>41.23425</td>\n",
              "      <td>13.701608</td>\n",
              "      <td>0.086914</td>\n",
              "      <td>8.761499</td>\n",
              "      <td>0.0</td>\n",
              "    </tr>\n",
              "    <tr>\n",
              "      <th>3259597</th>\n",
              "      <td>2016-01-02 12:00:00</td>\n",
              "      <td>41.23425</td>\n",
              "      <td>13.701608</td>\n",
              "      <td>0.085938</td>\n",
              "      <td>8.330347</td>\n",
              "      <td>0.0</td>\n",
              "    </tr>\n",
              "    <tr>\n",
              "      <th>3259598</th>\n",
              "      <td>2016-01-03 12:00:00</td>\n",
              "      <td>41.23425</td>\n",
              "      <td>13.701608</td>\n",
              "      <td>0.367188</td>\n",
              "      <td>7.056696</td>\n",
              "      <td>0.0</td>\n",
              "    </tr>\n",
              "    <tr>\n",
              "      <th>3259599</th>\n",
              "      <td>2016-01-04 12:00:00</td>\n",
              "      <td>41.23425</td>\n",
              "      <td>13.701608</td>\n",
              "      <td>0.29834</td>\n",
              "      <td>9.670282</td>\n",
              "      <td>0.000001</td>\n",
              "    </tr>\n",
              "    <tr>\n",
              "      <th>3259600</th>\n",
              "      <td>2016-01-05 12:00:00</td>\n",
              "      <td>41.23425</td>\n",
              "      <td>13.701608</td>\n",
              "      <td>0.381836</td>\n",
              "      <td>12.275537</td>\n",
              "      <td>0.000028</td>\n",
              "    </tr>\n",
              "  </tbody>\n",
              "</table>\n",
              "</div>"
            ],
            "text/plain": [
              "                        time       lat        lon discharge       temp  \\\n",
              "3259596  2016-01-01 12:00:00  41.23425  13.701608  0.086914   8.761499   \n",
              "3259597  2016-01-02 12:00:00  41.23425  13.701608  0.085938   8.330347   \n",
              "3259598  2016-01-03 12:00:00  41.23425  13.701608  0.367188   7.056696   \n",
              "3259599  2016-01-04 12:00:00  41.23425  13.701608   0.29834   9.670282   \n",
              "3259600  2016-01-05 12:00:00  41.23425  13.701608  0.381836  12.275537   \n",
              "\n",
              "             prec  \n",
              "3259596       0.0  \n",
              "3259597       0.0  \n",
              "3259598       0.0  \n",
              "3259599  0.000001  \n",
              "3259600  0.000028  "
            ]
          },
          "execution_count": 6,
          "metadata": {},
          "output_type": "execute_result"
        }
      ],
      "source": [
        "df = df[df['lat'] == 41.23425]\n",
        "df = df[df['lon'] == 13.701608]\n",
        "df.head()"
      ]
    },
    {
      "cell_type": "markdown",
      "metadata": {},
      "source": [
        "We have chosen one of the official coordinate filtered on rivers locations and try to find some correlation between this geographical position with related precipitations on 2.5 x 2.5 kms of distances."
      ]
    },
    {
      "cell_type": "code",
      "execution_count": 9,
      "metadata": {},
      "outputs": [
        {
          "data": {
            "image/png": "[encoded data removed]",
            "text/plain": [
              "<Figure size 432x288 with 1 Axes>"
            ]
          },
          "metadata": {
            "needs_background": "light"
          },
          "output_type": "display_data"
        }
      ],
      "source": [
        "df_time = pd.DataFrame()\n",
        "df_time['value'] = df['discharge']\n",
        "df_time = df_time.set_index(df['time'])\n",
        "plt.plot(df_time)\n",
        "plt.gcf().autofmt_xdate()\n",
        "plt.tick_params(labelbottom=False, bottom=False)\n",
        "plt.show()"
      ]
    },
    {
      "cell_type": "code",
      "execution_count": 122,
      "metadata": {},
      "outputs": [
        {
          "data": {
            "image/png": "[encoded data removed]",
            "text/plain": [
              "<Figure size 432x288 with 1 Axes>"
            ]
          },
          "metadata": {
            "needs_background": "light"
          },
          "output_type": "display_data"
        }
      ],
      "source": [
        "df_prec = pd.DataFrame()\n",
        "df_prec['value'] = df['prec']\n",
        "df_prec = df_prec.set_index(df['time'])\n",
        "plt.plot(df_prec)\n",
        "plt.gcf().autofmt_xdate()\n",
        "plt.tick_params(labelbottom=False, bottom=False)\n",
        "plt.show()"
      ]
    },
    {
      "cell_type": "code",
      "execution_count": 123,
      "metadata": {},
      "outputs": [
        {
          "data": {
            "image/png": "[encoded data removed]",
            "text/plain": [
              "<Figure size 432x288 with 1 Axes>"
            ]
          },
          "metadata": {
            "needs_background": "light"
          },
          "output_type": "display_data"
        }
      ],
      "source": [
        "df_temp = pd.DataFrame()\n",
        "df_temp['value'] = df['temp']\n",
        "df_temp = df_temp.set_index(df['time'])\n",
        "plt.plot(df_temp)\n",
        "plt.gcf().autofmt_xdate()\n",
        "plt.tick_params(labelbottom=False, bottom=False)\n",
        "plt.show()"
      ]
    },
    {
      "cell_type": "markdown",
      "metadata": {},
      "source": [
        "## Data Correlations"
      ]
    },
    {
      "cell_type": "code",
      "execution_count": 10,
      "metadata": {},
      "outputs": [
        {
          "data": {
            "image/png": "[encoded data removed]",
            "text/plain": [
              "<Figure size 1080x360 with 2 Axes>"
            ]
          },
          "metadata": {
            "needs_background": "light"
          },
          "output_type": "display_data"
        }
      ],
      "source": [
        "f2, (ax4, ax5) = plt.subplots(1, 2, figsize=(15, 5))\n",
        "f2.tight_layout()\n",
        "\n",
        "lag_plot(df['prec'], ax=ax4)\n",
        "ax4.set_title('Precipitations')\n",
        "\n",
        "lag_plot(df['discharge'], ax=ax5)\n",
        "ax5.set_title('River Discharges')\n",
        "\n",
        "plt.show()"
      ]
    },
    {
      "cell_type": "code",
      "execution_count": 11,
      "metadata": {},
      "outputs": [
        {
          "data": {
            "image/png": "[encoded data removed]",
            "text/plain": [
              "<Figure size 1080x360 with 2 Axes>"
            ]
          },
          "metadata": {
            "needs_background": "light"
          },
          "output_type": "display_data"
        }
      ],
      "source": [
        "f2, (ax4, ax5) = plt.subplots(1, 2, figsize=(15, 5))\n",
        "f2.tight_layout()\n",
        "\n",
        "lag_plot(df['temp'], ax=ax4)\n",
        "ax4.set_title('Temperatures')\n",
        "\n",
        "lag_plot(df['discharge'], ax=ax5)\n",
        "ax5.set_title('River Discharges')\n",
        "\n",
        "plt.show()"
      ]
    },
    {
      "cell_type": "code",
      "execution_count": 7,
      "metadata": {},
      "outputs": [],
      "source": [
        "rawData = df.copy(deep=True)"
      ]
    },
    {
      "cell_type": "code",
      "execution_count": 8,
      "metadata": {},
      "outputs": [],
      "source": [
        "df['discharge'] = df['discharge'] - df['discharge'].shift(1)\n",
        "df['prec'] = df['prec'] - df['prec'].shift(1)\n",
        "data = df.dropna()"
      ]
    },
    {
      "cell_type": "code",
      "execution_count": 9,
      "metadata": {},
      "outputs": [],
      "source": [
        "# split data into train and test. We will need this later for VAR analysis\n",
        "msk = np.random.rand(len(data)) < 0.8\n",
        "train = data[msk]\n",
        "test = data[~msk]"
      ]
    },
    {
      "cell_type": "code",
      "execution_count": 139,
      "metadata": {},
      "outputs": [
        {
          "name": "stdout",
          "output_type": "stream",
          "text": [
            "ADF on River Discharges:\n",
            "ADF Statistic: -13.694083\n",
            "p-value: 0.000000\n",
            "Critical Values:\n",
            "\t1%: -3.436\n",
            "\t5%: -2.864\n",
            "\t10%: -2.568\n",
            "ADF on Precipitations:\n",
            "ADF Statistic: -14.715595\n",
            "p-value: 0.000000\n",
            "Critical Values:\n",
            "\t1%: -3.436\n",
            "\t5%: -2.864\n",
            "\t10%: -2.568\n",
            "ADF on Air Temperatures:\n",
            "ADF Statistic: -2.150628\n",
            "p-value: 0.224650\n",
            "Critical Values:\n",
            "\t1%: -3.436\n",
            "\t5%: -2.864\n",
            "\t10%: -2.568\n"
          ]
        }
      ],
      "source": [
        "## ADF Null hypothesis: there is a unit root, meaning series is non-stationary\n",
        "\n",
        "print('ADF on River Discharges:')\n",
        "DIS = np.array(data['discharge'])\n",
        "result = adfuller(DIS)\n",
        "print('ADF Statistic: %f' % result[0])\n",
        "print('p-value: %f' % result[1])\n",
        "print('Critical Values:')\n",
        "for key, value in result[4].items():\n",
        "    print('\\t%s: %.3f' % (key, value))\n",
        "    \n",
        "print('ADF on Precipitations:')\n",
        "PREC = np.array(data['prec'])\n",
        "result = adfuller(PREC)\n",
        "print('ADF Statistic: %f' % result[0])\n",
        "print('p-value: %f' % result[1])\n",
        "print('Critical Values:')\n",
        "for key, value in result[4].items():\n",
        "    print('\\t%s: %.3f' % (key, value))\n",
        "\n",
        "\n",
        "print('ADF on Air Temperatures:')\n",
        "TEMP = np.array(data['temp'])\n",
        "result = adfuller(TEMP)\n",
        "print('ADF Statistic: %f' % result[0])\n",
        "print('p-value: %f' % result[1])\n",
        "print('Critical Values:')\n",
        "for key, value in result[4].items():\n",
        "    print('\\t%s: %.3f' % (key, value))"
      ]
    },
    {
      "cell_type": "code",
      "execution_count": 140,
      "metadata": {},
      "outputs": [
        {
          "name": "stdout",
          "output_type": "stream",
          "text": [
            "KPSS Statistic: 0.0488372895345779\n",
            "p-value: 0.1\n",
            "num lags: 96\n",
            "Critial Values:\n",
            "   10% : 0.347\n",
            "   5% : 0.463\n",
            "   2.5% : 0.574\n",
            "   1% : 0.739\n",
            "Result: The series is stationary\n",
            "Discharge River KPSS:\n",
            "None\n",
            "KPSS Statistic: 0.22465396772930518\n",
            "p-value: 0.1\n",
            "num lags: 19\n",
            "Critial Values:\n",
            "   10% : 0.347\n",
            "   5% : 0.463\n",
            "   2.5% : 0.574\n",
            "   1% : 0.739\n",
            "Result: The series is stationary\n",
            "Air Temperature KPSS:\n",
            "None\n",
            "KPSS Statistic: 0.04283382789884812\n",
            "p-value: 0.1\n",
            "num lags: 80\n",
            "Critial Values:\n",
            "   10% : 0.347\n",
            "   5% : 0.463\n",
            "   2.5% : 0.574\n",
            "   1% : 0.739\n",
            "Result: The series is stationary\n",
            "Precipitations KPSS:\n",
            "None\n"
          ]
        },
        {
          "name": "stderr",
          "output_type": "stream",
          "text": [
            "/Users/kode/Desktop/Copernicus-river-discharges/venv/lib/python3.9/site-packages/statsmodels/tsa/stattools.py:2022: InterpolationWarning: The test statistic is outside of the range of p-values available in the\n",
            "look-up table. The actual p-value is greater than the p-value returned.\n",
            "\n",
            "  warnings.warn(\n",
            "/Users/kode/Desktop/Copernicus-river-discharges/venv/lib/python3.9/site-packages/statsmodels/tsa/stattools.py:2022: InterpolationWarning: The test statistic is outside of the range of p-values available in the\n",
            "look-up table. The actual p-value is greater than the p-value returned.\n",
            "\n",
            "  warnings.warn(\n",
            "/Users/kode/Desktop/Copernicus-river-discharges/venv/lib/python3.9/site-packages/statsmodels/tsa/stattools.py:2022: InterpolationWarning: The test statistic is outside of the range of p-values available in the\n",
            "look-up table. The actual p-value is greater than the p-value returned.\n",
            "\n",
            "  warnings.warn(\n"
          ]
        }
      ],
      "source": [
        "## KPSS Null hypothesis: there is a no unit root, meaning series is stationary\n",
        "def kpss_test(series, **kw):    \n",
        "    statistic, p_value, n_lags, critical_values = kpss(series, **kw)\n",
        "    # Format Output\n",
        "    print(f'KPSS Statistic: {statistic}')\n",
        "    print(f'p-value: {p_value}')\n",
        "    print(f'num lags: {n_lags}')\n",
        "    print('Critial Values:')\n",
        "    for key, value in critical_values.items():\n",
        "        print(f'   {key} : {value}')\n",
        "    print(f'Result: The series is {\"not \" if p_value < 0.05 else \"\"}stationary')\n",
        "\n",
        "print('Discharge River KPSS:\\n{}'.format(kpss_test(DIS)))\n",
        "print('Air Temperature KPSS:\\n{}'.format(kpss_test(TEMP)))\n",
        "print('Precipitations KPSS:\\n{}'.format(kpss_test(PREC)))\n"
      ]
    },
    {
      "cell_type": "code",
      "execution_count": 131,
      "metadata": {},
      "outputs": [
        {
          "data": {
            "image/png": "[encoded data removed]",
            "text/plain": [
              "<Figure size 1080x360 with 2 Axes>"
            ]
          },
          "metadata": {
            "needs_background": "light"
          },
          "output_type": "display_data"
        }
      ],
      "source": [
        "f2, (ax4, ax5) = plt.subplots(1, 2, figsize=(15, 5))\n",
        "f2.tight_layout()\n",
        "\n",
        "lag_plot(data['prec'], ax=ax4)\n",
        "ax4.set_title('Precipitations')\n",
        "\n",
        "lag_plot(data['discharge'], ax=ax5)\n",
        "ax5.set_title('Discharge')\n",
        "\n",
        "plt.show()"
      ]
    },
    {
      "cell_type": "code",
      "execution_count": 10,
      "metadata": {},
      "outputs": [
        {
          "data": {
            "text/html": [
              "<div>\n",
              "<style scoped>\n",
              "    .dataframe tbody tr th:only-of-type {\n",
              "        vertical-align: middle;\n",
              "    }\n",
              "\n",
              "    .dataframe tbody tr th {\n",
              "        vertical-align: top;\n",
              "    }\n",
              "\n",
              "    .dataframe thead th {\n",
              "        text-align: right;\n",
              "    }\n",
              "</style>\n",
              "<table border=\"1\" class=\"dataframe\">\n",
              "  <thead>\n",
              "    <tr style=\"text-align: right;\">\n",
              "      <th></th>\n",
              "      <th>time</th>\n",
              "      <th>lat</th>\n",
              "      <th>lon</th>\n",
              "      <th>discharge</th>\n",
              "      <th>temp</th>\n",
              "      <th>prec</th>\n",
              "    </tr>\n",
              "  </thead>\n",
              "  <tbody>\n",
              "    <tr>\n",
              "      <th>3259596</th>\n",
              "      <td>2016-01-01 12:00:00</td>\n",
              "      <td>41.23425</td>\n",
              "      <td>13.701608</td>\n",
              "      <td>0.086914</td>\n",
              "      <td>8.761499</td>\n",
              "      <td>0.0</td>\n",
              "    </tr>\n",
              "    <tr>\n",
              "      <th>3259597</th>\n",
              "      <td>2016-01-02 12:00:00</td>\n",
              "      <td>41.23425</td>\n",
              "      <td>13.701608</td>\n",
              "      <td>0.085938</td>\n",
              "      <td>8.330347</td>\n",
              "      <td>0.0</td>\n",
              "    </tr>\n",
              "    <tr>\n",
              "      <th>3259598</th>\n",
              "      <td>2016-01-03 12:00:00</td>\n",
              "      <td>41.23425</td>\n",
              "      <td>13.701608</td>\n",
              "      <td>0.367188</td>\n",
              "      <td>7.056696</td>\n",
              "      <td>0.0</td>\n",
              "    </tr>\n",
              "    <tr>\n",
              "      <th>3259599</th>\n",
              "      <td>2016-01-04 12:00:00</td>\n",
              "      <td>41.23425</td>\n",
              "      <td>13.701608</td>\n",
              "      <td>0.29834</td>\n",
              "      <td>9.670282</td>\n",
              "      <td>0.000001</td>\n",
              "    </tr>\n",
              "    <tr>\n",
              "      <th>3259600</th>\n",
              "      <td>2016-01-05 12:00:00</td>\n",
              "      <td>41.23425</td>\n",
              "      <td>13.701608</td>\n",
              "      <td>0.381836</td>\n",
              "      <td>12.275537</td>\n",
              "      <td>0.000028</td>\n",
              "    </tr>\n",
              "  </tbody>\n",
              "</table>\n",
              "</div>"
            ],
            "text/plain": [
              "                        time       lat        lon discharge       temp  \\\n",
              "3259596  2016-01-01 12:00:00  41.23425  13.701608  0.086914   8.761499   \n",
              "3259597  2016-01-02 12:00:00  41.23425  13.701608  0.085938   8.330347   \n",
              "3259598  2016-01-03 12:00:00  41.23425  13.701608  0.367188   7.056696   \n",
              "3259599  2016-01-04 12:00:00  41.23425  13.701608   0.29834   9.670282   \n",
              "3259600  2016-01-05 12:00:00  41.23425  13.701608  0.381836  12.275537   \n",
              "\n",
              "             prec  \n",
              "3259596       0.0  \n",
              "3259597       0.0  \n",
              "3259598       0.0  \n",
              "3259599  0.000001  \n",
              "3259600  0.000028  "
            ]
          },
          "execution_count": 10,
          "metadata": {},
          "output_type": "execute_result"
        }
      ],
      "source": [
        "rawData = rawData.dropna()\n",
        "rawData.head()"
      ]
    },
    {
      "cell_type": "code",
      "execution_count": 19,
      "metadata": {},
      "outputs": [],
      "source": [
        "rawData2 = rawData.copy(deep=True)\n",
        "rawData2['prec'] = rawData2['prec'].astype(float)\n",
        "rawData2['temp'] = rawData2['temp'].astype(float)\n",
        "rawData2['discharge'] = rawData2['discharge'].astype(float)\n",
        "rawData2['lat'] = rawData2['lat'].astype(float)\n",
        "rawData2['lon'] = rawData2['lon'].astype(float)\n",
        "rawData2['time'] = pd.to_datetime(rawData['time'], format = '%Y-%m-%d %H:%M:%S')"
      ]
    },
    {
      "cell_type": "code",
      "execution_count": 20,
      "metadata": {},
      "outputs": [],
      "source": [
        "rawData2.index = rawData2.time\n",
        "rawData2.drop(columns=['time'], axis=1, inplace=True)"
      ]
    },
    {
      "cell_type": "code",
      "execution_count": 21,
      "metadata": {},
      "outputs": [],
      "source": [
        "# training and validation splitting \n",
        "train = rawData2[:int(0.8*(len(data)))]\n",
        "valid = rawData2[int(0.8*(len(data))):]"
      ]
    },
    {
      "cell_type": "code",
      "execution_count": 221,
      "metadata": {},
      "outputs": [
        {
          "name": "stdout",
          "output_type": "stream",
          "text": [
            "Lag Order = 1\n",
            "AIC :  -28.452597497406888\n",
            "BIC :  -28.452576098619147\n",
            "FPE :  4.397379131475364e-13\n",
            "HQIC:  -28.45259223991311 \n",
            "\n",
            "Lag Order = 2\n",
            "AIC :  -28.58087730701893\n",
            "BIC :  -28.58083807590631\n",
            "FPE :  3.867966442586772e-13\n",
            "HQIC:  -28.58086766827989 \n",
            "\n",
            "Lag Order = 3\n",
            "AIC :  -28.650768668053818\n",
            "BIC :  -28.650711604614727\n",
            "FPE :  3.6068598309067543e-13\n",
            "HQIC:  -28.650754648069107 \n",
            "\n",
            "Lag Order = 4\n",
            "AIC :  -28.697765740101953\n",
            "BIC :  -28.697690844334794\n",
            "FPE :  3.441269585400025e-13\n",
            "HQIC:  -28.697747338871164 \n",
            "\n",
            "Lag Order = 5\n",
            "AIC :  -28.721238245402176\n",
            "BIC :  -28.72114551730535\n",
            "FPE :  3.3614349912135427e-13\n",
            "HQIC:  -28.721215462924903 \n",
            "\n",
            "Lag Order = 6\n",
            "AIC :  -28.73229691884102\n",
            "BIC :  -28.732186358412925\n",
            "FPE :  3.324466765875005e-13\n",
            "HQIC:  -28.732269755116853 \n",
            "\n",
            "Lag Order = 7\n",
            "AIC :  -28.744674986298744\n",
            "BIC :  -28.744546593537788\n",
            "FPE :  3.2835699260783534e-13\n",
            "HQIC:  -28.74464344132728 \n",
            "\n",
            "Lag Order = 8\n",
            "AIC :  -28.764746514529225\n",
            "BIC :  -28.764600289433808\n",
            "FPE :  3.218320676235739e-13\n",
            "HQIC:  -28.76471058831006 \n",
            "\n",
            "Lag Order = 9\n",
            "AIC :  -28.778700906178887\n",
            "BIC :  -28.778536848747414\n",
            "FPE :  3.173722860449736e-13\n",
            "HQIC:  -28.778660598711607 \n",
            "\n",
            "Lag Order = 10\n",
            "AIC :  -28.788095705965397\n",
            "BIC :  -28.787913816196266\n",
            "FPE :  3.1440459919952967e-13\n",
            "HQIC:  -28.788051017249597 \n",
            "\n",
            "Lag Order = 11\n",
            "AIC :  -28.794952945145432\n",
            "BIC :  -28.79475322303705\n",
            "FPE :  3.122560267203339e-13\n",
            "HQIC:  -28.794903875180704 \n",
            "\n",
            "Lag Order = 12\n",
            "AIC :  -28.80496070432531\n",
            "BIC :  -28.804743149876078\n",
            "FPE :  3.09146628608036e-13\n",
            "HQIC:  -28.80490725311125 \n",
            "\n"
          ]
        }
      ],
      "source": [
        "# obtain the lag P for VAR\n",
        "model = VAR(np.asarray(train)) # recall that rawData is w/o difference operation\n",
        "for i in [1,2,3,4,5,6,7,8,9,10,11,12]:\n",
        "    result = model.fit(i)\n",
        "    try:\n",
        "        print('Lag Order =', i)\n",
        "        print('AIC : ', result.aic)\n",
        "        print('BIC : ', result.bic)\n",
        "        print('FPE : ', result.fpe)\n",
        "        print('HQIC: ', result.hqic, '\\n')\n",
        "    except:\n",
        "        continue"
      ]
    },
    {
      "cell_type": "code",
      "execution_count": 23,
      "metadata": {},
      "outputs": [
        {
          "data": {
            "text/html": [
              "<div>\n",
              "<style scoped>\n",
              "    .dataframe tbody tr th:only-of-type {\n",
              "        vertical-align: middle;\n",
              "    }\n",
              "\n",
              "    .dataframe tbody tr th {\n",
              "        vertical-align: top;\n",
              "    }\n",
              "\n",
              "    .dataframe thead th {\n",
              "        text-align: right;\n",
              "    }\n",
              "</style>\n",
              "<table border=\"1\" class=\"dataframe\">\n",
              "  <thead>\n",
              "    <tr style=\"text-align: right;\">\n",
              "      <th></th>\n",
              "      <th>lat</th>\n",
              "      <th>lon</th>\n",
              "      <th>discharge</th>\n",
              "      <th>temp</th>\n",
              "      <th>prec</th>\n",
              "    </tr>\n",
              "    <tr>\n",
              "      <th>time</th>\n",
              "      <th></th>\n",
              "      <th></th>\n",
              "      <th></th>\n",
              "      <th></th>\n",
              "      <th></th>\n",
              "    </tr>\n",
              "  </thead>\n",
              "  <tbody>\n",
              "    <tr>\n",
              "      <th>2016-01-01 12:00:00</th>\n",
              "      <td>41.23425</td>\n",
              "      <td>13.701608</td>\n",
              "      <td>0.086914</td>\n",
              "      <td>8.761499</td>\n",
              "      <td>5.680093e-09</td>\n",
              "    </tr>\n",
              "    <tr>\n",
              "      <th>2016-01-02 12:00:00</th>\n",
              "      <td>41.23425</td>\n",
              "      <td>13.701608</td>\n",
              "      <td>0.085938</td>\n",
              "      <td>8.330347</td>\n",
              "      <td>2.505304e-10</td>\n",
              "    </tr>\n",
              "    <tr>\n",
              "      <th>2016-01-03 12:00:00</th>\n",
              "      <td>41.23425</td>\n",
              "      <td>13.701608</td>\n",
              "      <td>0.367188</td>\n",
              "      <td>7.056696</td>\n",
              "      <td>3.318990e-12</td>\n",
              "    </tr>\n",
              "    <tr>\n",
              "      <th>2016-01-04 12:00:00</th>\n",
              "      <td>41.23425</td>\n",
              "      <td>13.701608</td>\n",
              "      <td>0.298340</td>\n",
              "      <td>9.670282</td>\n",
              "      <td>1.194141e-06</td>\n",
              "    </tr>\n",
              "    <tr>\n",
              "      <th>2016-01-05 12:00:00</th>\n",
              "      <td>41.23425</td>\n",
              "      <td>13.701608</td>\n",
              "      <td>0.381836</td>\n",
              "      <td>12.275537</td>\n",
              "      <td>2.754594e-05</td>\n",
              "    </tr>\n",
              "    <tr>\n",
              "      <th>...</th>\n",
              "      <td>...</td>\n",
              "      <td>...</td>\n",
              "      <td>...</td>\n",
              "      <td>...</td>\n",
              "      <td>...</td>\n",
              "    </tr>\n",
              "    <tr>\n",
              "      <th>2018-05-21 12:00:00</th>\n",
              "      <td>41.23425</td>\n",
              "      <td>13.701608</td>\n",
              "      <td>0.167969</td>\n",
              "      <td>16.623621</td>\n",
              "      <td>3.488842e-05</td>\n",
              "    </tr>\n",
              "    <tr>\n",
              "      <th>2018-05-22 12:00:00</th>\n",
              "      <td>41.23425</td>\n",
              "      <td>13.701608</td>\n",
              "      <td>0.155273</td>\n",
              "      <td>16.077325</td>\n",
              "      <td>1.042146e-05</td>\n",
              "    </tr>\n",
              "    <tr>\n",
              "      <th>2018-05-23 12:00:00</th>\n",
              "      <td>41.23425</td>\n",
              "      <td>13.701608</td>\n",
              "      <td>2.577148</td>\n",
              "      <td>15.593164</td>\n",
              "      <td>3.661671e-07</td>\n",
              "    </tr>\n",
              "    <tr>\n",
              "      <th>2018-05-24 12:00:00</th>\n",
              "      <td>41.23425</td>\n",
              "      <td>13.701608</td>\n",
              "      <td>0.713867</td>\n",
              "      <td>16.605096</td>\n",
              "      <td>1.150639e-05</td>\n",
              "    </tr>\n",
              "    <tr>\n",
              "      <th>2018-05-25 12:00:00</th>\n",
              "      <td>41.23425</td>\n",
              "      <td>13.701608</td>\n",
              "      <td>0.359375</td>\n",
              "      <td>16.370905</td>\n",
              "      <td>1.087516e-08</td>\n",
              "    </tr>\n",
              "  </tbody>\n",
              "</table>\n",
              "<p>876 rows × 5 columns</p>\n",
              "</div>"
            ],
            "text/plain": [
              "                          lat        lon  discharge       temp          prec\n",
              "time                                                                        \n",
              "2016-01-01 12:00:00  41.23425  13.701608   0.086914   8.761499  5.680093e-09\n",
              "2016-01-02 12:00:00  41.23425  13.701608   0.085938   8.330347  2.505304e-10\n",
              "2016-01-03 12:00:00  41.23425  13.701608   0.367188   7.056696  3.318990e-12\n",
              "2016-01-04 12:00:00  41.23425  13.701608   0.298340   9.670282  1.194141e-06\n",
              "2016-01-05 12:00:00  41.23425  13.701608   0.381836  12.275537  2.754594e-05\n",
              "...                       ...        ...        ...        ...           ...\n",
              "2018-05-21 12:00:00  41.23425  13.701608   0.167969  16.623621  3.488842e-05\n",
              "2018-05-22 12:00:00  41.23425  13.701608   0.155273  16.077325  1.042146e-05\n",
              "2018-05-23 12:00:00  41.23425  13.701608   2.577148  15.593164  3.661671e-07\n",
              "2018-05-24 12:00:00  41.23425  13.701608   0.713867  16.605096  1.150639e-05\n",
              "2018-05-25 12:00:00  41.23425  13.701608   0.359375  16.370905  1.087516e-08\n",
              "\n",
              "[876 rows x 5 columns]"
            ]
          },
          "execution_count": 23,
          "metadata": {},
          "output_type": "execute_result"
        }
      ],
      "source": [
        "train"
      ]
    },
    {
      "cell_type": "code",
      "execution_count": 24,
      "metadata": {},
      "outputs": [],
      "source": [
        "train = train.drop(columns=['lat','lon'])"
      ]
    },
    {
      "cell_type": "code",
      "execution_count": 25,
      "metadata": {},
      "outputs": [
        {
          "name": "stderr",
          "output_type": "stream",
          "text": [
            "/Users/kode/Desktop/Copernicus-river-discharges/venv/lib/python3.9/site-packages/statsmodels/tsa/base/tsa_model.py:471: ValueWarning: No frequency information was provided, so inferred frequency D will be used.\n",
            "  self._init_dates(dates, freq)\n"
          ]
        }
      ],
      "source": [
        "# best lang = 2\n",
        "model = VAR(train)\n",
        "model_fitted = model.fit(2)"
      ]
    },
    {
      "cell_type": "code",
      "execution_count": 59,
      "metadata": {},
      "outputs": [
        {
          "name": "stdout",
          "output_type": "stream",
          "text": [
            "discharge : 2.01\n",
            "temp : 1.96\n",
            "prec : 2.02\n"
          ]
        }
      ],
      "source": [
        "out = durbin_watson(model_fitted.resid)\n",
        "\n",
        "for col, val in zip(train.columns, out):\n",
        "    print(col, ':', round(val, 2))"
      ]
    },
    {
      "cell_type": "code",
      "execution_count": 32,
      "metadata": {},
      "outputs": [
        {
          "name": "stdout",
          "output_type": "stream",
          "text": [
            "(-2.1522589085549035, 0.44910153488157467, array([-3.90647889, -3.3417208 , -3.04832906]))\n"
          ]
        }
      ],
      "source": [
        "# I could not perform Johansen's test. Instead I check for co-integration using t-statistics\n",
        "result = ts.coint(data['temp'], data['discharge'])\n",
        "print(result)"
      ]
    },
    {
      "cell_type": "code",
      "execution_count": 26,
      "metadata": {},
      "outputs": [
        {
          "name": "stdout",
          "output_type": "stream",
          "text": [
            "2\n"
          ]
        },
        {
          "name": "stderr",
          "output_type": "stream",
          "text": [
            "/Users/kode/Desktop/Copernicus-river-discharges/venv/lib/python3.9/site-packages/statsmodels/tsa/base/tsa_model.py:471: ValueWarning: No frequency information was provided, so inferred frequency D will be used.\n",
            "  self._init_dates(dates, freq)\n"
          ]
        }
      ],
      "source": [
        "model = VAR(train)\n",
        "model_fitted = model.fit(2)\n",
        "# get the lag order\n",
        "lag_order = model_fitted.k_ar\n",
        "print(lag_order)"
      ]
    },
    {
      "cell_type": "code",
      "execution_count": 27,
      "metadata": {},
      "outputs": [
        {
          "name": "stdout",
          "output_type": "stream",
          "text": [
            "Y = discharge, X = discharge, P Values = [1.0, 1.0]\n",
            "Y = temp, X = discharge, P Values = [0.7828, 0.5927]\n",
            "Y = prec, X = discharge, P Values = [0.2961, 0.6069]\n",
            "Y = discharge, X = temp, P Values = [0.0002, 0.0018]\n",
            "Y = temp, X = temp, P Values = [1.0, 1.0]\n",
            "Y = prec, X = temp, P Values = [0.0318, 0.0095]\n",
            "Y = discharge, X = prec, P Values = [0.5136, 0.827]\n",
            "Y = temp, X = prec, P Values = [0.0018, 0.0046]\n",
            "Y = prec, X = prec, P Values = [1.0, 1.0]\n"
          ]
        }
      ],
      "source": [
        "from statsmodels.tsa.stattools import grangercausalitytests\n",
        "maxlag = lag_order #  because we got this value before. We are not suppose to add 1 to it\n",
        "test = 'ssr_chi2test'\n",
        "def grangers_causation_matrix(data, variables, test='ssr_chi2test', verbose=True):    \n",
        "    \"\"\"Application of the Granger Causality test on data using filtered parameters given\n",
        "    by the columns of the input dataframe. This function return the confusion matrix about the \n",
        "    causality relations between x and y where x (cols) causes y (rows).\n",
        "\n",
        "    Args:\n",
        "        data (pd.DataFrame): input dataframe\n",
        "        variables (np.Array): array of variables related to the time series of the granger causality testing\n",
        "        test (str, optional): Type of test related to the granger causality, values are internal of fixed values (ssr_ftest, ssr_chi2test, params_ftest, lrtest)\n",
        "        verbose (bool, optional): Verbose mode. Defaults to False.\n",
        "\n",
        "    Returns:\n",
        "        pd.DataFrame: It is a fixed DataFrame from pandas library where the current\n",
        "    \"\"\"\n",
        "    df = pd.DataFrame(np.zeros((len(variables), len(variables))), columns=variables, index=variables)\n",
        "    for c in df.columns:\n",
        "        for r in df.index:\n",
        "            test_result = grangercausalitytests(data[[r, c]], maxlag=maxlag, verbose=False)\n",
        "            p_values = [round(test_result[i+1][0][test][1],4) for i in range(maxlag)]\n",
        "            if verbose: print(f'Y = {r}, X = {c}, P Values = {p_values}')\n",
        "            min_p_value = np.min(p_values)\n",
        "            df.loc[r, c] = min_p_value\n",
        "    df.columns = [var + '_x' for var in variables]\n",
        "    df.index = [var + '_y' for var in variables]\n",
        "    return df\n",
        "\n",
        "o = grangers_causation_matrix(train, variables = train.columns)  "
      ]
    },
    {
      "cell_type": "code",
      "execution_count": 28,
      "metadata": {},
      "outputs": [
        {
          "name": "stdout",
          "output_type": "stream",
          "text": [
            "Granger causality on chi2test:\n",
            "             discharge_x  temp_x  prec_x\n",
            "discharge_y       1.0000  0.0002  0.5136\n",
            "temp_y            0.5927  1.0000  0.0018\n",
            "prec_y            0.2961  0.0095  1.0000\n",
            "\n",
            "Granger causality on lrtest:\n",
            "             discharge_x  temp_x  prec_x\n",
            "discharge_y       1.0000  0.0002  0.5137\n",
            "temp_y            0.5928  1.0000  0.0019\n",
            "prec_y            0.2962  0.0098  1.0000\n",
            "\n",
            "Granger causality on ssr_ftest:\n",
            "             discharge_x  temp_x  prec_x\n",
            "discharge_y       1.0000  0.0002  0.5145\n",
            "temp_y            0.5946  1.0000  0.0019\n",
            "prec_y            0.2972  0.0100  1.0000\n",
            "\n"
          ]
        }
      ],
      "source": [
        "print('Granger causality on chi2test:\\n{}\\n'.format(grangers_causation_matrix(train, variables = train.columns, verbose=False)))\n",
        "print('Granger causality on lrtest:\\n{}\\n'.format(grangers_causation_matrix(train, variables = train.columns, test='lrtest', verbose=False)))\n",
        "print('Granger causality on ssr_ftest:\\n{}\\n'.format(grangers_causation_matrix(train, variables = train.columns, test='ssr_ftest', verbose=False)))\n",
        "\n"
      ]
    },
    {
      "cell_type": "markdown",
      "metadata": {},
      "source": [
        "Final consideration about this phase is focussing on the correlation and causality-dependency between our values. In other terms, we considered possible dependency about values on one fields to each other included itself. In our experiments, we analyzed the possible features about the singular time series like stationality using ADF and KPSS tests and a possible visualization on lag plots. Finally, we executed some tests to secure about the serial residual correlation using Durbin Watson Statistics; and we didn't even have significant values. In conclusion, we have chosen the best lang according to the AIC values between 1 and 12 to fit the VAR model and we didn't modified the max lang because it was the same of the chosen one for the granger causality final test. Into the Granger Causality matrices, we can check possible causality-dependency: Precipitations and temperatures are cointegrated, so we can't consider their relation due to the mutual correlation; precipitation accepted the null-hypothesis on the maxlang p-value which is greater than 0.05, meanwhile temperatures rejected it (p_value = 0.002)."
      ]
    }
  ],
  "metadata": {
    "colab": {
      "collapsed_sections": [],
      "name": "Data_Aggregation.ipynb",
      "provenance": []
    },
    "interpreter": {
      "hash": "61dd6f4a29a373d56f8c78859884030380c2058189a710b24ec3694a5e109a10"
    },
    "kernelspec": {
      "display_name": "Python 3.9.12 ('venv': venv)",
      "language": "python",
      "name": "python3"
    },
    "language_info": {
      "codemirror_mode": {
        "name": "ipython",
        "version": 3
      },
      "file_extension": ".py",
      "mimetype": "text/x-python",
      "name": "python",
      "nbconvert_exporter": "python",
      "pygments_lexer": "ipython3",
      "version": "3.9.13"
    }
  },
  "nbformat": 4,
  "nbformat_minor": 0
}
