{
  "nbformat": 4,
  "nbformat_minor": 0,
  "metadata": {
    "colab": {
      "name": "Initial Exploratory Spatial Data Analysis",
      "provenance": [],
      "collapsed_sections": [],
      "machine_shape": "hm",
      "include_colab_link": true
    },
    "kernelspec": {
      "name": "python3",
      "display_name": "Python 3"
    },
    "language_info": {
      "name": "python"
    }
  },
  "cells": [
    {
      "cell_type": "markdown",
      "metadata": {
        "id": "view-in-github",
        "colab_type": "text"
      },
      "source": [
        "<a href=\"https://colab.research.google.com/github/kode-git/Copernicus-river-discharges/blob/main/Initial_Exploratory_Spatial_Data_Analysis.ipynb\" target=\"_parent\"><img src=\"https://colab.research.google.com/assets/colab-badge.svg\" alt=\"Open In Colab\"/></a>"
      ]
    },
    {
      "cell_type": "markdown",
      "source": [
        "# Initial Exploratory Spatial Data Analysis"
      ],
      "metadata": {
        "id": "yZFMn0o7-HzB"
      }
    },
    {
      "cell_type": "markdown",
      "source": [
        "## Library Dependencies"
      ],
      "metadata": {
        "id": "LDJZn5h8jnA7"
      }
    },
    {
      "cell_type": "code",
      "source": [
        "!pip install xarray \n",
        "!pip install netCDF4 dask bottleneck\n",
        "!pip install pandas\n",
        "!pip install geopandas\n",
        "!pip install cdsapi"
      ],
      "metadata": {
        "colab": {
          "base_uri": "https://localhost:8080/"
        },
        "id": "REN9dS_FnnK0",
        "outputId": "eeee5a84-f153-492f-e612-915ec2a1b9ff"
      },
      "execution_count": 18,
      "outputs": [
        {
          "output_type": "stream",
          "name": "stdout",
          "text": [
            "Requirement already satisfied: xarray in /usr/local/lib/python3.7/dist-packages (0.20.2)\n",
            "Requirement already satisfied: numpy>=1.18 in /usr/local/lib/python3.7/dist-packages (from xarray) (1.21.6)\n",
            "Requirement already satisfied: pandas>=1.1 in /usr/local/lib/python3.7/dist-packages (from xarray) (1.3.5)\n",
            "Requirement already satisfied: importlib-metadata in /usr/local/lib/python3.7/dist-packages (from xarray) (4.11.3)\n",
            "Requirement already satisfied: typing-extensions>=3.7 in /usr/local/lib/python3.7/dist-packages (from xarray) (4.2.0)\n",
            "Requirement already satisfied: pytz>=2017.3 in /usr/local/lib/python3.7/dist-packages (from pandas>=1.1->xarray) (2022.1)\n",
            "Requirement already satisfied: python-dateutil>=2.7.3 in /usr/local/lib/python3.7/dist-packages (from pandas>=1.1->xarray) (2.8.2)\n",
            "Requirement already satisfied: six>=1.5 in /usr/local/lib/python3.7/dist-packages (from python-dateutil>=2.7.3->pandas>=1.1->xarray) (1.15.0)\n",
            "Requirement already satisfied: zipp>=0.5 in /usr/local/lib/python3.7/dist-packages (from importlib-metadata->xarray) (3.8.0)\n",
            "Requirement already satisfied: netCDF4 in /usr/local/lib/python3.7/dist-packages (1.5.8)\n",
            "Requirement already satisfied: dask in /usr/local/lib/python3.7/dist-packages (2.12.0)\n",
            "Requirement already satisfied: bottleneck in /usr/local/lib/python3.7/dist-packages (1.3.4)\n",
            "Requirement already satisfied: numpy>=1.9 in /usr/local/lib/python3.7/dist-packages (from netCDF4) (1.21.6)\n",
            "Requirement already satisfied: cftime in /usr/local/lib/python3.7/dist-packages (from netCDF4) (1.6.0)\n",
            "Requirement already satisfied: pandas in /usr/local/lib/python3.7/dist-packages (1.3.5)\n",
            "Requirement already satisfied: numpy>=1.17.3 in /usr/local/lib/python3.7/dist-packages (from pandas) (1.21.6)\n",
            "Requirement already satisfied: pytz>=2017.3 in /usr/local/lib/python3.7/dist-packages (from pandas) (2022.1)\n",
            "Requirement already satisfied: python-dateutil>=2.7.3 in /usr/local/lib/python3.7/dist-packages (from pandas) (2.8.2)\n",
            "Requirement already satisfied: six>=1.5 in /usr/local/lib/python3.7/dist-packages (from python-dateutil>=2.7.3->pandas) (1.15.0)\n",
            "Requirement already satisfied: geopandas in /usr/local/lib/python3.7/dist-packages (0.10.2)\n",
            "Requirement already satisfied: pandas>=0.25.0 in /usr/local/lib/python3.7/dist-packages (from geopandas) (1.3.5)\n",
            "Requirement already satisfied: pyproj>=2.2.0 in /usr/local/lib/python3.7/dist-packages (from geopandas) (3.2.1)\n",
            "Requirement already satisfied: shapely>=1.6 in /usr/local/lib/python3.7/dist-packages (from geopandas) (1.8.2)\n",
            "Requirement already satisfied: fiona>=1.8 in /usr/local/lib/python3.7/dist-packages (from geopandas) (1.8.21)\n",
            "Requirement already satisfied: certifi in /usr/local/lib/python3.7/dist-packages (from fiona>=1.8->geopandas) (2021.10.8)\n",
            "Requirement already satisfied: attrs>=17 in /usr/local/lib/python3.7/dist-packages (from fiona>=1.8->geopandas) (21.4.0)\n",
            "Requirement already satisfied: six>=1.7 in /usr/local/lib/python3.7/dist-packages (from fiona>=1.8->geopandas) (1.15.0)\n",
            "Requirement already satisfied: munch in /usr/local/lib/python3.7/dist-packages (from fiona>=1.8->geopandas) (2.5.0)\n",
            "Requirement already satisfied: click>=4.0 in /usr/local/lib/python3.7/dist-packages (from fiona>=1.8->geopandas) (7.1.2)\n",
            "Requirement already satisfied: click-plugins>=1.0 in /usr/local/lib/python3.7/dist-packages (from fiona>=1.8->geopandas) (1.1.1)\n",
            "Requirement already satisfied: cligj>=0.5 in /usr/local/lib/python3.7/dist-packages (from fiona>=1.8->geopandas) (0.7.2)\n",
            "Requirement already satisfied: setuptools in /usr/local/lib/python3.7/dist-packages (from fiona>=1.8->geopandas) (57.4.0)\n",
            "Requirement already satisfied: numpy>=1.17.3 in /usr/local/lib/python3.7/dist-packages (from pandas>=0.25.0->geopandas) (1.21.6)\n",
            "Requirement already satisfied: python-dateutil>=2.7.3 in /usr/local/lib/python3.7/dist-packages (from pandas>=0.25.0->geopandas) (2.8.2)\n",
            "Requirement already satisfied: pytz>=2017.3 in /usr/local/lib/python3.7/dist-packages (from pandas>=0.25.0->geopandas) (2022.1)\n",
            "Requirement already satisfied: cdsapi in /usr/local/lib/python3.7/dist-packages (0.5.1)\n",
            "Requirement already satisfied: requests>=2.5.0 in /usr/local/lib/python3.7/dist-packages (from cdsapi) (2.23.0)\n",
            "Requirement already satisfied: tqdm in /usr/local/lib/python3.7/dist-packages (from cdsapi) (4.64.0)\n",
            "Requirement already satisfied: urllib3!=1.25.0,!=1.25.1,<1.26,>=1.21.1 in /usr/local/lib/python3.7/dist-packages (from requests>=2.5.0->cdsapi) (1.24.3)\n",
            "Requirement already satisfied: chardet<4,>=3.0.2 in /usr/local/lib/python3.7/dist-packages (from requests>=2.5.0->cdsapi) (3.0.4)\n",
            "Requirement already satisfied: idna<3,>=2.5 in /usr/local/lib/python3.7/dist-packages (from requests>=2.5.0->cdsapi) (2.10)\n",
            "Requirement already satisfied: certifi>=2017.4.17 in /usr/local/lib/python3.7/dist-packages (from requests>=2.5.0->cdsapi) (2021.10.8)\n"
          ]
        }
      ]
    },
    {
      "cell_type": "code",
      "source": [
        "# collections libraries\n",
        "import netCDF4 as nc4\n",
        "from netCDF4 import Dataset\n",
        "import xarray as xr\n",
        "import numpy as np\n",
        "\n",
        "# file management\n",
        "from glob import glob\n",
        "\n",
        "# utilities \n",
        "from datetime import datetime as dt\n",
        "\n",
        "# colab\n",
        "from google.colab import drive"
      ],
      "metadata": {
        "id": "NEr_60kVbUHS"
      },
      "execution_count": 65,
      "outputs": []
    },
    {
      "cell_type": "code",
      "source": [
        "drive.mount('/content/drive')"
      ],
      "metadata": {
        "colab": {
          "base_uri": "https://localhost:8080/"
        },
        "id": "eAzT_trZgcFB",
        "outputId": "da33a8cf-b57c-4f07-afb9-b064fdf917d1"
      },
      "execution_count": 20,
      "outputs": [
        {
          "output_type": "stream",
          "name": "stdout",
          "text": [
            "Drive already mounted at /content/drive; to attempt to forcibly remount, call drive.mount(\"/content/drive\", force_remount=True).\n"
          ]
        }
      ]
    },
    {
      "cell_type": "markdown",
      "source": [
        "## Samples Loading"
      ],
      "metadata": {
        "id": "_Cf6MRy0rFmq"
      }
    },
    {
      "cell_type": "code",
      "source": [
        "!chmod 777 /content/drive/MyDrive/Datasets/cs3-copernicus-datasets/cps3-copernicus-dataset-tpi-rdh/rdh/rdh_2022_2021.nc"
      ],
      "metadata": {
        "id": "iMhdDVYf6Iyd"
      },
      "execution_count": 24,
      "outputs": []
    },
    {
      "cell_type": "code",
      "source": [
        "nc = Dataset(\"/content/drive/MyDrive/Datasets/cs3-copernicus-datasets/cps3-copernicus-dataset-tpi-rdh/rdh/rdh_2022_2021.nc\", \"r\", \"NETCDF4\" )\n",
        "for dim in nc.dimensions.values():\n",
        "     print(dim, dim.isunlimited())"
      ],
      "metadata": {
        "colab": {
          "base_uri": "https://localhost:8080/"
        },
        "id": "VeFX3i9IyUj4",
        "outputId": "b4fa1424-363c-4f21-c9b6-83d209ff08f2"
      },
      "execution_count": 38,
      "outputs": [
        {
          "output_type": "stream",
          "name": "stdout",
          "text": [
            "<class 'netCDF4._netCDF4.Dimension'>: name = 'y', size = 950 False\n",
            "<class 'netCDF4._netCDF4.Dimension'>: name = 'x', size = 1000 False\n",
            "<class 'netCDF4._netCDF4.Dimension'>: name = 'time', size = 498 False\n"
          ]
        }
      ]
    },
    {
      "cell_type": "markdown",
      "source": [
        "We have 3 dimensions on data related to the coordinates (x,y) and the time from the time series of the dataset. Let's check the size for each dimension."
      ],
      "metadata": {
        "id": "YRziMv_I7GPi"
      }
    },
    {
      "cell_type": "code",
      "source": [
        "for name in nc.dimensions.keys():\n",
        "    dim = nc.variables[name]\n",
        "    print(name, dim.dtype, dim.size)"
      ],
      "metadata": {
        "colab": {
          "base_uri": "https://localhost:8080/"
        },
        "id": "jZKldflt7F2S",
        "outputId": "3cb0ba47-8573-459a-fa71-1aa4170f83da"
      },
      "execution_count": 40,
      "outputs": [
        {
          "output_type": "stream",
          "name": "stdout",
          "text": [
            "y float64 950\n",
            "x float64 1000\n",
            "time int64 498\n"
          ]
        }
      ]
    },
    {
      "cell_type": "markdown",
      "source": [
        "## Attributes Visualization"
      ],
      "metadata": {
        "id": "fRnRwC2Q9K03"
      }
    },
    {
      "cell_type": "code",
      "source": [
        "def print_ncattr(fid, key):\n",
        "    \"\"\"\n",
        "        Prints the NetCDF file attributes for a given key\n",
        "\n",
        "        Parameters: \n",
        "            * fid:  netCDF file identifier\n",
        "            * key:  unicode (a valid netCDF4.Dataset.variables key)\n",
        "    \"\"\"\n",
        "    try:\n",
        "        print('{}  -->'.format(key))\n",
        "        print(\"\\t {:>15}: {}\".format(\"type\", fid.variables[key].dtype))\n",
        "        for attr in fid.variables[key].ncattrs():\n",
        "            print('\\t {:>15}: {}'.format(attr, fid.variables[key].getncattr(attr)))\n",
        "    except KeyError:\n",
        "        print(\"\\t WARNING: {} does not contain variable attributes\".format(key))"
      ],
      "metadata": {
        "id": "fC6qdtzs8pG-"
      },
      "execution_count": 46,
      "outputs": []
    },
    {
      "cell_type": "code",
      "source": [
        "print(print_ncattr.__doc__)"
      ],
      "metadata": {
        "colab": {
          "base_uri": "https://localhost:8080/"
        },
        "id": "QLKOQI4m85i0",
        "outputId": "cf7c390c-fda7-4edf-f8d6-45fffe81d6a9"
      },
      "execution_count": 47,
      "outputs": [
        {
          "output_type": "stream",
          "name": "stdout",
          "text": [
            "\n",
            "        Prints the NetCDF file attributes for a given key\n",
            "\n",
            "        Parameters: \n",
            "            * fid:  netCDF file identifier\n",
            "            * key:  unicode (a valid netCDF4.Dataset.variables key)\n",
            "    \n"
          ]
        }
      ]
    },
    {
      "cell_type": "code",
      "source": [
        "for name in nc.variables.keys():\n",
        "    print_ncattr(nc, name)"
      ],
      "metadata": {
        "colab": {
          "base_uri": "https://localhost:8080/"
        },
        "id": "oYE-9qgO883R",
        "outputId": "4cf84ab5-de2c-4cae-dfd8-3eeab851f2ce"
      },
      "execution_count": 48,
      "outputs": [
        {
          "output_type": "stream",
          "name": "stdout",
          "text": [
            "y  -->\n",
            "\t            type: float64\n",
            "\t      _FillValue: nan\n",
            "\t           units: Meter\n",
            "\t       long_name: Y coordinate of projection\n",
            "\t   standard_name: projection_Y_coordinate\n",
            "x  -->\n",
            "\t            type: float64\n",
            "\t      _FillValue: nan\n",
            "\t           units: Meter\n",
            "\t       long_name: x coordinate of projection\n",
            "\t   standard_name: projection_x_coordinate\n",
            "time  -->\n",
            "\t            type: int64\n",
            "\t       long_name: initial time of forecast\n",
            "\t   standard_name: forecast_reference_time\n",
            "\t           units: seconds since 1970-01-01\n",
            "\t        calendar: proleptic_gregorian\n",
            "step  -->\n",
            "\t            type: float64\n",
            "\t      _FillValue: nan\n",
            "\t       long_name: time since forecast_reference_time\n",
            "\t   standard_name: forecast_period\n",
            "\t           units: hours\n",
            "surface  -->\n",
            "\t            type: float64\n",
            "\t      _FillValue: nan\n",
            "\t       long_name: original GRIB coordinate for key: level(surface)\n",
            "\t           units: 1\n",
            "latitude  -->\n",
            "\t            type: float32\n",
            "\t      _FillValue: nan\n",
            "\t    grid_mapping: lambert_azimuthal_equal_area\n",
            "\t       long_name: latitude\n",
            "\t   standard_name: latitude\n",
            "\t           units: degrees_north\n",
            "\t  esri_pe_string: PROJCS[\"ETRS_1989_LAEA\",GEOGCS[\"GCS_ETRS_1989\",DATUM[\"D_ETRS_1989\",SPHEROID[\"GRS_1980\",6378137.0,298.257222101]],PRIMEM[\"Greenwich\",0.0],UNIT[\"Degree\",0.0174532925199433]],PROJECTION[\"Lambert_Azimuthal_Equal_Area\"],PARAMETER[\"false_easting\",4321000.0],PARAMETER[\"false_northing\",3210000.0],PARAMETER[\"central_meridian\",10.0],PARAMETER[\"latitude_of_origin\",52.0],UNIT[\"Meter\",1.0]]\n",
            "longitude  -->\n",
            "\t            type: float32\n",
            "\t      _FillValue: nan\n",
            "\t    grid_mapping: lambert_azimuthal_equal_area\n",
            "\t       long_name: longitude\n",
            "\t   standard_name: longitude\n",
            "\t           units: degrees_east\n",
            "\t  esri_pe_string: PROJCS[\"ETRS_1989_LAEA\",GEOGCS[\"GCS_ETRS_1989\",DATUM[\"D_ETRS_1989\",SPHEROID[\"GRS_1980\",6378137.0,298.257222101]],PRIMEM[\"Greenwich\",0.0],UNIT[\"Degree\",0.0174532925199433]],PROJECTION[\"Lambert_Azimuthal_Equal_Area\"],PARAMETER[\"false_easting\",4321000.0],PARAMETER[\"false_northing\",3210000.0],PARAMETER[\"central_meridian\",10.0],PARAMETER[\"latitude_of_origin\",52.0],UNIT[\"Meter\",1.0]]\n",
            "valid_time  -->\n",
            "\t            type: float64\n",
            "\t      _FillValue: nan\n",
            "\t   standard_name: time\n",
            "\t       long_name: time\n",
            "\t           units: seconds since 1970-01-01\n",
            "\t        calendar: proleptic_gregorian\n",
            "dis06  -->\n",
            "\t            type: float32\n",
            "\t      _FillValue: nan\n",
            "\t    GRIB_paramId: 240023\n",
            "\t   GRIB_dataType: sfo\n",
            "\t GRIB_numberOfPoints: 950000\n",
            "\t GRIB_typeOfLevel: surface\n",
            "\t  GRIB_stepUnits: 1\n",
            "\t   GRIB_stepType: avg\n",
            "\t   GRIB_gridType: lambert_azimuthal_equal_area\n",
            "\t         GRIB_NV: 0\n",
            "\t     GRIB_cfName: unknown\n",
            "\t  GRIB_cfVarName: dis06\n",
            "\t GRIB_gridDefinitionDescription: Lambert azimuthal equal area projection\n",
            "\t GRIB_missingValue: 9999\n",
            "\t       GRIB_name: Mean discharge in the last 6 hours\n",
            "\t  GRIB_shortName: dis06\n",
            "\t      GRIB_units: m**3 s**-1\n",
            "\t       long_name: Mean discharge in the last 6 hours\n",
            "\t           units: m**3 s**-1\n",
            "\t   standard_name: unknown\n",
            "\t    grid_mapping: lambert_azimuthal_equal_area\n",
            "\t     coordinates: time step surface latitude longitude valid_time\n",
            "lambert_azimuthal_equal_area  -->\n",
            "\t            type: int32\n",
            "\t semi_major_axis: 6378137.0\n",
            "\t       EPSG_code: EPSG:3035\n",
            "\t latitude_of_projection_origin: 52.0\n",
            "\t inverse_flattening: 298.257223563\n",
            "\t longitude_of_projection_origin: 10.0\n",
            "\t    proj4_params: +proj=laea +lat_0=52 +lon_0=10 +x_0=4321000 +y_0=3210000 +ellps=GRS80 +units=m +no_defs\n",
            "\t  false_northing: 3210000.0\n",
            "\t grid_mapping_name: lambert_azimuthal_equal_area\n",
            "\t   false_easting: 4321000.0\n",
            "\t     coordinates: step surface\n",
            "land_binary_mask  -->\n",
            "\t            type: int8\n",
            "\t   standard_name: land_binary_mask\n",
            "\t       long_name: masking_area\n",
            "\t           units: 1\n",
            "\t    grid_mapping: lambert_azimuthal_equal_area\n",
            "\t  esri_pe_string: PROJCS[\"ETRS_1989_LAEA\",GEOGCS[\"GCS_ETRS_1989\",DATUM[\"D_ETRS_1989\",SPHEROID[\"GRS_1980\",6378137.0,298.257222101]],PRIMEM[\"Greenwich\",0.0],UNIT[\"Degree\",0.0174532925199433]],PROJECTION[\"Lambert_Azimuthal_Equal_Area\"],PARAMETER[\"false_easting\",4321000.0],PARAMETER[\"false_northing\",3210000.0],PARAMETER[\"central_meridian\",10.0],PARAMETER[\"latitude_of_origin\",52.0],UNIT[\"Meter\",1.0]]\n",
            "\t     coordinates: longitude latitude step surface\n",
            "upArea  -->\n",
            "\t            type: float32\n",
            "\t      _FillValue: nan\n",
            "\t least_significant_digit: 2\n",
            "\t    grid_mapping: lambert_azimuthal_equal_area\n",
            "\t       long_name: upstream_area\n",
            "\t   standard_name: upstream\n",
            "\t           units: M2\n",
            "\t  esri_pe_string: PROJCS[\"ETRS_1989_LAEA\",GEOGCS[\"GCS_ETRS_1989\",DATUM[\"D_ETRS_1989\",SPHEROID[\"GRS_1980\",6378137.0,298.257222101]],PRIMEM[\"Greenwich\",0.0],UNIT[\"Degree\",0.0174532925199433]],PROJECTION[\"Lambert_Azimuthal_Equal_Area\"],PARAMETER[\"false_easting\",4321000.0],PARAMETER[\"false_northing\",3210000.0],PARAMETER[\"central_meridian\",10.0],PARAMETER[\"latitude_of_origin\",52.0],UNIT[\"Meter\",1.0]]\n",
            "\t    cell_methods: time: mean\n",
            "\t     coordinates: longitude latitude step surface\n"
          ]
        }
      ]
    },
    {
      "cell_type": "markdown",
      "source": [
        "## Variables Information"
      ],
      "metadata": {
        "id": "0KVI8N0Y_g3S"
      }
    },
    {
      "cell_type": "code",
      "source": [
        "!pip3 uninstall matplotlib -y\n",
        "!apt-get install python3-matplotlib"
      ],
      "metadata": {
        "colab": {
          "base_uri": "https://localhost:8080/"
        },
        "id": "A0IyefR4GOm-",
        "outputId": "29d40373-6090-479a-f0f6-aa35f88ba5e9"
      },
      "execution_count": 69,
      "outputs": [
        {
          "output_type": "stream",
          "name": "stdout",
          "text": [
            "Found existing installation: matplotlib 3.2.2\n",
            "Uninstalling matplotlib-3.2.2:\n",
            "  Successfully uninstalled matplotlib-3.2.2\n",
            "Reading package lists... Done\n",
            "Building dependency tree       \n",
            "Reading state information... Done\n",
            "The following package was automatically installed and is no longer required:\n",
            "  libnvidia-common-460\n",
            "Use 'apt autoremove' to remove it.\n",
            "The following additional packages will be installed:\n",
            "  fonts-lyx javascript-common libjs-jquery libjs-jquery-ui\n",
            "  python-matplotlib-data python3-cycler python3-dateutil python3-numpy\n",
            "  python3-olefile python3-pil python3-pyparsing python3-six python3-tz\n",
            "  ttf-bitstream-vera\n",
            "Suggested packages:\n",
            "  apache2 | lighttpd | httpd libjs-jquery-ui-docs python-cycler-doc dvipng\n",
            "  gir1.2-gtk-3.0 ghostscript inkscape ipython3 python-matplotlib-doc\n",
            "  python3-cairocffi python3-gi-cairo python3-gobject python3-nose\n",
            "  python3-pyqt4 python3-scipy python3-sip python3-tornado texlive-extra-utils\n",
            "  texlive-latex-extra ttf-staypuft python-numpy-doc python3-numpy-dbg\n",
            "  python-pil-doc python3-pil-dbg python-pyparsing-doc\n",
            "The following NEW packages will be installed:\n",
            "  fonts-lyx javascript-common libjs-jquery libjs-jquery-ui\n",
            "  python-matplotlib-data python3-cycler python3-dateutil python3-matplotlib\n",
            "  python3-numpy python3-olefile python3-pil python3-pyparsing python3-six\n",
            "  python3-tz ttf-bitstream-vera\n",
            "0 upgraded, 15 newly installed, 0 to remove and 42 not upgraded.\n",
            "Need to get 4,271 kB/11.0 MB of archives.\n",
            "After this operation, 40.3 MB of additional disk space will be used.\n",
            "Get:1 http://archive.ubuntu.com/ubuntu bionic/universe amd64 python3-matplotlib amd64 2.1.1-2ubuntu3 [3,907 kB]\n",
            "Get:2 http://archive.ubuntu.com/ubuntu bionic/main amd64 python3-olefile all 0.45.1-1 [33.3 kB]\n",
            "Get:3 http://archive.ubuntu.com/ubuntu bionic-updates/main amd64 python3-pil amd64 5.1.0-1ubuntu0.7 [331 kB]\n",
            "Fetched 1,487 kB in 1s (1,618 kB/s)\n",
            "Selecting previously unselected package fonts-lyx.\n",
            "(Reading database ... 155629 files and directories currently installed.)\n",
            "Preparing to unpack .../00-fonts-lyx_2.2.4-0ubuntu0.18.04.1_all.deb ...\n",
            "Unpacking fonts-lyx (2.2.4-0ubuntu0.18.04.1) ...\n",
            "Selecting previously unselected package javascript-common.\n",
            "Preparing to unpack .../01-javascript-common_11_all.deb ...\n",
            "Unpacking javascript-common (11) ...\n",
            "Selecting previously unselected package libjs-jquery.\n",
            "Preparing to unpack .../02-libjs-jquery_3.2.1-1_all.deb ...\n",
            "Unpacking libjs-jquery (3.2.1-1) ...\n",
            "Selecting previously unselected package libjs-jquery-ui.\n",
            "Preparing to unpack .../03-libjs-jquery-ui_1.12.1+dfsg-5_all.deb ...\n",
            "Unpacking libjs-jquery-ui (1.12.1+dfsg-5) ...\n",
            "Selecting previously unselected package ttf-bitstream-vera.\n",
            "Preparing to unpack .../04-ttf-bitstream-vera_1.10-8_all.deb ...\n",
            "Unpacking ttf-bitstream-vera (1.10-8) ...\n",
            "Selecting previously unselected package python-matplotlib-data.\n",
            "Preparing to unpack .../05-python-matplotlib-data_2.1.1-2ubuntu3_all.deb ...\n",
            "Unpacking python-matplotlib-data (2.1.1-2ubuntu3) ...\n",
            "Selecting previously unselected package python3-six.\n",
            "Preparing to unpack .../06-python3-six_1.11.0-2_all.deb ...\n",
            "Unpacking python3-six (1.11.0-2) ...\n",
            "Selecting previously unselected package python3-cycler.\n",
            "Preparing to unpack .../07-python3-cycler_0.10.0-1_all.deb ...\n",
            "Unpacking python3-cycler (0.10.0-1) ...\n",
            "Selecting previously unselected package python3-dateutil.\n",
            "Preparing to unpack .../08-python3-dateutil_2.6.1-1_all.deb ...\n",
            "Unpacking python3-dateutil (2.6.1-1) ...\n",
            "Selecting previously unselected package python3-pyparsing.\n",
            "Preparing to unpack .../09-python3-pyparsing_2.2.0+dfsg1-2_all.deb ...\n",
            "Unpacking python3-pyparsing (2.2.0+dfsg1-2) ...\n",
            "Selecting previously unselected package python3-tz.\n",
            "Preparing to unpack .../10-python3-tz_2018.3-2_all.deb ...\n",
            "Unpacking python3-tz (2018.3-2) ...\n",
            "Selecting previously unselected package python3-numpy.\n",
            "Preparing to unpack .../11-python3-numpy_1%3a1.13.3-2ubuntu1_amd64.deb ...\n",
            "Unpacking python3-numpy (1:1.13.3-2ubuntu1) ...\n",
            "Selecting previously unselected package python3-matplotlib.\n",
            "Preparing to unpack .../12-python3-matplotlib_2.1.1-2ubuntu3_amd64.deb ...\n",
            "Unpacking python3-matplotlib (2.1.1-2ubuntu3) ...\n",
            "Selecting previously unselected package python3-olefile.\n",
            "Preparing to unpack .../13-python3-olefile_0.45.1-1_all.deb ...\n",
            "Unpacking python3-olefile (0.45.1-1) ...\n",
            "Selecting previously unselected package python3-pil:amd64.\n",
            "Preparing to unpack .../14-python3-pil_5.1.0-1ubuntu0.7_amd64.deb ...\n",
            "Unpacking python3-pil:amd64 (5.1.0-1ubuntu0.7) ...\n",
            "Setting up libjs-jquery (3.2.1-1) ...\n",
            "Setting up python3-pil:amd64 (5.1.0-1ubuntu0.7) ...\n",
            "Setting up python3-olefile (0.45.1-1) ...\n",
            "Setting up python3-numpy (1:1.13.3-2ubuntu1) ...\n",
            "Setting up python3-six (1.11.0-2) ...\n",
            "Setting up python3-pyparsing (2.2.0+dfsg1-2) ...\n",
            "Setting up python3-cycler (0.10.0-1) ...\n",
            "Setting up libjs-jquery-ui (1.12.1+dfsg-5) ...\n",
            "Setting up ttf-bitstream-vera (1.10-8) ...\n",
            "Setting up javascript-common (11) ...\n",
            "Setting up python3-tz (2018.3-2) ...\n",
            "Setting up python3-dateutil (2.6.1-1) ...\n",
            "Setting up fonts-lyx (2.2.4-0ubuntu0.18.04.1) ...\n",
            "Setting up python-matplotlib-data (2.1.1-2ubuntu3) ...\n",
            "Setting up python3-matplotlib (2.1.1-2ubuntu3) ...\n",
            "Processing triggers for man-db (2.8.3-2ubuntu0.1) ...\n",
            "Processing triggers for fontconfig (2.12.6-0ubuntu2) ...\n"
          ]
        }
      ]
    },
    {
      "cell_type": "code",
      "source": [
        "lon = nc.variables['longitude'][:]\n",
        "lat = nc.variables['latitude'][:]\n",
        "time = nc.variables['time'][:]\n",
        "dis = nc.variables['dis06'][:]\n",
        "x = nc.variables['x'][:]\n",
        "y = nc.variables['y'][:]"
      ],
      "metadata": {
        "id": "B4bGaP7HAjUp"
      },
      "execution_count": 70,
      "outputs": []
    }
  ]
}