{
  "nbformat": 4,
  "nbformat_minor": 0,
  "metadata": {
    "colab": {
      "name": "Initial Exploratory Spatial Data Analysis",
      "provenance": [],
      "collapsed_sections": [],
      "machine_shape": "hm",
      "include_colab_link": true
    },
    "kernelspec": {
      "name": "python3",
      "display_name": "Python 3"
    },
    "language_info": {
      "name": "python"
    }
  },
  "cells": [
    {
      "cell_type": "markdown",
      "metadata": {
        "id": "view-in-github",
        "colab_type": "text"
      },
      "source": [
        "<a href=\"https://colab.research.google.com/github/kode-git/Copernicus-river-discharges/blob/main/Initial_Exploratory_Spatial_Data_Analysis.ipynb\" target=\"_parent\"><img src=\"https://colab.research.google.com/assets/colab-badge.svg\" alt=\"Open In Colab\"/></a>"
      ]
    },
    {
      "cell_type": "markdown",
      "source": [
        "# Initial Exploratory Spatial Data Analysis"
      ],
      "metadata": {
        "id": "yZFMn0o7-HzB"
      }
    },
    {
      "cell_type": "markdown",
      "source": [
        "## Library Dependencies"
      ],
      "metadata": {
        "id": "LDJZn5h8jnA7"
      }
    },
    {
      "cell_type": "code",
      "source": [
        "!pip install xarray \n",
        "!pip install netCDF4 dask bottleneck\n",
        "!pip install pandas\n",
        "!pip install geopandas\n",
        "!pip install cdsapi"
      ],
      "metadata": {
        "colab": {
          "base_uri": "https://localhost:8080/"
        },
        "id": "REN9dS_FnnK0",
        "outputId": "17c24f14-90da-4dbe-d02f-134c2a4a6b5f"
      },
      "execution_count": 3,
      "outputs": [
        {
          "output_type": "stream",
          "name": "stdout",
          "text": [
            "Requirement already satisfied: xarray in /usr/local/lib/python3.7/dist-packages (0.20.2)\n",
            "Requirement already satisfied: numpy>=1.18 in /usr/local/lib/python3.7/dist-packages (from xarray) (1.21.6)\n",
            "Requirement already satisfied: pandas>=1.1 in /usr/local/lib/python3.7/dist-packages (from xarray) (1.3.5)\n",
            "Requirement already satisfied: typing-extensions>=3.7 in /usr/local/lib/python3.7/dist-packages (from xarray) (4.2.0)\n",
            "Requirement already satisfied: importlib-metadata in /usr/local/lib/python3.7/dist-packages (from xarray) (4.11.3)\n",
            "Requirement already satisfied: pytz>=2017.3 in /usr/local/lib/python3.7/dist-packages (from pandas>=1.1->xarray) (2022.1)\n",
            "Requirement already satisfied: python-dateutil>=2.7.3 in /usr/local/lib/python3.7/dist-packages (from pandas>=1.1->xarray) (2.8.2)\n",
            "Requirement already satisfied: six>=1.5 in /usr/local/lib/python3.7/dist-packages (from python-dateutil>=2.7.3->pandas>=1.1->xarray) (1.16.0)\n",
            "Requirement already satisfied: zipp>=0.5 in /usr/local/lib/python3.7/dist-packages (from importlib-metadata->xarray) (3.8.0)\n",
            "Requirement already satisfied: netCDF4 in /usr/local/lib/python3.7/dist-packages (1.5.8)\n",
            "Requirement already satisfied: dask in /usr/local/lib/python3.7/dist-packages (2.12.0)\n",
            "Requirement already satisfied: bottleneck in /usr/local/lib/python3.7/dist-packages (1.3.4)\n",
            "Requirement already satisfied: numpy>=1.9 in /usr/local/lib/python3.7/dist-packages (from netCDF4) (1.21.6)\n",
            "Requirement already satisfied: cftime in /usr/local/lib/python3.7/dist-packages (from netCDF4) (1.6.0)\n",
            "Requirement already satisfied: pandas in /usr/local/lib/python3.7/dist-packages (1.3.5)\n",
            "Requirement already satisfied: numpy>=1.17.3 in /usr/local/lib/python3.7/dist-packages (from pandas) (1.21.6)\n",
            "Requirement already satisfied: python-dateutil>=2.7.3 in /usr/local/lib/python3.7/dist-packages (from pandas) (2.8.2)\n",
            "Requirement already satisfied: pytz>=2017.3 in /usr/local/lib/python3.7/dist-packages (from pandas) (2022.1)\n",
            "Requirement already satisfied: six>=1.5 in /usr/local/lib/python3.7/dist-packages (from python-dateutil>=2.7.3->pandas) (1.16.0)\n",
            "Requirement already satisfied: geopandas in /usr/local/lib/python3.7/dist-packages (0.10.2)\n",
            "Requirement already satisfied: pandas>=0.25.0 in /usr/local/lib/python3.7/dist-packages (from geopandas) (1.3.5)\n",
            "Requirement already satisfied: pyproj>=2.2.0 in /usr/local/lib/python3.7/dist-packages (from geopandas) (3.2.1)\n",
            "Requirement already satisfied: shapely>=1.6 in /usr/local/lib/python3.7/dist-packages (from geopandas) (1.8.2)\n",
            "Requirement already satisfied: fiona>=1.8 in /usr/local/lib/python3.7/dist-packages (from geopandas) (1.8.21)\n",
            "Requirement already satisfied: certifi in /usr/local/lib/python3.7/dist-packages (from fiona>=1.8->geopandas) (2021.10.8)\n",
            "Requirement already satisfied: click-plugins>=1.0 in /usr/local/lib/python3.7/dist-packages (from fiona>=1.8->geopandas) (1.1.1)\n",
            "Requirement already satisfied: setuptools in /usr/local/lib/python3.7/dist-packages (from fiona>=1.8->geopandas) (57.4.0)\n",
            "Requirement already satisfied: attrs>=17 in /usr/local/lib/python3.7/dist-packages (from fiona>=1.8->geopandas) (21.4.0)\n",
            "Requirement already satisfied: six>=1.7 in /usr/local/lib/python3.7/dist-packages (from fiona>=1.8->geopandas) (1.16.0)\n",
            "Requirement already satisfied: click>=4.0 in /usr/local/lib/python3.7/dist-packages (from fiona>=1.8->geopandas) (7.1.2)\n",
            "Requirement already satisfied: munch in /usr/local/lib/python3.7/dist-packages (from fiona>=1.8->geopandas) (2.5.0)\n",
            "Requirement already satisfied: cligj>=0.5 in /usr/local/lib/python3.7/dist-packages (from fiona>=1.8->geopandas) (0.7.2)\n",
            "Requirement already satisfied: pytz>=2017.3 in /usr/local/lib/python3.7/dist-packages (from pandas>=0.25.0->geopandas) (2022.1)\n",
            "Requirement already satisfied: python-dateutil>=2.7.3 in /usr/local/lib/python3.7/dist-packages (from pandas>=0.25.0->geopandas) (2.8.2)\n",
            "Requirement already satisfied: numpy>=1.17.3 in /usr/local/lib/python3.7/dist-packages (from pandas>=0.25.0->geopandas) (1.21.6)\n",
            "Requirement already satisfied: cdsapi in /usr/local/lib/python3.7/dist-packages (0.5.1)\n",
            "Requirement already satisfied: tqdm in /usr/local/lib/python3.7/dist-packages (from cdsapi) (4.64.0)\n",
            "Requirement already satisfied: requests>=2.5.0 in /usr/local/lib/python3.7/dist-packages (from cdsapi) (2.23.0)\n",
            "Requirement already satisfied: idna<3,>=2.5 in /usr/local/lib/python3.7/dist-packages (from requests>=2.5.0->cdsapi) (2.10)\n",
            "Requirement already satisfied: chardet<4,>=3.0.2 in /usr/local/lib/python3.7/dist-packages (from requests>=2.5.0->cdsapi) (3.0.4)\n",
            "Requirement already satisfied: urllib3!=1.25.0,!=1.25.1,<1.26,>=1.21.1 in /usr/local/lib/python3.7/dist-packages (from requests>=2.5.0->cdsapi) (1.24.3)\n",
            "Requirement already satisfied: certifi>=2017.4.17 in /usr/local/lib/python3.7/dist-packages (from requests>=2.5.0->cdsapi) (2021.10.8)\n"
          ]
        }
      ]
    },
    {
      "cell_type": "code",
      "source": [
        "# collections libraries\n",
        "import netCDF4 as nc4\n",
        "from netCDF4 import Dataset\n",
        "import xarray as xr\n",
        "import numpy as np\n",
        "\n",
        "# file management\n",
        "from glob import glob\n",
        "\n",
        "# utilities \n",
        "from datetime import datetime as dt\n",
        "\n",
        "# colab\n",
        "from google.colab import drive"
      ],
      "metadata": {
        "id": "NEr_60kVbUHS"
      },
      "execution_count": 49,
      "outputs": []
    },
    {
      "cell_type": "code",
      "source": [
        "drive.mount('/content/drive')"
      ],
      "metadata": {
        "colab": {
          "base_uri": "https://localhost:8080/"
        },
        "id": "eAzT_trZgcFB",
        "outputId": "3aba4905-28d5-4fc8-8512-9786c320e555"
      },
      "execution_count": 5,
      "outputs": [
        {
          "output_type": "stream",
          "name": "stdout",
          "text": [
            "Drive already mounted at /content/drive; to attempt to forcibly remount, call drive.mount(\"/content/drive\", force_remount=True).\n"
          ]
        }
      ]
    },
    {
      "cell_type": "markdown",
      "source": [
        "## Initial Exploratory on Spatial River Discharge Data (RDH)"
      ],
      "metadata": {
        "id": "_Cf6MRy0rFmq"
      }
    },
    {
      "cell_type": "code",
      "source": [
        "!chmod 777 /content/drive/MyDrive/Datasets/cs3-copernicus-datasets/cps3-copernicus-dataset-tpi-rdh/rdh/rdh_2022_2021.nc"
      ],
      "metadata": {
        "id": "iMhdDVYf6Iyd"
      },
      "execution_count": 6,
      "outputs": []
    },
    {
      "cell_type": "code",
      "source": [
        "nc = Dataset(\"/content/drive/MyDrive/Datasets/cs3-copernicus-datasets/cps3-copernicus-dataset-tpi-rdh/rdh/rdh_2022_2021.nc\", \"r\", \"NETCDF4\" )\n",
        "print(nc)"
      ],
      "metadata": {
        "colab": {
          "base_uri": "https://localhost:8080/"
        },
        "id": "VeFX3i9IyUj4",
        "outputId": "2226bbbd-aeb9-4ab1-d7ef-6d52af8ec6e2"
      },
      "execution_count": 76,
      "outputs": [
        {
          "output_type": "stream",
          "name": "stdout",
          "text": [
            "<class 'netCDF4._netCDF4.Dataset'>\n",
            "root group (NETCDF4 data model, file format HDF5):\n",
            "    GRIB_edition: 2\n",
            "    GRIB_centre: ecmf\n",
            "    GRIB_centreDescription: European Centre for Medium-Range Weather Forecasts\n",
            "    GRIB_subCentre: 0\n",
            "    Conventions: CF-1.7\n",
            "    institution: European Centre for Medium-Range Weather Forecasts\n",
            "    history: 2022-05-19T10:09 GRIB to CDM+CF via cfgrib-0.9.9.1/ecCodes-2.26.0 with {\"source\": \"/cache/tmp/f2dca5f7-24e2-412d-b6b4-35ab2f6adf02-adaptor.mars.external-1652954953.8218787-8213-15-tmp.grib\", \"filter_by_keys\": {}, \"encode_cf\": [\"parameter\", \"time\", \"geography\", \"vertical\"]}\n",
            "    dimensions(sizes): y(950), x(1000), time(498)\n",
            "    variables(dimensions): float64 y(y), float64 x(x), int64 time(time), float64 step(), float64 surface(), float32 latitude(y, x), float32 longitude(y, x), float64 valid_time(time), float32 dis06(time, y, x), int32 lambert_azimuthal_equal_area(), int8 land_binary_mask(y, x), float32 upArea(y, x)\n",
            "    groups: \n"
          ]
        }
      ]
    },
    {
      "cell_type": "markdown",
      "source": [
        "### Data Information"
      ],
      "metadata": {
        "id": "0KVI8N0Y_g3S"
      }
    },
    {
      "cell_type": "code",
      "source": [
        "print(nc.variables.keys())"
      ],
      "metadata": {
        "colab": {
          "base_uri": "https://localhost:8080/"
        },
        "id": "FpFxXFDSbKAx",
        "outputId": "c1079412-c01c-4126-9ea9-7de2fd7b0c58"
      },
      "execution_count": 70,
      "outputs": [
        {
          "output_type": "stream",
          "name": "stdout",
          "text": [
            "dict_keys(['y', 'x', 'time', 'step', 'surface', 'latitude', 'longitude', 'valid_time', 'dis06', 'lambert_azimuthal_equal_area', 'land_binary_mask', 'upArea'])\n"
          ]
        }
      ]
    },
    {
      "cell_type": "markdown",
      "source": [
        "Actually, we can find values corresponding to the keys of the dataset."
      ],
      "metadata": {
        "id": "cY9WvCUHbQ6K"
      }
    },
    {
      "cell_type": "code",
      "source": [
        "dis = nc.variables['dis06']\n",
        "print(dis)"
      ],
      "metadata": {
        "colab": {
          "base_uri": "https://localhost:8080/"
        },
        "id": "x8Y7r_g6bQFW",
        "outputId": "a98644cf-f782-4fe1-c451-ca17639bb43b"
      },
      "execution_count": 71,
      "outputs": [
        {
          "output_type": "stream",
          "name": "stdout",
          "text": [
            "<class 'netCDF4._netCDF4.Variable'>\n",
            "float32 dis06(time, y, x)\n",
            "    _FillValue: nan\n",
            "    GRIB_paramId: 240023\n",
            "    GRIB_dataType: sfo\n",
            "    GRIB_numberOfPoints: 950000\n",
            "    GRIB_typeOfLevel: surface\n",
            "    GRIB_stepUnits: 1\n",
            "    GRIB_stepType: avg\n",
            "    GRIB_gridType: lambert_azimuthal_equal_area\n",
            "    GRIB_NV: 0\n",
            "    GRIB_cfName: unknown\n",
            "    GRIB_cfVarName: dis06\n",
            "    GRIB_gridDefinitionDescription: Lambert azimuthal equal area projection\n",
            "    GRIB_missingValue: 9999\n",
            "    GRIB_name: Mean discharge in the last 6 hours\n",
            "    GRIB_shortName: dis06\n",
            "    GRIB_units: m**3 s**-1\n",
            "    long_name: Mean discharge in the last 6 hours\n",
            "    units: m**3 s**-1\n",
            "    standard_name: unknown\n",
            "    grid_mapping: lambert_azimuthal_equal_area\n",
            "    coordinates: time step surface latitude longitude valid_time\n",
            "unlimited dimensions: \n",
            "current shape = (498, 950, 1000)\n",
            "filling on\n"
          ]
        }
      ]
    },
    {
      "cell_type": "markdown",
      "source": [
        "The discharge value is an integer value formed by 3 dimensions - Time, X, Y. We can also get some other information about metadata like coordinates, standard name, units of semantic measurement. About their dimensions type, we can check their size."
      ],
      "metadata": {
        "id": "pV22DZEEbr3w"
      }
    },
    {
      "cell_type": "code",
      "source": [
        "for d in nc.dimensions.items():\n",
        "  print(d)"
      ],
      "metadata": {
        "colab": {
          "base_uri": "https://localhost:8080/"
        },
        "id": "DAnZPFQGco7q",
        "outputId": "a648227e-885a-4acc-bfd5-33f8e75a2bac"
      },
      "execution_count": 74,
      "outputs": [
        {
          "output_type": "stream",
          "name": "stdout",
          "text": [
            "('y', <class 'netCDF4._netCDF4.Dimension'>: name = 'y', size = 950)\n",
            "('x', <class 'netCDF4._netCDF4.Dimension'>: name = 'x', size = 1000)\n",
            "('time', <class 'netCDF4._netCDF4.Dimension'>: name = 'time', size = 498)\n"
          ]
        }
      ]
    },
    {
      "cell_type": "code",
      "source": [
        "dis.dimensions"
      ],
      "metadata": {
        "colab": {
          "base_uri": "https://localhost:8080/"
        },
        "id": "kdL5JsU1dNvr",
        "outputId": "cc41c161-34e2-4e3c-c31c-974da492c46f"
      },
      "execution_count": 77,
      "outputs": [
        {
          "output_type": "execute_result",
          "data": {
            "text/plain": [
              "('time', 'y', 'x')"
            ]
          },
          "metadata": {},
          "execution_count": 77
        }
      ]
    },
    {
      "cell_type": "markdown",
      "source": [
        "Printing the dimensions of the dicharge variable, we can check how it is formed to confirm our first assumption. "
      ],
      "metadata": {
        "id": "o0rwggtZdRHu"
      }
    },
    {
      "cell_type": "code",
      "source": [
        "dis.shape"
      ],
      "metadata": {
        "colab": {
          "base_uri": "https://localhost:8080/"
        },
        "id": "tanq8ZmYdP8T",
        "outputId": "09fd6a2d-71b9-49f7-8555-e3bab11ca99f"
      },
      "execution_count": 78,
      "outputs": [
        {
          "output_type": "execute_result",
          "data": {
            "text/plain": [
              "(498, 950, 1000)"
            ]
          },
          "metadata": {},
          "execution_count": 78
        }
      ]
    },
    {
      "cell_type": "markdown",
      "source": [
        "Similarly, we can also inspect the variables associated with each dimension:"
      ],
      "metadata": {
        "id": "KYY8XgmSde01"
      }
    },
    {
      "cell_type": "code",
      "source": [
        "time = nc.variables['time']\n",
        "x,y = nc.variables['x'], nc.variables['y']\n",
        "print(\"Time variables :->\", time)\n",
        "print(\"X coordinate :->\", x)\n",
        "print(\"Y coordinate :->\", y)"
      ],
      "metadata": {
        "colab": {
          "base_uri": "https://localhost:8080/"
        },
        "id": "owBgScFDdZZ2",
        "outputId": "21935d3a-0ff8-47c0-c465-6a14a1032de9"
      },
      "execution_count": 80,
      "outputs": [
        {
          "output_type": "stream",
          "name": "stdout",
          "text": [
            "Time variables :-> <class 'netCDF4._netCDF4.Variable'>\n",
            "int64 time(time)\n",
            "    long_name: initial time of forecast\n",
            "    standard_name: forecast_reference_time\n",
            "    units: seconds since 1970-01-01\n",
            "    calendar: proleptic_gregorian\n",
            "unlimited dimensions: \n",
            "current shape = (498,)\n",
            "filling on, default _FillValue of -9223372036854775806 used\n",
            "X coordinate :-> <class 'netCDF4._netCDF4.Variable'>\n",
            "float64 x(x)\n",
            "    _FillValue: nan\n",
            "    units: Meter\n",
            "    long_name: x coordinate of projection\n",
            "    standard_name: projection_x_coordinate\n",
            "unlimited dimensions: \n",
            "current shape = (1000,)\n",
            "filling on\n",
            "Y coordinate :-> <class 'netCDF4._netCDF4.Variable'>\n",
            "float64 y(y)\n",
            "    _FillValue: nan\n",
            "    units: Meter\n",
            "    long_name: Y coordinate of projection\n",
            "    standard_name: projection_Y_coordinate\n",
            "unlimited dimensions: \n",
            "current shape = (950,)\n",
            "filling on\n"
          ]
        }
      ]
    },
    {
      "cell_type": "markdown",
      "source": [
        "Here, we obtained some information about each of the three dimensions. The time is related to the initial moment of forecast of the discharges, meanwhile x and y are the coordinates in meters about the geographical projection. Dimensions are in 1D. So, we can access directly as a numpy array:"
      ],
      "metadata": {
        "id": "1cBUFQ9pd3pJ"
      }
    },
    {
      "cell_type": "code",
      "source": [
        "tm = time[:]\n",
        "print(tm[0:20])"
      ],
      "metadata": {
        "colab": {
          "base_uri": "https://localhost:8080/"
        },
        "id": "mL5hzn54d03Q",
        "outputId": "65c79cc1-9c6c-43f5-de51-d8f0e3e21369"
      },
      "execution_count": 82,
      "outputs": [
        {
          "output_type": "stream",
          "name": "stdout",
          "text": [
            "[1609502400 1609588800 1609675200 1609761600 1609848000 1609934400\n",
            " 1610020800 1610107200 1610193600 1610280000 1610366400 1610452800\n",
            " 1610539200 1610625600 1610712000 1610798400 1610884800 1610971200\n",
            " 1611057600 1611144000]\n"
          ]
        }
      ]
    },
    {
      "cell_type": "markdown",
      "source": [
        "This property is similar to other dimensions:"
      ],
      "metadata": {
        "id": "2CTxGWsNey49"
      }
    },
    {
      "cell_type": "code",
      "source": [
        "X = x[:]\n",
        "Y = y[:]\n",
        "print(x[0:10])\n",
        "print(y[0:10])\n",
        "print('Shape x : {}; shape y : {}'.format(X.shape, Y.shape))"
      ],
      "metadata": {
        "colab": {
          "base_uri": "https://localhost:8080/"
        },
        "id": "YehZKh0ce3t0",
        "outputId": "d5175cc9-55c5-44aa-bbb8-9bcab07d9a1d"
      },
      "execution_count": 83,
      "outputs": [
        {
          "output_type": "stream",
          "name": "stdout",
          "text": [
            "[2502500. 2507500. 2512500. 2517500. 2522500. 2527500. 2532500. 2537500.\n",
            " 2542500. 2547500.]\n",
            "[5497500. 5492500. 5487500. 5482500. 5477500. 5472500. 5467500. 5462500.\n",
            " 5457500. 5452500.]\n",
            "Shape x : (1000,); shape y : (950,)\n"
          ]
        }
      ]
    },
    {
      "cell_type": "markdown",
      "source": [
        "X and Y are not the geographical coordinates related to the river discharges but only for the 2D graphical projection. In the starting snippet, we analyzed data structure and we saw also a geographical reference for real coordinates: latitude and longitude."
      ],
      "metadata": {
        "id": "TdTaj-J8h4e6"
      }
    },
    {
      "cell_type": "code",
      "source": [
        "lat, lon = nc.variables['latitude'], nc.variables['longitude']\n",
        "print(\"Latitude :-> {}\".format(lat))\n",
        "print(\"Longitude :-> {}\".format(lon))\n",
        "print('Latitude values:')\n",
        "print(lat[:])\n",
        "print('Longitude values:')\n",
        "print(lon[:])"
      ],
      "metadata": {
        "colab": {
          "base_uri": "https://localhost:8080/"
        },
        "id": "g-LsEM72fKm1",
        "outputId": "8a309e47-c9b7-46d9-8698-b17b3c505390"
      },
      "execution_count": 92,
      "outputs": [
        {
          "output_type": "stream",
          "name": "stdout",
          "text": [
            "Latitude :-> <class 'netCDF4._netCDF4.Variable'>\n",
            "float32 latitude(y, x)\n",
            "    _FillValue: nan\n",
            "    grid_mapping: lambert_azimuthal_equal_area\n",
            "    long_name: latitude\n",
            "    standard_name: latitude\n",
            "    units: degrees_north\n",
            "    esri_pe_string: PROJCS[\"ETRS_1989_LAEA\",GEOGCS[\"GCS_ETRS_1989\",DATUM[\"D_ETRS_1989\",SPHEROID[\"GRS_1980\",6378137.0,298.257222101]],PRIMEM[\"Greenwich\",0.0],UNIT[\"Degree\",0.0174532925199433]],PROJECTION[\"Lambert_Azimuthal_Equal_Area\"],PARAMETER[\"false_easting\",4321000.0],PARAMETER[\"false_northing\",3210000.0],PARAMETER[\"central_meridian\",10.0],PARAMETER[\"latitude_of_origin\",52.0],UNIT[\"Meter\",1.0]]\n",
            "unlimited dimensions: \n",
            "current shape = (950, 1000)\n",
            "filling on\n",
            "Longitude :-> <class 'netCDF4._netCDF4.Variable'>\n",
            "float32 longitude(y, x)\n",
            "    _FillValue: nan\n",
            "    grid_mapping: lambert_azimuthal_equal_area\n",
            "    long_name: longitude\n",
            "    standard_name: longitude\n",
            "    units: degrees_east\n",
            "    esri_pe_string: PROJCS[\"ETRS_1989_LAEA\",GEOGCS[\"GCS_ETRS_1989\",DATUM[\"D_ETRS_1989\",SPHEROID[\"GRS_1980\",6378137.0,298.257222101]],PRIMEM[\"Greenwich\",0.0],UNIT[\"Degree\",0.0174532925199433]],PROJECTION[\"Lambert_Azimuthal_Equal_Area\"],PARAMETER[\"false_easting\",4321000.0],PARAMETER[\"false_northing\",3210000.0],PARAMETER[\"central_meridian\",10.0],PARAMETER[\"latitude_of_origin\",52.0],UNIT[\"Meter\",1.0]]\n",
            "unlimited dimensions: \n",
            "current shape = (950, 1000)\n",
            "filling on\n",
            "Latitude values:\n",
            "[[66.98215  67.0096   67.03701  ... 58.318253 58.282505 58.24674 ]\n",
            " [66.94809  66.9755   67.00287  ... 58.294014 58.2583   58.22256 ]\n",
            " [66.913994 66.94137  66.9687   ... 58.269733 58.234047 58.198338]\n",
            " ...\n",
            " [27.8924   27.902931 27.913433 ... 24.063248 24.045485 24.027697]\n",
            " [27.847626 27.85815  27.868647 ... 24.020557 24.002804 23.985023]\n",
            " [27.802845 27.813362 27.823853 ... 23.977858 23.960114 23.942343]]\n",
            "Longitude values:\n",
            "[[-35.034023 -34.944263 -34.85432  ...  73.82979   73.88378   73.937675]\n",
            " [-34.958313 -34.868584 -34.77867  ...  73.759285  73.81332   73.86726 ]\n",
            " [-34.88283  -34.793133 -34.703255 ...  73.6889    73.74297   73.79696 ]\n",
            " ...\n",
            " [ -8.247785  -8.198788  -8.149782 ...  41.076225  41.122272  41.168304]\n",
            " [ -8.238522  -8.189548  -8.140564 ...  41.061943  41.107975  41.15399 ]\n",
            " [ -8.229275  -8.180322  -8.131361 ...  41.047688  41.0937    41.139706]]\n"
          ]
        }
      ]
    },
    {
      "cell_type": "markdown",
      "source": [
        "## Initial Exploratory on Spatial Temperatures and Precipitations Data (TPI)"
      ],
      "metadata": {
        "id": "a8uVGj70qCPo"
      }
    },
    {
      "cell_type": "code",
      "source": [
        ""
      ],
      "metadata": {
        "id": "BBT6M3rVqEi-"
      },
      "execution_count": null,
      "outputs": []
    }
  ]
}