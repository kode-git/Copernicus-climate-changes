{
 "cells": [
  {
   "cell_type": "markdown",
   "metadata": {},
   "source": [
    "<a href=\"\" target=\"_parent\"><img src=\"https://colab.research.google.com/assets/colab-badge.svg\" alt=\"Open In Colab\"/></a>"
   ]
  },
  {
   "cell_type": "markdown",
   "metadata": {},
   "source": [
    "<img src=\"./src/copernicus-logo.png\"><span style=\"margin-left: 40px\"></span><img src=\"./src/cds-logo.jpeg\">"
   ]
  },
  {
   "cell_type": "markdown",
   "metadata": {},
   "source": [
    "# Data Modelling"
   ]
  },
  {
   "cell_type": "markdown",
   "metadata": {},
   "source": [
    "During this phase, we will discuss about possibles models to predict discharge given a temperature and past history of a particular river location according to the result of the Granger Causality."
   ]
  },
  {
   "cell_type": "markdown",
   "metadata": {},
   "source": [
    "## Choice of the Model"
   ]
  },
  {
   "cell_type": "markdown",
   "metadata": {},
   "source": [
    "A wide array of methods are available for time series forecasting. One of the most commonly used is Autoregressive Moving Average (ARMA), a statistical model that predicts future values using past values. However, this method is flawed because it does not capture seasonal trends. It also assumes that the time series data is stationary, meaning that its statistical properties would not change over time. However, this type of behavior is an idealized assumption that does not hold in practice, which means ARMA may provide skewed results. Our ADF and KPSS tests give the applicability of this type; they defined that air temperature is stationary. However, the discharge does not follow the same property. An extension of ARMA is the Autoregressive Integrated Moving Average (ARIMA) model, which does not assume stationarity but still that the data exhibits little to no seasonality. Fortunately, the seasonal ARIMA (SARIMA) variant is a statistical model that can work with non-stationary data and capture some seasonality; so we can build a model following this pattern to implement an initial threshold, and we will carry out other considerations and other algorithms to improves experimental model and find out the best approach.\n"
   ]
  },
  {
   "cell_type": "markdown",
   "metadata": {},
   "source": [
    "## Libraries dependencies"
   ]
  },
  {
   "cell_type": "code",
   "execution_count": 13,
   "metadata": {},
   "outputs": [
    {
     "name": "stdout",
     "output_type": "stream",
     "text": [
      "Collecting seaborn\n",
      "  Using cached seaborn-0.11.2-py3-none-any.whl (292 kB)\n",
      "Requirement already satisfied: pandas>=0.23 in ./venv/lib/python3.9/site-packages (from seaborn) (1.4.2)\n",
      "Requirement already satisfied: scipy>=1.0 in ./venv/lib/python3.9/site-packages (from seaborn) (1.8.1)\n",
      "Requirement already satisfied: matplotlib>=2.2 in ./venv/lib/python3.9/site-packages (from seaborn) (3.5.2)\n",
      "Requirement already satisfied: numpy>=1.15 in ./venv/lib/python3.9/site-packages (from seaborn) (1.22.4)\n",
      "Requirement already satisfied: cycler>=0.10 in ./venv/lib/python3.9/site-packages (from matplotlib>=2.2->seaborn) (0.11.0)\n",
      "Requirement already satisfied: fonttools>=4.22.0 in ./venv/lib/python3.9/site-packages (from matplotlib>=2.2->seaborn) (4.33.3)\n",
      "Requirement already satisfied: pillow>=6.2.0 in ./venv/lib/python3.9/site-packages (from matplotlib>=2.2->seaborn) (9.1.1)\n",
      "Requirement already satisfied: kiwisolver>=1.0.1 in ./venv/lib/python3.9/site-packages (from matplotlib>=2.2->seaborn) (1.4.2)\n",
      "Requirement already satisfied: python-dateutil>=2.7 in ./venv/lib/python3.9/site-packages (from matplotlib>=2.2->seaborn) (2.8.2)\n",
      "Requirement already satisfied: pyparsing>=2.2.1 in ./venv/lib/python3.9/site-packages (from matplotlib>=2.2->seaborn) (3.0.9)\n",
      "Requirement already satisfied: packaging>=20.0 in ./venv/lib/python3.9/site-packages (from matplotlib>=2.2->seaborn) (21.3)\n",
      "Requirement already satisfied: pytz>=2020.1 in ./venv/lib/python3.9/site-packages (from pandas>=0.23->seaborn) (2022.1)\n",
      "Requirement already satisfied: six>=1.5 in ./venv/lib/python3.9/site-packages (from python-dateutil>=2.7->matplotlib>=2.2->seaborn) (1.16.0)\n",
      "Installing collected packages: seaborn\n",
      "Successfully installed seaborn-0.11.2\n",
      "\u001b[33mWARNING: You are using pip version 22.0.4; however, version 22.1.1 is available.\n",
      "You should consider upgrading via the '/Users/kode/Desktop/Copernicus-river-discharges/venv/bin/python -m pip install --upgrade pip' command.\u001b[0m\u001b[33m\n",
      "\u001b[0mNote: you may need to restart the kernel to use updated packages.\n"
     ]
    }
   ],
   "source": [
    "%pip install seaborn\n",
    "\n",
    "#!pip install seaborn"
   ]
  },
  {
   "cell_type": "code",
   "execution_count": 16,
   "metadata": {},
   "outputs": [],
   "source": [
    "import datetime, json\n",
    "import pandas as pd \n",
    "import numpy as np\n",
    "import matplotlib.pyplot as plt\n",
    "import seaborn as sns\n",
    "pd.set_option('display.max_columns', None)\n",
    "pd.set_option('display.max_rows', None)"
   ]
  },
  {
   "cell_type": "code",
   "execution_count": 5,
   "metadata": {},
   "outputs": [],
   "source": [
    "j = 6\n",
    "df = pd.DataFrame(columns=['time', 'lat', 'lon', 'discharge', 'temp', 'prec'])\n",
    "for i in range(2011, 2022):\n",
    "    tmp = pd.read_csv(\"samples/italy-dtp-{}-{}.csv\".format(i,j), usecols=['time', 'lat', 'lon', 'discharge', 'temp', 'prec'])\n",
    "    df = pd.concat([df, tmp])\n",
    "    j += 1"
   ]
  },
  {
   "cell_type": "code",
   "execution_count": 6,
   "metadata": {},
   "outputs": [
    {
     "data": {
      "text/html": [
       "<div>\n",
       "<style scoped>\n",
       "    .dataframe tbody tr th:only-of-type {\n",
       "        vertical-align: middle;\n",
       "    }\n",
       "\n",
       "    .dataframe tbody tr th {\n",
       "        vertical-align: top;\n",
       "    }\n",
       "\n",
       "    .dataframe thead th {\n",
       "        text-align: right;\n",
       "    }\n",
       "</style>\n",
       "<table border=\"1\" class=\"dataframe\">\n",
       "  <thead>\n",
       "    <tr style=\"text-align: right;\">\n",
       "      <th></th>\n",
       "      <th>time</th>\n",
       "      <th>lat</th>\n",
       "      <th>lon</th>\n",
       "      <th>discharge</th>\n",
       "      <th>temp</th>\n",
       "      <th>prec</th>\n",
       "    </tr>\n",
       "  </thead>\n",
       "  <tbody>\n",
       "    <tr>\n",
       "      <th>0</th>\n",
       "      <td>2011-01-01 12:00:00</td>\n",
       "      <td>44.750378</td>\n",
       "      <td>7.56052</td>\n",
       "      <td>11.211914</td>\n",
       "      <td>5.205774</td>\n",
       "      <td>0.0</td>\n",
       "    </tr>\n",
       "    <tr>\n",
       "      <th>1</th>\n",
       "      <td>2011-01-02 12:00:00</td>\n",
       "      <td>44.750378</td>\n",
       "      <td>7.56052</td>\n",
       "      <td>10.950195</td>\n",
       "      <td>4.364069</td>\n",
       "      <td>0.000006</td>\n",
       "    </tr>\n",
       "    <tr>\n",
       "      <th>2</th>\n",
       "      <td>2011-01-03 12:00:00</td>\n",
       "      <td>44.750378</td>\n",
       "      <td>7.56052</td>\n",
       "      <td>10.685547</td>\n",
       "      <td>6.473016</td>\n",
       "      <td>0.000002</td>\n",
       "    </tr>\n",
       "    <tr>\n",
       "      <th>3</th>\n",
       "      <td>2011-01-04 12:00:00</td>\n",
       "      <td>44.750378</td>\n",
       "      <td>7.56052</td>\n",
       "      <td>10.419922</td>\n",
       "      <td>8.097437</td>\n",
       "      <td>0.0</td>\n",
       "    </tr>\n",
       "    <tr>\n",
       "      <th>4</th>\n",
       "      <td>2011-01-05 12:00:00</td>\n",
       "      <td>44.750378</td>\n",
       "      <td>7.56052</td>\n",
       "      <td>10.15918</td>\n",
       "      <td>6.304498</td>\n",
       "      <td>0.0</td>\n",
       "    </tr>\n",
       "  </tbody>\n",
       "</table>\n",
       "</div>"
      ],
      "text/plain": [
       "                  time        lat      lon  discharge      temp      prec\n",
       "0  2011-01-01 12:00:00  44.750378  7.56052  11.211914  5.205774       0.0\n",
       "1  2011-01-02 12:00:00  44.750378  7.56052  10.950195  4.364069  0.000006\n",
       "2  2011-01-03 12:00:00  44.750378  7.56052  10.685547  6.473016  0.000002\n",
       "3  2011-01-04 12:00:00  44.750378  7.56052  10.419922  8.097437       0.0\n",
       "4  2011-01-05 12:00:00  44.750378  7.56052   10.15918  6.304498       0.0"
      ]
     },
     "execution_count": 6,
     "metadata": {},
     "output_type": "execute_result"
    }
   ],
   "source": [
    "df.head()"
   ]
  },
  {
   "cell_type": "code",
   "execution_count": 9,
   "metadata": {},
   "outputs": [
    {
     "data": {
      "text/html": [
       "<div>\n",
       "<style scoped>\n",
       "    .dataframe tbody tr th:only-of-type {\n",
       "        vertical-align: middle;\n",
       "    }\n",
       "\n",
       "    .dataframe tbody tr th {\n",
       "        vertical-align: top;\n",
       "    }\n",
       "\n",
       "    .dataframe thead th {\n",
       "        text-align: right;\n",
       "    }\n",
       "</style>\n",
       "<table border=\"1\" class=\"dataframe\">\n",
       "  <thead>\n",
       "    <tr style=\"text-align: right;\">\n",
       "      <th></th>\n",
       "      <th>time</th>\n",
       "      <th>lat</th>\n",
       "      <th>lon</th>\n",
       "      <th>discharge</th>\n",
       "      <th>temp</th>\n",
       "      <th>prec</th>\n",
       "    </tr>\n",
       "  </thead>\n",
       "  <tbody>\n",
       "    <tr>\n",
       "      <th>count</th>\n",
       "      <td>35788326</td>\n",
       "      <td>3.578833e+07</td>\n",
       "      <td>3.578833e+07</td>\n",
       "      <td>3.578833e+07</td>\n",
       "      <td>3.578833e+07</td>\n",
       "      <td>35788326.0</td>\n",
       "    </tr>\n",
       "    <tr>\n",
       "      <th>unique</th>\n",
       "      <td>4018</td>\n",
       "      <td>8.899000e+03</td>\n",
       "      <td>8.905000e+03</td>\n",
       "      <td>9.418870e+05</td>\n",
       "      <td>1.560222e+06</td>\n",
       "      <td>29903592.0</td>\n",
       "    </tr>\n",
       "    <tr>\n",
       "      <th>top</th>\n",
       "      <td>2011-01-01 12:00:00</td>\n",
       "      <td>4.666971e+01</td>\n",
       "      <td>9.002067e+00</td>\n",
       "      <td>9.765625e-04</td>\n",
       "      <td>1.226299e+01</td>\n",
       "      <td>0.0</td>\n",
       "    </tr>\n",
       "    <tr>\n",
       "      <th>freq</th>\n",
       "      <td>8907</td>\n",
       "      <td>8.036000e+03</td>\n",
       "      <td>8.036000e+03</td>\n",
       "      <td>6.753800e+04</td>\n",
       "      <td>7.600000e+01</td>\n",
       "      <td>3911611.0</td>\n",
       "    </tr>\n",
       "  </tbody>\n",
       "</table>\n",
       "</div>"
      ],
      "text/plain": [
       "                       time           lat           lon     discharge  \\\n",
       "count              35788326  3.578833e+07  3.578833e+07  3.578833e+07   \n",
       "unique                 4018  8.899000e+03  8.905000e+03  9.418870e+05   \n",
       "top     2011-01-01 12:00:00  4.666971e+01  9.002067e+00  9.765625e-04   \n",
       "freq                   8907  8.036000e+03  8.036000e+03  6.753800e+04   \n",
       "\n",
       "                temp        prec  \n",
       "count   3.578833e+07  35788326.0  \n",
       "unique  1.560222e+06  29903592.0  \n",
       "top     1.226299e+01         0.0  \n",
       "freq    7.600000e+01   3911611.0  "
      ]
     },
     "execution_count": 9,
     "metadata": {},
     "output_type": "execute_result"
    }
   ],
   "source": [
    "df.describe()"
   ]
  },
  {
   "cell_type": "markdown",
   "metadata": {},
   "source": [
    "From the Granger Causality, we found that precipitations don't generate causal dependency on the discharge, so we can avoid to consider this column on our model development."
   ]
  },
  {
   "cell_type": "code",
   "execution_count": 11,
   "metadata": {},
   "outputs": [],
   "source": [
    "df.drop(columns=['prec'], inplace=True) "
   ]
  },
  {
   "cell_type": "code",
   "execution_count": null,
   "metadata": {},
   "outputs": [],
   "source": [
    "df.index = pd.to_datetime(df['time'], format = '%Y-%m-%d %H:%M:%S')\n",
    "df.drop(columns=['time'])"
   ]
  },
  {
   "cell_type": "code",
   "execution_count": null,
   "metadata": {},
   "outputs": [],
   "source": [
    "plt.ylabel('Discharge')\n",
    "plt.xlabel('Time')\n",
    "plt.xticks(rotation=45)"
   ]
  },
  {
   "cell_type": "code",
   "execution_count": null,
   "metadata": {},
   "outputs": [],
   "source": []
  }
 ],
 "metadata": {
  "interpreter": {
   "hash": "61dd6f4a29a373d56f8c78859884030380c2058189a710b24ec3694a5e109a10"
  },
  "kernelspec": {
   "display_name": "Python 3.9.13 ('venv': venv)",
   "language": "python",
   "name": "python3"
  },
  "language_info": {
   "codemirror_mode": {
    "name": "ipython",
    "version": 3
   },
   "file_extension": ".py",
   "mimetype": "text/x-python",
   "name": "python",
   "nbconvert_exporter": "python",
   "pygments_lexer": "ipython3",
   "version": "3.9.13"
  },
  "orig_nbformat": 4
 },
 "nbformat": 4,
 "nbformat_minor": 2
}
