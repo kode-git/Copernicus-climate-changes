{
 "cells": [
  {
   "cell_type": "code",
   "execution_count": 1,
   "metadata": {},
   "outputs": [],
   "source": [
    "import datetime, json\n",
    "import pandas as pd \n",
    "import geopy\n",
    "import geopy.distance\n",
    "import json\n"
   ]
  },
  {
   "cell_type": "code",
   "execution_count": 2,
   "metadata": {},
   "outputs": [],
   "source": [
    "df = pd.read_csv('../../italy-dtp-2020-15.csv', header = 0, names=['days', 'time', 'lat', 'lon', 'discharge', 'temp', 'prec'])\n"
   ]
  },
  {
   "cell_type": "code",
   "execution_count": 3,
   "metadata": {},
   "outputs": [],
   "source": [
    "df_drop = df.drop(columns = ['days', 'time', 'discharge', 'temp', 'prec'], inplace=False)\n",
    "df_drop['coords'] = df_drop.apply(tuple, axis=1)\n",
    "\n"
   ]
  },
  {
   "cell_type": "code",
   "execution_count": 4,
   "metadata": {},
   "outputs": [
    {
     "data": {
      "text/html": [
       "<div>\n",
       "<style scoped>\n",
       "    .dataframe tbody tr th:only-of-type {\n",
       "        vertical-align: middle;\n",
       "    }\n",
       "\n",
       "    .dataframe tbody tr th {\n",
       "        vertical-align: top;\n",
       "    }\n",
       "\n",
       "    .dataframe thead th {\n",
       "        text-align: right;\n",
       "    }\n",
       "</style>\n",
       "<table border=\"1\" class=\"dataframe\">\n",
       "  <thead>\n",
       "    <tr style=\"text-align: right;\">\n",
       "      <th></th>\n",
       "      <th>lat</th>\n",
       "      <th>lon</th>\n",
       "      <th>coords</th>\n",
       "    </tr>\n",
       "  </thead>\n",
       "  <tbody>\n",
       "    <tr>\n",
       "      <th>0</th>\n",
       "      <td>44.750378</td>\n",
       "      <td>7.560520</td>\n",
       "      <td>(44.750378, 7.5605197)</td>\n",
       "    </tr>\n",
       "    <tr>\n",
       "      <th>1</th>\n",
       "      <td>44.750378</td>\n",
       "      <td>7.560520</td>\n",
       "      <td>(44.750378, 7.5605197)</td>\n",
       "    </tr>\n",
       "    <tr>\n",
       "      <th>2</th>\n",
       "      <td>44.750378</td>\n",
       "      <td>7.560520</td>\n",
       "      <td>(44.750378, 7.5605197)</td>\n",
       "    </tr>\n",
       "    <tr>\n",
       "      <th>3</th>\n",
       "      <td>44.750378</td>\n",
       "      <td>7.560520</td>\n",
       "      <td>(44.750378, 7.5605197)</td>\n",
       "    </tr>\n",
       "    <tr>\n",
       "      <th>4</th>\n",
       "      <td>44.750378</td>\n",
       "      <td>7.560520</td>\n",
       "      <td>(44.750378, 7.5605197)</td>\n",
       "    </tr>\n",
       "    <tr>\n",
       "      <th>...</th>\n",
       "      <td>...</td>\n",
       "      <td>...</td>\n",
       "      <td>...</td>\n",
       "    </tr>\n",
       "    <tr>\n",
       "      <th>3259957</th>\n",
       "      <td>41.234250</td>\n",
       "      <td>13.701608</td>\n",
       "      <td>(41.23425, 13.701608)</td>\n",
       "    </tr>\n",
       "    <tr>\n",
       "      <th>3259958</th>\n",
       "      <td>41.234250</td>\n",
       "      <td>13.701608</td>\n",
       "      <td>(41.23425, 13.701608)</td>\n",
       "    </tr>\n",
       "    <tr>\n",
       "      <th>3259959</th>\n",
       "      <td>41.234250</td>\n",
       "      <td>13.701608</td>\n",
       "      <td>(41.23425, 13.701608)</td>\n",
       "    </tr>\n",
       "    <tr>\n",
       "      <th>3259960</th>\n",
       "      <td>41.234250</td>\n",
       "      <td>13.701608</td>\n",
       "      <td>(41.23425, 13.701608)</td>\n",
       "    </tr>\n",
       "    <tr>\n",
       "      <th>3259961</th>\n",
       "      <td>41.234250</td>\n",
       "      <td>13.701608</td>\n",
       "      <td>(41.23425, 13.701608)</td>\n",
       "    </tr>\n",
       "  </tbody>\n",
       "</table>\n",
       "<p>3259962 rows × 3 columns</p>\n",
       "</div>"
      ],
      "text/plain": [
       "               lat        lon                  coords\n",
       "0        44.750378   7.560520  (44.750378, 7.5605197)\n",
       "1        44.750378   7.560520  (44.750378, 7.5605197)\n",
       "2        44.750378   7.560520  (44.750378, 7.5605197)\n",
       "3        44.750378   7.560520  (44.750378, 7.5605197)\n",
       "4        44.750378   7.560520  (44.750378, 7.5605197)\n",
       "...            ...        ...                     ...\n",
       "3259957  41.234250  13.701608   (41.23425, 13.701608)\n",
       "3259958  41.234250  13.701608   (41.23425, 13.701608)\n",
       "3259959  41.234250  13.701608   (41.23425, 13.701608)\n",
       "3259960  41.234250  13.701608   (41.23425, 13.701608)\n",
       "3259961  41.234250  13.701608   (41.23425, 13.701608)\n",
       "\n",
       "[3259962 rows x 3 columns]"
      ]
     },
     "execution_count": 4,
     "metadata": {},
     "output_type": "execute_result"
    }
   ],
   "source": [
    "df_drop"
   ]
  },
  {
   "cell_type": "code",
   "execution_count": 5,
   "metadata": {},
   "outputs": [
    {
     "data": {
      "text/plain": [
       "array([(44.750378, 7.5605197), (44.705326, 7.5624723),\n",
       "       (44.66027, 7.564421), ..., (41.324547, 13.706987),\n",
       "       (41.2794, 13.704295), (41.23425, 13.701608)], dtype=object)"
      ]
     },
     "execution_count": 5,
     "metadata": {},
     "output_type": "execute_result"
    }
   ],
   "source": [
    "ls = df_drop['coords'].unique()\n",
    "ls"
   ]
  },
  {
   "cell_type": "code",
   "execution_count": 6,
   "metadata": {},
   "outputs": [],
   "source": [
    "with open('interesting.geojson', 'r') as fd:\n",
    "    interest = json.load(fd)\n",
    "\n",
    "jsonObj = {\n",
    "    \"type\": \"FeatureCollection\",\n",
    "    \"features\": []\n",
    "}\n",
    "i = 0\n",
    "for l in ls:\n",
    "    ptCoord = geopy.Point(l[0], l[1])\n",
    "    for key in interest.keys():\n",
    "        coordList = interest[key]['geoms']['coordinates']\n",
    "        for coord in coordList:\n",
    "            ptRiver = geopy.Point(coord[0], coord[1])\n",
    "            dist = geopy.distance.distance(ptRiver, ptCoord).km\n",
    "            if dist <= 2.6 :\n",
    "                featureObj = {\n",
    "                    \"type\": \"Feature\",\n",
    "                    \"name\": key,\n",
    "                    \"id\": i,\n",
    "                    \"geometry\":{\n",
    "                        \"type\":\"Point\",\n",
    "                        \"coordinates\": [l[1], l[0]]\n",
    "                    }\n",
    "                }\n",
    "                i += 1\n",
    "                jsonObj[\"features\"].append(featureObj)\n",
    "                break\n",
    "with open ('points_new.geojson', 'w') as fout:\n",
    "    json.dump(jsonObj, fout)"
   ]
  }
 ],
 "metadata": {
  "interpreter": {
   "hash": "6e91d7251fb344e996def3e92284d431619133ca817cffa03ab54840799a3500"
  },
  "kernelspec": {
   "display_name": "Python 3.9.13 64-bit (windows store)",
   "language": "python",
   "name": "python3"
  },
  "language_info": {
   "codemirror_mode": {
    "name": "ipython",
    "version": 3
   },
   "file_extension": ".py",
   "mimetype": "text/x-python",
   "name": "python",
   "nbconvert_exporter": "python",
   "pygments_lexer": "ipython3",
   "version": "3.9.13"
  },
  "orig_nbformat": 4
 },
 "nbformat": 4,
 "nbformat_minor": 2
}
