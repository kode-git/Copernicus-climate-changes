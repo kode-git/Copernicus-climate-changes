{
 "cells": [
  {
   "cell_type": "code",
   "execution_count": 1,
   "metadata": {},
   "outputs": [],
   "source": [
    "import json"
   ]
  },
  {
   "cell_type": "code",
   "execution_count": 5,
   "metadata": {},
   "outputs": [],
   "source": [
    "fd = open('../points.geojson', encoding = 'cp850')\n",
    "riverpoints = json.load(fd)\n",
    "featureList = riverpoints[\"features\"]\n",
    "riverIds = ['Fiume Po', 'Po', 'Adige - Etsch', 'Fiume Adige', 'Adige', 'Tevere', 'Fiume Tevere', 'Adda', 'Fiume Adda', 'Oglio', 'Fiume Oglio', 'Tanaro', 'Fiume Tanaro', 'Ticino', 'Fiume Ticino', 'Arno', 'Piave', 'Fiume Reno']\n",
    "\n",
    "interestFeatureList = {}\n",
    "for id in riverIds:\n",
    "    for f in featureList: \n",
    "        if f['properties']['name'] == id:\n",
    "            name = f['properties']['name']\n",
    "            if name not in interestFeatureList:\n",
    "                interestFeatureList[name] = {}\n",
    "                interestFeatureList[name]['geoms'] = {}\n",
    "                interestFeatureList[name]['geoms']['type'] = 'Point'\n",
    "                interestFeatureList[name]['geoms']['coordinates'] = []\n",
    "            interestFeatureList[name]['geoms']['coordinates'].append([f['geometry']['coordinates'][1], f['geometry']['coordinates'][0]])\n",
    "\n",
    "with open('interesting.geojson', 'w') as fdout:\n",
    "    json.dump(interestFeatureList, fdout)"
   ]
  }
 ],
 "metadata": {
  "interpreter": {
   "hash": "6e91d7251fb344e996def3e92284d431619133ca817cffa03ab54840799a3500"
  },
  "kernelspec": {
   "display_name": "Python 3.9.13 64-bit (windows store)",
   "language": "python",
   "name": "python3"
  },
  "language_info": {
   "codemirror_mode": {
    "name": "ipython",
    "version": 3
   },
   "file_extension": ".py",
   "mimetype": "text/x-python",
   "name": "python",
   "nbconvert_exporter": "python",
   "pygments_lexer": "ipython3",
   "version": "3.9.13"
  },
  "orig_nbformat": 4
 },
 "nbformat": 4,
 "nbformat_minor": 2
}
